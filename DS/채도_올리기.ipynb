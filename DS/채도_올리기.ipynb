{
 "cells": [
  {
   "cell_type": "markdown",
   "id": "f1ac0241-7604-47cd-86d1-ebd7bee2449e",
   "metadata": {},
   "source": [
    "# 채도 올리기 \n",
    "## 1. PIL 이용한 채도 올리기 \n",
    "##### 이 코드 실행 해 본 결과 밝기가 높아져서 사진이 깨지는 현상 발생 "
   ]
  },
  {
   "cell_type": "code",
   "execution_count": 14,
   "id": "4dc90886-b228-4a68-b940-7ee49ee21174",
   "metadata": {},
   "outputs": [],
   "source": [
    "from PIL import Image\n",
    "import os\n",
    "\n",
    "# 이미지가 있는 폴더 경로\n",
    "folder_path = 'C:\\\\Users\\\\김현\\\\Final_Project\\\\joyful'\n",
    "\n",
    "# 폴더의 모든 파일을 순회\n",
    "for filename in os.listdir(folder_path):\n",
    "    if filename.endswith(\".jpg\"): # 이미지 파일 확장자에 따라서 수정 필요\n",
    "        # 이미지 불러오기\n",
    "        img_path = os.path.join(folder_path, filename)\n",
    "        try:\n",
    "            img = Image.open(img_path)\n",
    "            img = img.convert(\"RGB\")\n",
    "\n",
    "            # 채도를 증가시키기 위해 각 픽셀의 RGB 값을 조절\n",
    "            data = np.array(img)\n",
    "            r, g, b = data[:,:,0], data[:,:,1], data[:,:,2]\n",
    "            r = r * 1.2  # 적당한 비율로 조절\n",
    "            g = g * 1.2  # 적당한 비율로 조절\n",
    "            b = b * 1.2  # 적당한 비율로 조절\n",
    "\n",
    "            # 값의 범위를 0~255로 유지\n",
    "            r = np.clip(r, 0, 255)\n",
    "            g = np.clip(g, 0, 255)\n",
    "            b = np.clip(b, 0, 255)\n",
    "\n",
    "            # 새로운 이미지 데이터 생성\n",
    "            new_data = np.stack([r, g, b], axis=2)\n",
    "            new_img = Image.fromarray(new_data.astype('uint8'), 'RGB')\n",
    "\n",
    "            # 이미지 저장 (새로운 이름으로 저장)\n",
    "            base_filename, ext = os.path.splitext(filename)\n",
    "            new_filename = f\"{base_filename}_inc_sat{ext}\"\n",
    "            new_img_path = os.path.join(folder_path, new_filename)\n",
    "            new_img.save(new_img_path)\n",
    "\n",
    "        except IOError:\n",
    "            print(f'Could not read image: {img_path}')\n",
    "            continue\n"
   ]
  },
  {
   "cell_type": "markdown",
   "id": "d191350e-bdb2-4927-8eaf-c318ff98cf34",
   "metadata": {},
   "source": [
    "## - inc 단어 들어간 파일들 전부 삭제 (추가 수집된 파일 삭제)"
   ]
  },
  {
   "cell_type": "code",
   "execution_count": 18,
   "id": "2b415e99-7a8a-46c2-bc91-070ac334e43f",
   "metadata": {},
   "outputs": [],
   "source": [
    " import os\n",
    "import glob\n",
    "\n",
    "folder_path = 'C:\\\\Users\\\\김현\\\\Final_Project\\\\joyful'\n",
    "\n",
    "# 'inc'가 들어간 모든 파일의 리스트를 가져옵니다.\n",
    "files = glob.glob(os.path.join(folder_path, '*inc*'))\n",
    "\n",
    "# 리스트에 있는 모든 파일을 삭제합니다.\n",
    "for file in files:\n",
    "    try:\n",
    "        os.remove(file)\n",
    "    except OSError as e:\n",
    "        print(f\"Error: {file} : {e.strerror}\")\n"
   ]
  },
  {
   "cell_type": "markdown",
   "id": "9f52d2d8-d264-467b-8af4-9815e0ca8feb",
   "metadata": {},
   "source": [
    "## 2. scikit-image 사용"
   ]
  },
  {
   "cell_type": "code",
   "execution_count": 12,
   "id": "6754c57d-0d03-4443-a90e-e9cb18c8a63b",
   "metadata": {},
   "outputs": [
    {
     "name": "stdout",
     "output_type": "stream",
     "text": [
      "Collecting scikit-image\n",
      "  Downloading scikit_image-0.22.0-cp310-cp310-win_amd64.whl (24.5 MB)\n",
      "     ---------------------------------------- 24.5/24.5 MB 9.8 MB/s eta 0:00:00\n",
      "Collecting lazy_loader>=0.3\n",
      "  Downloading lazy_loader-0.3-py3-none-any.whl (9.1 kB)\n",
      "Collecting imageio>=2.27\n",
      "  Downloading imageio-2.33.1-py3-none-any.whl (313 kB)\n",
      "     -------------------------------------- 313.3/313.3 kB 9.5 MB/s eta 0:00:00\n",
      "Requirement already satisfied: packaging>=21 in c:\\users\\김현\\appdata\\local\\programs\\python\\python310\\lib\\site-packages (from scikit-image) (23.1)\n",
      "Requirement already satisfied: numpy>=1.22 in c:\\users\\김현\\appdata\\local\\programs\\python\\python310\\lib\\site-packages (from scikit-image) (1.26.1)\n",
      "Collecting tifffile>=2022.8.12\n",
      "  Downloading tifffile-2023.12.9-py3-none-any.whl (223 kB)\n",
      "     -------------------------------------- 223.6/223.6 kB 6.9 MB/s eta 0:00:00\n",
      "Requirement already satisfied: networkx>=2.8 in c:\\users\\김현\\appdata\\local\\programs\\python\\python310\\lib\\site-packages (from scikit-image) (3.2.1)\n",
      "Requirement already satisfied: scipy>=1.8 in c:\\users\\김현\\appdata\\roaming\\python\\python310\\site-packages (from scikit-image) (1.11.3)\n",
      "Requirement already satisfied: pillow>=9.0.1 in c:\\users\\김현\\appdata\\local\\programs\\python\\python310\\lib\\site-packages (from scikit-image) (10.1.0)\n",
      "Installing collected packages: tifffile, lazy_loader, imageio, scikit-image\n",
      "Successfully installed imageio-2.33.1 lazy_loader-0.3 scikit-image-0.22.0 tifffile-2023.12.9\n",
      "Note: you may need to restart the kernel to use updated packages.\n"
     ]
    },
    {
     "name": "stderr",
     "output_type": "stream",
     "text": [
      "WARNING: Ignoring invalid distribution -otebook (c:\\users\\김현\\appdata\\local\\programs\\python\\python310\\lib\\site-packages)\n",
      "WARNING: Ignoring invalid distribution -otebook (c:\\users\\김현\\appdata\\local\\programs\\python\\python310\\lib\\site-packages)\n",
      "WARNING: Ignoring invalid distribution -otebook (c:\\users\\김현\\appdata\\local\\programs\\python\\python310\\lib\\site-packages)\n",
      "WARNING: Ignoring invalid distribution -otebook (c:\\users\\김현\\appdata\\local\\programs\\python\\python310\\lib\\site-packages)\n",
      "WARNING: Ignoring invalid distribution -otebook (c:\\users\\김현\\appdata\\local\\programs\\python\\python310\\lib\\site-packages)\n",
      "WARNING: Ignoring invalid distribution -otebook (c:\\users\\김현\\appdata\\local\\programs\\python\\python310\\lib\\site-packages)\n",
      "WARNING: Ignoring invalid distribution -otebook (c:\\users\\김현\\appdata\\local\\programs\\python\\python310\\lib\\site-packages)\n",
      "WARNING: Ignoring invalid distribution -otebook (c:\\users\\김현\\appdata\\local\\programs\\python\\python310\\lib\\site-packages)\n",
      "WARNING: Ignoring invalid distribution -otebook (c:\\users\\김현\\appdata\\local\\programs\\python\\python310\\lib\\site-packages)\n",
      "WARNING: Ignoring invalid distribution -otebook (c:\\users\\김현\\appdata\\local\\programs\\python\\python310\\lib\\site-packages)\n",
      "\n",
      "[notice] A new release of pip available: 22.3.1 -> 23.3.2\n",
      "[notice] To update, run: python.exe -m pip install --upgrade pip\n"
     ]
    }
   ],
   "source": [
    "pip install scikit-image"
   ]
  },
  {
   "cell_type": "code",
   "execution_count": null,
   "id": "2f8b263a-ca90-42a0-9f2f-0bc796a25b16",
   "metadata": {},
   "outputs": [],
   "source": [
    "from skimage import io, color, img_as_ubyte\n",
    "import os\n",
    "import numpy as np\n",
    "\n",
    "folder_path = 'C:\\\\Users\\\\김현\\\\Final_Project\\\\joyful'  # 이미지 파일이 저장된 폴더 경로를 입력하세요.\n",
    "\n",
    "for img_filename in os.listdir(folder_path):  # 폴더 내의 모든 파일을 순회합니다.\n",
    "    if not img_filename.lower().endswith(('.png', '.jpg', '.jpeg')):  # 이미지 파일만 처리합니다.\n",
    "        continue\n",
    "\n",
    "    img_path = os.path.join(folder_path, img_filename)  # 이미지 파일 경로를 구합니다.\n",
    "    base_filename, ext = os.path.splitext(img_filename)\n",
    "\n",
    "    try:\n",
    "        img = io.imread(img_path)\n",
    "    except IOError:\n",
    "        print(f'Could not read image: {img_path}')\n",
    "        continue  # 이미지 파일을 읽지 못했을 경우, 다음 이미지로 넘어갑니다.\n",
    "\n",
    "    if len(img.shape) != 3 or img.shape[2] != 3:  # 이미지가 RGB가 아닌 경우\n",
    "        if len(img.shape) == 2:  # 흑백 이미지인 경우\n",
    "            img = color.gray2rgb(img)  # 흑백 이미지를 RGB로 변환\n",
    "        else:\n",
    "            print(f'Unsupported image format: {img_path}')\n",
    "            continue\n",
    "\n",
    "    img_hsv = color.rgb2hsv(img)\n",
    "    img_hsv[:, :, 1] = img_hsv[:, :, 1] * 1.5  # 채도를 1.5배로 증가시킵니다.\n",
    "    img_adjusted = color.hsv2rgb(img_hsv)\n",
    "    img_adjusted = img_as_ubyte(img_adjusted)  # 이미지 데이터를 0~255 범위의 정수로 변환합니다.\n",
    "    new_filename = f\"{base_filename}_inc_sat{ext}\"\n",
    "    new_img_path = os.path.join(folder_path, new_filename)\n",
    "    try:\n",
    "        io.imsave(new_img_path, img_adjusted)\n",
    "    except Exception as e:\n",
    "        print(f'Could not save image: {new_img_path}. Error: {e}')\n"
   ]
  },
  {
   "cell_type": "code",
   "execution_count": null,
   "id": "6abd8c1e-142d-4401-9121-f57841cc6d47",
   "metadata": {},
   "outputs": [],
   "source": []
  }
 ],
 "metadata": {
  "kernelspec": {
   "display_name": "Python 3 (ipykernel)",
   "language": "python",
   "name": "python3"
  },
  "language_info": {
   "codemirror_mode": {
    "name": "ipython",
    "version": 3
   },
   "file_extension": ".py",
   "mimetype": "text/x-python",
   "name": "python",
   "nbconvert_exporter": "python",
   "pygments_lexer": "ipython3",
   "version": "3.10.10"
  }
 },
 "nbformat": 4,
 "nbformat_minor": 5
}
