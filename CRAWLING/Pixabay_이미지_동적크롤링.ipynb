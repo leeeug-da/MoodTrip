{
 "cells": [
  {
   "cell_type": "code",
   "execution_count": null,
   "id": "86d99c4a-566b-4233-a3b0-773100356b73",
   "metadata": {},
   "outputs": [],
   "source": [
    "import requests\n",
    "import json\n",
    "from urllib import parse \n",
    "import os\n",
    "import sys\n",
    "import urllib.request\n",
    "\n",
    "API_KEY = ''  # 회원가입후 본인의 api key\n",
    "q = \" \"  # 검색어할 키워드\n",
    "maxImages =   # 이미지 숫자 ex)100\n",
    "image_type = \"photo\"  # Accepted values: \"all\", \"photo\", \"illustration\", \"vector\"\n",
    "path = \"./crawled_img/\" + q  # 저장할 폴더\n",
    "if not os.path.exists(path):\n",
    "    os.makedirs(path)\n",
    "else:\n",
    "    print('폴더가 존재합니다')\n",
    "\n",
    "# per_page를 200으로 변경\n",
    "url3 = f'https://pixabay.com/api/?key={API_KEY}&q={q}&image_type=photo&per_page=200'\n",
    "res = requests.get(url3)\n",
    "text = res.text\n",
    "\n",
    "try:\n",
    "    d = json.loads(text)\n",
    "except json.JSONDecodeError as e:\n",
    "    print(f\"JSON decoding error: {e}\")\n",
    "\n",
    "print(d)\n",
    "\n",
    "success = 0\n",
    "# 각 페이지별로 이미지를 다운로드\n",
    "for page in range(1, (maxImages // 200) + 1):\n",
    "    for k in range(len(d['hits'])):\n",
    "        imgUrl = d['hits'][k]['webformatURL']\n",
    "        print(\"url:\", imgUrl)\n",
    "        url = parse.urlparse(imgUrl)\n",
    "\n",
    "        _, ext = os.path.splitext(url.path)\n",
    "\n",
    "        filename = f'{q}_{(page - 1) * 200 + k + 1}{ext}'\n",
    "        saveUrl = path + '/' + filename  # 저장 경로 결정\n",
    "        print(saveUrl)\n",
    "\n",
    "        req = urllib.request.Request(imgUrl, headers={'User-Agent': 'Mozilla/5.0'})\n",
    "        try:\n",
    "            imgUrl = urllib.request.urlopen(req).read()\n",
    "            with open(saveUrl, \"wb\") as f:\n",
    "                f.write(imgUrl)\n",
    "            success += 1\n",
    "\n",
    "        except urllib.error.HTTPError:\n",
    "            print('에러')\n",
    "            sys.exit(0)\n",
    "\n",
    "print('다운로드 성공 : ' + str(success))"
   ]
  }
 ],
 "metadata": {
  "kernelspec": {
   "display_name": "Python 3 (ipykernel)",
   "language": "python",
   "name": "python3"
  },
  "language_info": {
   "codemirror_mode": {
    "name": "ipython",
    "version": 3
   },
   "file_extension": ".py",
   "mimetype": "text/x-python",
   "name": "python",
   "nbconvert_exporter": "python",
   "pygments_lexer": "ipython3",
   "version": "3.10.10"
  }
 },
 "nbformat": 4,
 "nbformat_minor": 5
}
