{
 "cells": [
  {
   "cell_type": "markdown",
   "id": "a1ca849d-c544-48c6-aa06-ee800d76fac2",
   "metadata": {},
   "source": [
    "## **Packages**"
   ]
  },
  {
   "cell_type": "code",
   "execution_count": 1,
   "id": "ba092b9e-3cde-40ed-ad71-ef72a1827b55",
   "metadata": {},
   "outputs": [],
   "source": [
    "# packages\n",
    "from IPython.core.interactiveshell import InteractiveShell\n",
    "InteractiveShell.ast_node_interactivity = \"all\"\n",
    "from datetime import date, datetime\n",
    "from pyspark.sql.types import *\n",
    "from pyspark.sql.functions import *\n",
    "from pyspark.sql import SparkSession\n",
    "from pyspark.sql.functions import col, lit\n",
    "from hdfs import InsecureClient\n",
    "import datetime as dt\n",
    "import pandas as pd"
   ]
  },
  {
   "cell_type": "code",
   "execution_count": 2,
   "id": "e6fb3b4f-8f4b-4740-91f8-a0bac78ca57b",
   "metadata": {},
   "outputs": [
    {
     "name": "stderr",
     "output_type": "stream",
     "text": [
      "/home/lab09/.local/lib/python3.6/site-packages/pymysql/_auth.py:8: CryptographyDeprecationWarning: Python 3.6 is no longer supported by the Python core team. Therefore, support for it is deprecated in cryptography and will be removed in a future release.\n",
      "  from cryptography.hazmat.backends import default_backend\n"
     ]
    }
   ],
   "source": [
    "# python과 mysql 연결을 위한 필요모듈 패키지\n",
    "# !pip install pymysql\n",
    "import pymysql"
   ]
  },
  {
   "cell_type": "markdown",
   "id": "3e2c28e2-e40b-4d3d-84af-9fc26ffd8456",
   "metadata": {},
   "source": [
    "## **DM DB계정 생성**\n",
    "[DM]\n",
    "- User : bigDM@'%'\n",
    "- PW : bigDM1234@\n",
    "- DB : etlmysqlDM "
   ]
  },
  {
   "cell_type": "markdown",
   "id": "2bea0687-f5c4-4686-b17d-0fde8cd4ddb3",
   "metadata": {},
   "source": [
    "### 📍DB 계정 생성 (mysql)"
   ]
  },
  {
   "cell_type": "code",
   "execution_count": 6,
   "id": "95200531-2e0c-43d7-93f6-87785637afd8",
   "metadata": {},
   "outputs": [],
   "source": [
    "# mysql에서 진행\n",
    "\n",
    "## mysql 실행 (aws는 ubuntu 계정에서 실행)\n",
    "# service mysql start (docker) / sudo service mysql start (aws)\n",
    "# mysql -u root (docker) / sudo mysql -u root -p (aws)\n",
    "# password : root (aws)\n",
    "\n",
    "## user 생성\n",
    "# mysql> create user bigDM@'%' identified by 'bigDM1234@';\n",
    "# mysql> grant all privileges on *.* to bigDM@'%' with grant option;\n",
    "\n",
    "## 사용할 database 생성\n",
    "# mysql> create database if not exists etlmysqlDM;\n",
    "# mysql> show databases;"
   ]
  },
  {
   "cell_type": "markdown",
   "id": "53596eee-5203-4add-a3eb-2657309daa58",
   "metadata": {},
   "source": [
    "## **DM/DW 연결 정보**"
   ]
  },
  {
   "cell_type": "markdown",
   "id": "12be60e6-418e-46ba-8994-6829b8b74db8",
   "metadata": {},
   "source": [
    "### 📍DM/DW 연결 정보 "
   ]
  },
  {
   "cell_type": "code",
   "execution_count": 3,
   "id": "ceecdf73-62b2-4655-8e6c-f27970a479a6",
   "metadata": {},
   "outputs": [],
   "source": [
    "conf_dw = {\n",
    "      'url':'jdbc:mysql://35.77.255.41:3306/etlmysql?character_set_server=utf8mb4&serverTimezone=Asia/Seoul'\n",
    "     ,'props':{\n",
    "      'user':'bigMysql',\n",
    "      'password':'bigMysql1234@'   \n",
    "      }\n",
    "}\n",
    "\n",
    "conf_dm = {\n",
    "      'url':'jdbc:mysql://35.77.255.41:3306/etlmysqlDM?character_set_server=utf8mb4&serverTimezone=Asia/Seoul'\n",
    "     ,'props':{\n",
    "      'user':'bigDM',\n",
    "      'password':'bigDM1234@'   \n",
    "      }\n",
    "}"
   ]
  },
  {
   "cell_type": "markdown",
   "id": "ca1f5669-5b4a-40f6-9371-2b82704b2459",
   "metadata": {},
   "source": [
    "### 📍Table 저장/가져오기 관련 함수"
   ]
  },
  {
   "cell_type": "code",
   "execution_count": 4,
   "id": "0fcd0dfc-eefb-4542-b7b5-c98161ea1bb2",
   "metadata": {},
   "outputs": [],
   "source": [
    "# config : db 연결 정보\n",
    "# spark.read.jdbc() : db에서 명시된 테이블을 반환받는 모듈\n",
    "\n",
    "# Table 가져오기\n",
    "def find_data(config, table_name) :\n",
    "    return spark.read.jdbc(url= config['url'], table=table_name, properties=config['props'])\n",
    "\n",
    "# Table 저장\n",
    "def save_data(config, df, table_name) :\n",
    "    return df.write.jdbc(url= config['url'], table=table_name, mode='append' , properties=config['props'])"
   ]
  },
  {
   "cell_type": "markdown",
   "id": "9b6b15f2-890a-4487-9606-dd627f8245a4",
   "metadata": {},
   "source": [
    "## **DW Data 가져오기**"
   ]
  },
  {
   "cell_type": "markdown",
   "id": "f524e77b-9e9b-4f24-b63b-4c705b8d0f11",
   "metadata": {},
   "source": [
    "### **📍 관광지 정보 데이터**\n",
    "- dw db (etlmysql)에 'OVERALL' 테이블"
   ]
  },
  {
   "cell_type": "code",
   "execution_count": 5,
   "id": "1a1eccbd-3604-4f0e-8854-9561e6beebfd",
   "metadata": {},
   "outputs": [],
   "source": [
    "travel_data = find_data(conf_dw, 'OVERALL')"
   ]
  },
  {
   "cell_type": "code",
   "execution_count": 6,
   "id": "9c608144-7fb3-4f81-a460-3d00fa9eaa0e",
   "metadata": {},
   "outputs": [
    {
     "data": {
      "text/plain": [
       "['index',\n",
       " '개요',\n",
       " '개장기간',\n",
       " '공연시간',\n",
       " '관광지 분류',\n",
       " '관람소요시간',\n",
       " '명칭',\n",
       " '분류',\n",
       " '상세정보',\n",
       " '쉬는날',\n",
       " '애완동물 동반 가능 여부',\n",
       " '우편번호',\n",
       " '유모차 대여 여부',\n",
       " '이용시간',\n",
       " '이용시기',\n",
       " '이용요금',\n",
       " '입장료',\n",
       " '전화번호',\n",
       " '주소',\n",
       " '주차시설',\n",
       " '주차요금',\n",
       " '지역',\n",
       " '체험안내',\n",
       " '행사시작일',\n",
       " '행사종료일']"
      ]
     },
     "execution_count": 6,
     "metadata": {},
     "output_type": "execute_result"
    }
   ],
   "source": [
    "travel_data.columns"
   ]
  },
  {
   "cell_type": "markdown",
   "id": "eee823fb-58d6-4ca6-ad41-aa7dd5450e52",
   "metadata": {},
   "source": [
    "### **📍 평점 데이터**\n",
    "- dw db (etlmysql)에 'RATINGS' 테이블"
   ]
  },
  {
   "cell_type": "code",
   "execution_count": 6,
   "id": "8fc71283-d171-40c7-9f6f-ea3459f3a3f4",
   "metadata": {},
   "outputs": [],
   "source": [
    "tour_ratings = find_data(conf_dw, 'RATINGS')"
   ]
  },
  {
   "cell_type": "code",
   "execution_count": 8,
   "id": "25f622d2-d21f-4471-80c2-163cc4cfbe58",
   "metadata": {},
   "outputs": [
    {
     "data": {
      "text/plain": [
       "['index', '명칭', '평점']"
      ]
     },
     "execution_count": 8,
     "metadata": {},
     "output_type": "execute_result"
    }
   ],
   "source": [
    "tour_ratings.columns"
   ]
  },
  {
   "cell_type": "markdown",
   "id": "808dc3a2-9450-41d5-af93-84fbf4022664",
   "metadata": {},
   "source": [
    "### **📍 관광지 키워드 데이터**\n",
    "- dw db (etlmysql)에 'KEYWORDS' 테이블"
   ]
  },
  {
   "cell_type": "code",
   "execution_count": 7,
   "id": "825af766-664c-4f6c-a3e5-1012ca4b93e0",
   "metadata": {},
   "outputs": [],
   "source": [
    "tour_keywords = find_data(conf_dw, 'KEYWORDS')"
   ]
  },
  {
   "cell_type": "code",
   "execution_count": 9,
   "id": "95057b75-ecda-4e22-ad39-f5076476cf77",
   "metadata": {},
   "outputs": [
    {
     "data": {
      "text/plain": [
       "['Top_Keyword_1',\n",
       " 'Top_Keyword_2',\n",
       " 'Top_Keyword_3',\n",
       " 'Tourist_Spot_Name',\n",
       " 'index']"
      ]
     },
     "execution_count": 9,
     "metadata": {},
     "output_type": "execute_result"
    }
   ],
   "source": [
    "tour_keywords.columns"
   ]
  },
  {
   "cell_type": "markdown",
   "id": "0b0834c1",
   "metadata": {},
   "source": [
    "### **📍 관광지 이미지 경로 데이터**\n",
    "- dw db (etlmysql)에 'IMGPATH' 테이블"
   ]
  },
  {
   "cell_type": "code",
   "execution_count": 22,
   "id": "db51e7af",
   "metadata": {},
   "outputs": [],
   "source": [
    "tour_imgpath = find_data(conf_dw, 'IMGPATH')"
   ]
  },
  {
   "cell_type": "code",
   "execution_count": 23,
   "id": "ff0ae8be",
   "metadata": {},
   "outputs": [
    {
     "data": {
      "text/plain": [
       "['image_path', 'index', 'tour_name']"
      ]
     },
     "execution_count": 23,
     "metadata": {},
     "output_type": "execute_result"
    }
   ],
   "source": [
    "tour_imgpath.columns"
   ]
  },
  {
   "cell_type": "markdown",
   "id": "7c190ab7-fb99-41b4-8211-520243ca6143",
   "metadata": {},
   "source": [
    "## **Table 구성**"
   ]
  },
  {
   "attachments": {
    "421e31f8-83d3-4727-834a-76d6c1ce410b.png": {
     "image/png": "[encoded data removed]"
    }
   },
   "cell_type": "markdown",
   "id": "67db60eb-9518-4107-aed3-522fd398ca9a",
   "metadata": {},
   "source": [
    "![스크린샷 2024-02-01 오전 10.43.34.png](attachment:421e31f8-83d3-4727-834a-76d6c1ce410b.png)"
   ]
  },
  {
   "cell_type": "markdown",
   "id": "ac03406d-c196-46b0-b7b4-c4becddfaef9",
   "metadata": {},
   "source": [
    "### 1️⃣ 관광지 분류 \n",
    "\n",
    "✔️ Table 명 : tour_category\n",
    "\n",
    "<br/>\n",
    "\n",
    "✔️ Table 구성 : <br/>\n",
    "\n",
    "[식별] : 컬럼명 / 컬럼타입 / NULL여부 / 설명 / '기존컬럼명'\n",
    "- [pk] : tour_cat_id / INT / NOT NULL / 관광지 대분류 Code / *새로 생성,auto-increment\n",
    "- [column] : tour_cat_name / VARCHAR / NOT NULL / 관광지 대분류 이름  / '관광지 분류'의 Unique 값"
   ]
  },
  {
   "cell_type": "code",
   "execution_count": 11,
   "id": "db53cef0-28b3-49df-8f6c-889955118382",
   "metadata": {},
   "outputs": [],
   "source": [
    "# tour_cat_name \n",
    "tour_category = travel_data.select(travel_data['관광지 분류'].alias('tour_cat_name')).distinct()"
   ]
  },
  {
   "cell_type": "code",
   "execution_count": 12,
   "id": "1aa0392d-1e39-437a-aa7b-c7e4bd45f9fd",
   "metadata": {},
   "outputs": [
    {
     "name": "stdout",
     "output_type": "stream",
     "text": [
      "+-------------+\n",
      "|tour_cat_name|\n",
      "+-------------+\n",
      "| 축제공연행사|\n",
      "|   인문관광지|\n",
      "|     문화시설|\n",
      "|       레포츠|\n",
      "+-------------+\n",
      "\n"
     ]
    }
   ],
   "source": [
    "tour_category.show()"
   ]
  },
  {
   "cell_type": "code",
   "execution_count": 13,
   "id": "1db7dea5-1720-4aaf-a795-4bc2f3a77dd0",
   "metadata": {},
   "outputs": [],
   "source": [
    "# dm db 저장\n",
    "save_data(conf_dm, tour_category, 'tour_category')"
   ]
  },
  {
   "cell_type": "code",
   "execution_count": 59,
   "id": "edad8f8b-2b2e-4c3f-bb2a-2a13bf89329f",
   "metadata": {},
   "outputs": [],
   "source": [
    "# tour_cat_id (mysql에서 진행)\n",
    "\n",
    "## tour_cat_id 컬럼 생성\n",
    "# mysql> ALTER TABLE tour_category ADD COLUMN tour_cat_id INT NOT NULL;\n",
    "\n",
    "## pk 지정\n",
    "# mysql> ALTER TABLE tour_category MODIFY tour_cat_id INT NOT NULL AUTO_INCREMENT PRIMARY KEY FIRST;"
   ]
  },
  {
   "cell_type": "markdown",
   "id": "0f5ca700-245c-4f2b-acdc-5d42241d7b8d",
   "metadata": {},
   "source": [
    "### 2️⃣ 관광지 정보 데이터\n",
    "\n",
    "✔️ Table 명 : tour_main\n",
    "<br/>\n",
    "\n",
    "✔️ Table 구성 : <br/>\n",
    "\n",
    "[식별] : 컬럼명 / 컬럼타입 / NULL여부 / 설명 / '기존컬럼명'\n",
    "- [pk] : tour_id / INT / NOT NULL / 관광지 Code / \b'index' (auto_increment로 수정)\n",
    "- [fk] : tour_cat_id / INT / NOT NULL / 관광지 대분류 Code / [tour_category]의 'tour_cat_id' ('관광지 분류' 일치시키기)\n",
    "- [column] : name / VARCHAR / NOT NULL / 관광지 이름 / '명칭'\n",
    "- [column] : postal_code / VARCHAR / NULL / 우편번호 / '우편번호'\n",
    "- [column] : address / VARCHAR / NULL / 주소 / '주소'\n",
    "- [column] : contact / VARCHAR / NULL / 전화번호 / '전화번호'\n",
    "- [column] : area / VARCHAR / NULL / 지역 / '지역'"
   ]
  },
  {
   "cell_type": "code",
   "execution_count": 14,
   "id": "e9919aa1-a675-4e84-ae09-54518256a01f",
   "metadata": {},
   "outputs": [],
   "source": [
    "# 동일한 환경으로 적용하기 위해 mySQL 로부터 tour_category 다시 불러오기 \n",
    "tour_category = find_data(conf_dm, 'tour_category')"
   ]
  },
  {
   "cell_type": "code",
   "execution_count": 15,
   "id": "2ed80051-519f-445a-8d6b-9cf628cb087c",
   "metadata": {},
   "outputs": [
    {
     "name": "stdout",
     "output_type": "stream",
     "text": [
      "+-----------+-------------+\n",
      "|tour_cat_id|tour_cat_name|\n",
      "+-----------+-------------+\n",
      "|          1| 축제공연행사|\n",
      "|          2|   인문관광지|\n",
      "|          3|     문화시설|\n",
      "|          4|       레포츠|\n",
      "+-----------+-------------+\n",
      "\n"
     ]
    }
   ],
   "source": [
    "tour_category.show()"
   ]
  },
  {
   "cell_type": "code",
   "execution_count": 16,
   "id": "5ab10682-8d1e-47da-8f6d-6854e9cdf486",
   "metadata": {},
   "outputs": [],
   "source": [
    "# 필요 컬럼 불러오기\n",
    "tmp = travel_data.select('index', '명칭', '우편번호', '주소', '전화번호', '지역', '관광지 분류')"
   ]
  },
  {
   "cell_type": "code",
   "execution_count": 17,
   "id": "ba1486e3-0109-43dd-a739-ed58f6b4a02a",
   "metadata": {},
   "outputs": [
    {
     "name": "stdout",
     "output_type": "stream",
     "text": [
      "+-----+------------------------------+---------+----------------------------------+-------------+------+------------+\n",
      "|index|                          명칭| 우편번호|                              주소|     전화번호|  지역| 관광지 분류|\n",
      "+-----+------------------------------+---------+----------------------------------+-------------+------+------------+\n",
      "|    1|                  (주)교보문고|   3154.0| 서울특별시 종로구 종로 1(종로1가)|         null|  서울|    문화시설|\n",
      "|    2|          1.21 무장공비 침투로|486-890,1|   경기도 연천군 장남면 반정리 294|         null|경기도|  인문관광지|\n",
      "|    3|         2024 코리아그랜드세일|   3162.0|  서울특별시 종로구 인사동5길 2...|070-7787-4242|  서울|축제공연행사|\n",
      "|    4| 24시 마린낚시(전곡항 24 마...|  18554.0| 경기도 화성시 서신면 전곡항로 317|         null|경기도|      레포츠|\n",
      "|    5|                      93뮤지엄|  10859.0|경기도 파주시 탄현면 헤이리마을...|         null|경기도|    문화시설|\n",
      "|    6|                   CICA 미술관|  10049.0|  경기도 김포시 양촌읍 삼도로 1...|         null|경기도|    문화시설|\n",
      "|    7|  C아트뮤지엄(숲속의 미술공원)|  12538.0|경기도 양평군 양동면 다락근이길...|         null|경기도|    문화시설|\n",
      "|    8|                  DMZ 마루캠핑|  11004.0|     경기도 연천군 중면 군중로 399|         null|경기도|      레포츠|\n",
      "|    9|                  DMZ 생생누리|    10808|    경기도 파주시 임진각로 148-...|         null|경기도|  인문관광지|\n",
      "|   10|                     HJ글램핑2|  11110.0|  경기도 포천시 이동면 금강로 6169|         null|경기도|      레포츠|\n",
      "|   11|                     JTN아트홀|   3100.0|          서울특별시 종로구 이화동|         null|  서울|    문화시설|\n",
      "|   12|K-일러스트레이션페어 서울 2024|   6164.0|  서울특별시 강남구 영동대로 51...|  02-761-2512|  서울|축제공연행사|\n",
      "|   13|         K-핸드메이드페어 2024|   6164.0|  서울특별시 강남구 영동대로 51...|  02-761-2512|  서울|축제공연행사|\n",
      "|   14|           KT&G 상상마당(홍대)|   4042.0| 서울특별시 마포구 어울마당로 6...|         null|  서울|    문화시설|\n",
      "|   15|       KT&G상상마당 대치아트홀|   6176.0|  서울특별시 강남구 영동대로 41...|         null|  서울|    문화시설|\n",
      "|   16|                    MUSEUM 209|   5552.0|   서울특별시 송파구 잠실로 209...|         null|  서울|    문화시설|\n",
      "|   17|                   M컨템포러리|   6124.0|  서울특별시 강남구 봉은사로 12...|         null|  서울|    문화시설|\n",
      "|   18|                          TINC|   2861.0| 서울특별시 성북구 동소문로10길...|         null|  서울|    문화시설|\n",
      "| 2394|                  별똥별글램핑|  12473.0| 경기도 가평군 설악면 유명산길 ...|         null|경기도|      레포츠|\n",
      "|   19|                      UM갤러리|   6029.0|  서울특별시 강남구 가로수길 64...|         null|  서울|    문화시설|\n",
      "+-----+------------------------------+---------+----------------------------------+-------------+------+------------+\n",
      "only showing top 20 rows\n",
      "\n"
     ]
    }
   ],
   "source": [
    "tmp.show()"
   ]
  },
  {
   "cell_type": "code",
   "execution_count": 18,
   "id": "17606c81-8a17-49c6-b22a-ed3008ac3b1e",
   "metadata": {},
   "outputs": [],
   "source": [
    "# tour_cat_id \n",
    "# [tour_category]의 'tour_cat_id' & '관광지 분류' 일치시키기\n",
    "\n",
    "joined_df = tmp.join(tour_category, tmp['관광지 분류']==tour_category['tour_cat_name'], 'inner')"
   ]
  },
  {
   "cell_type": "code",
   "execution_count": 19,
   "id": "c21a4eb9-90be-4750-8d1e-5d4374e5c9e2",
   "metadata": {},
   "outputs": [
    {
     "name": "stdout",
     "output_type": "stream",
     "text": [
      "+------------------------------+------------+-------------+-----------+\n",
      "|                          명칭| 관광지 분류|tour_cat_name|tour_cat_id|\n",
      "+------------------------------+------------+-------------+-----------+\n",
      "|         2024 코리아그랜드세일|축제공연행사| 축제공연행사|          1|\n",
      "|K-일러스트레이션페어 서울 2024|축제공연행사| 축제공연행사|          1|\n",
      "+------------------------------+------------+-------------+-----------+\n",
      "only showing top 2 rows\n",
      "\n",
      "+-----------------------------+-----------+-------------+-----------+\n",
      "|                         명칭|관광지 분류|tour_cat_name|tour_cat_id|\n",
      "+-----------------------------+-----------+-------------+-----------+\n",
      "|24시 마린낚시(전곡항 24 마...|     레포츠|       레포츠|          4|\n",
      "|                 DMZ 마루캠핑|     레포츠|       레포츠|          4|\n",
      "+-----------------------------+-----------+-------------+-----------+\n",
      "only showing top 2 rows\n",
      "\n",
      "+--------------------+-----------+-------------+-----------+\n",
      "|                명칭|관광지 분류|tour_cat_name|tour_cat_id|\n",
      "+--------------------+-----------+-------------+-----------+\n",
      "|1.21 무장공비 침투로| 인문관광지|   인문관광지|          2|\n",
      "|        DMZ 생생누리| 인문관광지|   인문관광지|          2|\n",
      "+--------------------+-----------+-------------+-----------+\n",
      "only showing top 2 rows\n",
      "\n",
      "+------------+-----------+-------------+-----------+\n",
      "|        명칭|관광지 분류|tour_cat_name|tour_cat_id|\n",
      "+------------+-----------+-------------+-----------+\n",
      "|(주)교보문고|   문화시설|     문화시설|          3|\n",
      "|    93뮤지엄|   문화시설|     문화시설|          3|\n",
      "+------------+-----------+-------------+-----------+\n",
      "only showing top 2 rows\n",
      "\n"
     ]
    }
   ],
   "source": [
    "# 확인 \n",
    "joined_df[joined_df['관광지 분류']=='축제공연행사'].select('명칭', '관광지 분류', 'tour_cat_name', 'tour_cat_id').show(2)\n",
    "joined_df[joined_df['관광지 분류']=='레포츠'].select('명칭', '관광지 분류', 'tour_cat_name', 'tour_cat_id').show(2)\n",
    "joined_df[joined_df['관광지 분류']=='인문관광지'].select('명칭', '관광지 분류', 'tour_cat_name', 'tour_cat_id').show(2)\n",
    "joined_df[joined_df['관광지 분류']=='문화시설'].select('명칭', '관광지 분류', 'tour_cat_name', 'tour_cat_id').show(2)"
   ]
  },
  {
   "cell_type": "code",
   "execution_count": 20,
   "id": "a5219e8d-974e-4f66-bf91-a9aec08cd984",
   "metadata": {},
   "outputs": [
    {
     "name": "stdout",
     "output_type": "stream",
     "text": [
      "+-------+-----------+--------------------------------+-----------+-----------------------------------+-------+------+\n",
      "|tour_id|tour_cat_id|                            name|postal_code|                            address|contact|  area|\n",
      "+-------+-----------+--------------------------------+-----------+-----------------------------------+-------+------+\n",
      "|      4|          4|   24시 마린낚시(전곡항 24 마...|    18554.0|  경기도 화성시 서신면 전곡항로 317|   null|경기도|\n",
      "|      8|          4|                    DMZ 마루캠핑|    11004.0|      경기도 연천군 중면 군중로 399|   null|경기도|\n",
      "|     10|          4|                       HJ글램핑2|    11110.0|   경기도 포천시 이동면 금강로 6169|   null|경기도|\n",
      "|   2394|          4|                    별똥별글램핑|    12473.0|  경기도 가평군 설악면 유명산길 ...|   null|경기도|\n",
      "|   2395|          4|                  별빛오토캠핑장|    12470.0|   경기도 가평군 설악면 묵안로 2...|   null|경기도|\n",
      "|     21|          4|                       W홀스랜드|    12440.0|      경기도 가평군 상면 물골길 391|   null|경기도|\n",
      "|     22|          4|                        YC글램핑|    11045.0|   경기도 연천군 미산면 청정로 1049|   null|경기도|\n",
      "|   2398|          4|                    별을다는아이|    11519.0|   경기도 양주시 장흥면 권율로30...|   null|경기도|\n",
      "|     23|          4|  [강화 나들길 제4코스] 해가 ...|    23033.0| 인천광역시 강화군 강화읍 청하동...|   null|  인천|\n",
      "|     24|          4|[강화 나들길 제5코스] 고비고개길|    23033.0| 인천광역시 강화군 강화읍 청하동...|   null|  인천|\n",
      "|   2400|          4|                    별천지야영장|    12402.0|    경기도 가평군 북면 화악산로 816|   null|경기도|\n",
      "|   2402|          4|                    병목안캠핑장|    14026.0|  경기도 안양시 만안구 병목안로2...|   null|경기도|\n",
      "|     25|          4| [강화 나들길 제7코스] 낙조보...|    23033.0| 인천광역시 강화군 강화읍 청하동...|   null|  인천|\n",
      "|     26|          4| [경기옛길 영남길 제1길] 달래...|    13451.0|경기도 성남시 수정구 옛골로(상적동)|   null|경기도|\n",
      "|   2410|          4|           보트코리아 화성전시장|    18554.0|        경기도 화성시 서신면 전곡리|   null|경기도|\n",
      "|     27|          4| [경기옛길 영남길 제6길] 은이...|    17161.0|  경기도 용인시 처인구 양지면 남...|   null|경기도|\n",
      "|     28|          4| [경기옛길 영남길 제7길] 구봉...|    17168.0|  경기도 용인시 처인구 원삼면 이...|   null|경기도|\n",
      "|     29|          4| [경기옛길 영남길 제9길] 죽산...|    17519.0| 경기도 안성시 죽산면 죽산초교길...|   null|경기도|\n",
      "|     30|          4| [경기옛길 의주길 제3길] 쌍미...|    10955.0|   경기도 파주시 광탄면 호주골길 23|   null|경기도|\n",
      "|     31|          4|  [구리 둘레길 1코스] 역사와 ...|    11945.0| 경기도 구리시 장자호수공원(토평동)|   null|경기도|\n",
      "+-------+-----------+--------------------------------+-----------+-----------------------------------+-------+------+\n",
      "only showing top 20 rows\n",
      "\n"
     ]
    }
   ],
   "source": [
    "# 필요 컬럼 select 해서 tour_main 최종 구성\n",
    "tour_main = joined_df.select(col('index').alias('tour_id'),\n",
    "                             col('tour_cat_id'),\n",
    "                             col('명칭').alias('name'),\n",
    "                             col('우편번호').alias('postal_code'),\n",
    "                             col('주소').alias('address'),\n",
    "                             col('전화번호').alias('contact'),\n",
    "                             col('지역').alias('area'))\n",
    "tour_main.show()"
   ]
  },
  {
   "cell_type": "code",
   "execution_count": 21,
   "id": "2bfee58e-f616-42ae-a836-91b5046cdf93",
   "metadata": {},
   "outputs": [],
   "source": [
    "# dm db 저장\n",
    "save_data(conf_dm, tour_main, 'tour_main')"
   ]
  },
  {
   "cell_type": "code",
   "execution_count": 22,
   "id": "625b3f63-573c-4ee2-a306-b934c191ec5f",
   "metadata": {},
   "outputs": [
    {
     "name": "stdout",
     "output_type": "stream",
     "text": [
      "+-----------+-------------+\n",
      "|tour_cat_id|tour_cat_name|\n",
      "+-----------+-------------+\n",
      "|          1| 축제공연행사|\n",
      "|          2|   인문관광지|\n",
      "|          3|     문화시설|\n",
      "|          4|       레포츠|\n",
      "+-----------+-------------+\n",
      "\n",
      "+-----+--------------+--------+---------------------------+------------+------+------------+-----------+-------------+\n",
      "|index|          명칭|우편번호|                       주소|    전화번호|  지역| 관광지 분류|tour_cat_id|tour_cat_name|\n",
      "+-----+--------------+--------+---------------------------+------------+------+------------+-----------+-------------+\n",
      "| 2824|양평빙송어축제| 12529.0|경기도 양평군 곱다니길 55-2|031-775-5205|경기도|축제공연행사|          1| 축제공연행사|\n",
      "+-----+--------------+--------+---------------------------+------------+------+------------+-----------+-------------+\n",
      "\n",
      "+-------+-----------+--------------+-----------+---------------------------+------------+------+\n",
      "|tour_id|tour_cat_id|          name|postal_code|                    address|     contact|  area|\n",
      "+-------+-----------+--------------+-----------+---------------------------+------------+------+\n",
      "|   2824|          1|양평빙송어축제|    12529.0|경기도 양평군 곱다니길 55-2|031-775-5205|경기도|\n",
      "+-------+-----------+--------------+-----------+---------------------------+------------+------+\n",
      "\n"
     ]
    }
   ],
   "source": [
    "# 확인\n",
    "tour_category.show()\n",
    "joined_df[joined_df['index']==2824].show()\n",
    "tour_main[tour_main['tour_id']==2824].show()"
   ]
  },
  {
   "cell_type": "code",
   "execution_count": 21,
   "id": "cb6337d2-b9b0-4d62-8a1d-db5f26354bf6",
   "metadata": {},
   "outputs": [],
   "source": [
    "# pk/fk 지정 (mysql 에서 진행)\n",
    "\n",
    "## pk 지정 - 인덱스로 사용하려고 하는 'tour_id' 컬럼에 이미 값이 들어가 있기 때문에, 마지막 행을 기준으로 auto_increment 값을 증가시킨다.\n",
    "# mysql> SELECT * FROM tour_main ORDER BY tour_id DESC LIMIT 1;    # 마지막 행 tour_id 값 확인 => '3504'\n",
    "# mysql> ALTER TABLE tour_main AUTO_INCREMENT = 3505;              # 3504의 다음 숫자인 3505부터 진행시킨다는 의미\n",
    "# mysql> ALTER TABLE tour_main MODIFY tour_id INT NOT NULL AUTO_INCREMENT PRIMARY KEY;\n",
    "\n",
    "## fk 지정\n",
    "# mysql> alter table tour_main add FOREIGN KEY(tour_cat_id) REFERENCES tour_category(tour_cat_id);"
   ]
  },
  {
   "cell_type": "markdown",
   "id": "cee55b58-77f6-48b8-8ce0-14c7c172fcce",
   "metadata": {},
   "source": [
    "### 3️⃣ 상세정보\n",
    "\n",
    "✔️ Table 명 : tour_info\n",
    "<br/>\n",
    "\n",
    "✔️ Table 구성 : <br/>\n",
    "\n",
    "[식별] : 컬럼명 / 컬럼타입 / NULL여부 / 설명 / '기존컬럼명'\n",
    "- [fk] : tour_id / INT / NOT NULL / 관광지 Code / \b[tour_main]의 'tour_id' ('index'와 일치시키기)\n",
    "- [fk] : tour_cat_id / INT / NOT NULL / 관광지 대분류 Code / [tour_main]의 'tour_cat_id'\n",
    "- [column] : intro / VARCHAR / NULL / 관광지 설명 / '개요'\n",
    "- [column] : info / VARCHAR / NULL / 상세정보 / '상세정보'\n",
    "- [column] : guide / VARCHAR / NULL / 체험안내 / '체험안내'\n",
    "- [column] : price_1 / VARCHAR / NULL / 이용요금 / '이용요금'\n",
    "- [column] : price_2 / VARCHAR / NULL / 입장료 / '입장료'"
   ]
  },
  {
   "cell_type": "code",
   "execution_count": 23,
   "id": "084fb0d8-2c73-4332-a835-3b7a1bceb160",
   "metadata": {},
   "outputs": [],
   "source": [
    "# 동일한 환경으로 적용하기 위해 mySQL 로부터 tour_category 다시 불러오기 \n",
    "travel_data = find_data(conf_dw, 'OVERALL')\n",
    "tour_main = find_data(conf_dm, 'tour_main')"
   ]
  },
  {
   "cell_type": "code",
   "execution_count": 24,
   "id": "4ff99d92-20fd-45a3-9fd4-f36c18ce22c6",
   "metadata": {},
   "outputs": [
    {
     "name": "stdout",
     "output_type": "stream",
     "text": [
      "+-------+-----------+--------------------+-----------+---------------------------------+-------+------+\n",
      "|tour_id|tour_cat_id|                name|postal_code|                          address|contact|  area|\n",
      "+-------+-----------+--------------------+-----------+---------------------------------+-------+------+\n",
      "|      1|          3|        (주)교보문고|     3154.0|서울특별시 종로구 종로 1(종로1가)|   null|  서울|\n",
      "|      2|          2|1.21 무장공비 침투로|  486-890,1|  경기도 연천군 장남면 반정리 294|   null|경기도|\n",
      "+-------+-----------+--------------------+-----------+---------------------------------+-------+------+\n",
      "only showing top 2 rows\n",
      "\n"
     ]
    }
   ],
   "source": [
    "tour_main.show(2)"
   ]
  },
  {
   "cell_type": "code",
   "execution_count": 25,
   "id": "ef4a9cac-d3ab-4534-b31c-19541cd51ec6",
   "metadata": {},
   "outputs": [
    {
     "name": "stdout",
     "output_type": "stream",
     "text": [
      "+-----+--------------------+----------------------------------+-------------+--------+--------+------+\n",
      "|index|                명칭|                              개요|     상세정보|체험안내|이용요금|입장료|\n",
      "+-----+--------------------+----------------------------------+-------------+--------+--------+------+\n",
      "|    1|        (주)교보문고|교보문고 광화문점은 국민교육 진...|         null|    null|    무료|  null|\n",
      "|    2|1.21 무장공비 침투로|  ※ 민통초소에 신분증 제시하여 ...|화장실:있음\\n|    null|    null|  null|\n",
      "+-----+--------------------+----------------------------------+-------------+--------+--------+------+\n",
      "only showing top 2 rows\n",
      "\n"
     ]
    }
   ],
   "source": [
    "# 필요 컬럼 불러오기\n",
    "tmp = travel_data.select('index', '명칭', '개요', '상세정보', '체험안내', '이용요금', '입장료')\n",
    "tmp.show(2)"
   ]
  },
  {
   "cell_type": "code",
   "execution_count": 26,
   "id": "3afa0537-375c-4671-8ee6-32d578fb7e00",
   "metadata": {},
   "outputs": [],
   "source": [
    "# tour_id\n",
    "# [tour_main]의 'tour_id' & 'index' 와 일치시키기\n",
    "\n",
    "joined_df = tmp.join(tour_main, tmp['index']==tour_main['tour_id'], 'inner')"
   ]
  },
  {
   "cell_type": "code",
   "execution_count": 27,
   "id": "cbfc89ac-8e16-4319-9d2b-f22bd9cb9140",
   "metadata": {
    "scrolled": true
   },
   "outputs": [
    {
     "name": "stdout",
     "output_type": "stream",
     "text": [
      "+-------+------------+-----------+\n",
      "|tour_id|        name|tour_cat_id|\n",
      "+-------+------------+-----------+\n",
      "|      1|(주)교보문고|          3|\n",
      "+-------+------------+-----------+\n",
      "\n",
      "+-----+-------+------------+-----------+\n",
      "|index|tour_id|        명칭|tour_cat_id|\n",
      "+-----+-------+------------+-----------+\n",
      "|    1|      1|(주)교보문고|          3|\n",
      "+-----+-------+------------+-----------+\n",
      "\n",
      "+-------+--------------+-----------+\n",
      "|tour_id|          name|tour_cat_id|\n",
      "+-------+--------------+-----------+\n",
      "|   3504|힐사이드온천텔|          2|\n",
      "+-------+--------------+-----------+\n",
      "\n",
      "+-----+-------+--------------+-----------+\n",
      "|index|tour_id|          명칭|tour_cat_id|\n",
      "+-----+-------+--------------+-----------+\n",
      "| 3504|   3504|힐사이드온천텔|          2|\n",
      "+-----+-------+--------------+-----------+\n",
      "\n"
     ]
    }
   ],
   "source": [
    "# 확인 \n",
    "tour_main[tour_main['tour_id']=='1'].select('tour_id', 'name', 'tour_cat_id').show()\n",
    "joined_df[joined_df['index']=='1'].select('index', 'tour_id', '명칭', 'tour_cat_id').show()\n",
    "tour_main[tour_main['tour_id']=='3504'].select('tour_id', 'name', 'tour_cat_id').show()\n",
    "joined_df[joined_df['index']=='3504'].select('index', 'tour_id', '명칭', 'tour_cat_id').show()"
   ]
  },
  {
   "cell_type": "code",
   "execution_count": 28,
   "id": "81846107-6549-4a78-aca6-fa2d7584a656",
   "metadata": {},
   "outputs": [
    {
     "data": {
      "text/plain": [
       "['index',\n",
       " '명칭',\n",
       " '개요',\n",
       " '상세정보',\n",
       " '체험안내',\n",
       " '이용요금',\n",
       " '입장료',\n",
       " 'tour_id',\n",
       " 'tour_cat_id',\n",
       " 'name',\n",
       " 'postal_code',\n",
       " 'address',\n",
       " 'contact',\n",
       " 'area']"
      ]
     },
     "execution_count": 28,
     "metadata": {},
     "output_type": "execute_result"
    }
   ],
   "source": [
    "joined_df.columns"
   ]
  },
  {
   "cell_type": "markdown",
   "id": "e55f82a1-e805-4f24-920b-1fc3c7c71186",
   "metadata": {},
   "source": [
    "- [pk] : tour_id / INT / NOT NULL / 관광지 Code / \b[tour_main]의 'tour_id' ('index'와 일치시키기)\n",
    "- [fk] : tour_cat_id / INT / NOT NULL / 관광지 대분류 Code / [tour_main]의 'tour_cat_id'\n",
    "- [column] : intro / VARCHAR / NULL / 관광지 설명 / '개요'\n",
    "- [column] : info / VARCHAR / NULL / 상세정보 / '상세정보'\n",
    "- [column] : guide / VARCHAR / NULL / 체험안내 / '체험안내'\n",
    "- [column] : price_1 / VARCHAR / NULL / 이용요금 / '이용요금'\n",
    "- [column] : price_2 / VARCHAR / NULL / 입장료 / '입장료'"
   ]
  },
  {
   "cell_type": "code",
   "execution_count": 29,
   "id": "33b53a96-2932-40d5-8b4a-3568f29c773e",
   "metadata": {
    "scrolled": true
   },
   "outputs": [
    {
     "name": "stdout",
     "output_type": "stream",
     "text": [
      "+-------+-----------+-----------------------------------+----------------------------------+-----------------------------+-------------------------+-------+\n",
      "|tour_id|tour_cat_id|                              intro|                              info|                        guide|                  price_1|price_2|\n",
      "+-------+-----------+-----------------------------------+----------------------------------+-----------------------------+-------------------------+-------+\n",
      "|     26|          4|  달래내고개길은 영남길 노선 중 ...|   코스안내:소요시간3시간 30분 ...|                         null|                     null|   null|\n",
      "|     29|          4|  영남길 9길인 죽산성지순례길은 ...|   코스안내:소요시간3시간 30분(...|                         null|                     null|   null|\n",
      "|   2453|          4|블랙아이스링크장은 경기도 남양주...|이용요금:클래스별 상이(전화문의...|                         null|                     null|   null|\n",
      "|   2509|          2| 인천 연안부두에 있는 해양광장에...|                   입 장 료:무료\\n|                         null|                     null|   null|\n",
      "|   2529|          2|러시아공사관은 조선말 한로수호조...|                              null|                         null|                     null|   null|\n",
      "|    474|          2| 둔배미공원의 둔배미는 초지동에 ...|   화장실:있음(남녀 구분)\\n이용...|하절기 물놀이형 수경시설 운영|                     null|   null|\n",
      "|   2927|          4|와니엘배팅센터는 야구용품 브랜드...|  체험프로그램:개인 레슨 및 팀 ...|                         null|                     null|   null|\n",
      "|   3091|          2| 일자산자연공원은 비교적 낮은 산...|    화장실:있음\\n입 장 료:무료\\...|                         null|                     null|   null|\n",
      "|    964|          2| 쌍미륵사는 경기도 안성시 삼죽면...|   화장실:있음(남녀 구분)\\n외국...|                         null|                     null|   null|\n",
      "|   1677|          1|   잃어버린 동심을 만들 수 있는 ...| 행사소개:잃어버린 동심을 만들 ...|                         null|[평일] 일반: 10,000원 ...|   null|\n",
      "|   1697|          4| 호법레포츠공원은 경기도 이천시 ...|               체험프로그램:없음\\n|                         null|                     null|   무료|\n",
      "|   1806|          3|  가람화랑은 한국 근현대 미술 전...| 한국어 안내서비스:한국어 안내 ...|                         null|                     무료|   null|\n",
      "|   1950|          2| 아이와 함께 나들이할만한 공원이...|이용가능시설:유아숲체험원, 조형...|                         null|                     null|   null|\n",
      "|   2040|          3| 강하예술공원 근처에 있는 기흥성...|                              null|                         null|                     무료|   null|\n",
      "|   2214|          4| 뒷방울 저수지는 시흥시 정왕동에...|      참고사항:※ 금지사항<br/>\\...|                         null|                     null|   null|\n",
      "|   2250|          2| 마송공원은 김포 마송아파트 단지...|    화장실:남녀 구분\\n입 장 료:...|           체험 프로그램 없음|                     null|   null|\n",
      "|     65|          4|  가평 유명산 아래 방일리 설곡에...|          이용요금:99,000~300,0...|                         null|                     null|   null|\n",
      "|    191|          4| 경기도 화성시와 평택시에 맞닿아...| 포인트안내:\\n체험프로그램:낚시...|                         null|                     null|   null|\n",
      "|   2812|          4| 양천둘레길은 산과 도심과 하천이...|     코스안내:* 용왕산구간(1.0k...|                         null|                     null|   null|\n",
      "|    418|          3| 더서울라이티움은 세계적인 빛의 ...|        예약안내:전화 02-516-25...|                         null|     전시 프로그램별 상이|   null|\n",
      "+-------+-----------+-----------------------------------+----------------------------------+-----------------------------+-------------------------+-------+\n",
      "only showing top 20 rows\n",
      "\n"
     ]
    }
   ],
   "source": [
    "# 필요 컬럼 select 해서 tour_info 최종 구성\n",
    "tour_info = joined_df.select(col('tour_id'),\n",
    "                             col('tour_cat_id'),\n",
    "                             col('개요').alias('intro'),\n",
    "                             col('상세정보').alias('info'),\n",
    "                             col('체험안내').alias('guide'),\n",
    "                             col('이용요금').alias('price_1'),\n",
    "                             col('입장료').alias('price_2'))\n",
    "tour_info.show()"
   ]
  },
  {
   "cell_type": "code",
   "execution_count": 30,
   "id": "c65bf047-99c4-4e40-9f42-df6f347da890",
   "metadata": {},
   "outputs": [],
   "source": [
    "# dm db 저장\n",
    "save_data(conf_dm, tour_info, 'tour_info')"
   ]
  },
  {
   "cell_type": "code",
   "execution_count": 44,
   "id": "061c20fa-2f74-4c9a-b6ca-2b759c9462af",
   "metadata": {},
   "outputs": [],
   "source": [
    "# fk 지정 (mysql 에서 진행)\n",
    "\n",
    "## fk 지정\n",
    "# mysql> alter table tour_info add FOREIGN KEY(tour_id) REFERENCES tour_main(tour_id);\n",
    "# mysql> alter table tour_info add FOREIGN KEY(tour_cat_id) REFERENCES tour_main(tour_cat_id);"
   ]
  },
  {
   "cell_type": "markdown",
   "id": "ec9d180c-b0b6-4af1-a506-aae893de0143",
   "metadata": {},
   "source": [
    "### 4️⃣ 시간/기간\n",
    "\n",
    "✔️ Table 명 : tour_period\n",
    "<br/>\n",
    "\n",
    "✔️ Table 구성 : <br/>\n",
    "\n",
    "[식별] : 컬럼명 / 컬럼타입 / NULL여부 / 설명 / '기존컬럼명'\n",
    "- [fk] : tour_id / INT / NOT NULL / 관광지 Code / \b[tour_main]의 'tour_id' ('index'와 일치시키기)\n",
    "- [fk] : tour_cat_id / INT / NOT NULL / 관광지 대분류 Code / [tour_main]의 'tour_cat_id'\n",
    "- [column] : open_hour_1 / VARCHAR / NULL / 관람소요시간 / '관람소요시간'\n",
    "- [column] : open_hour_2 / VARCHAR / NULL / 이용시간 / '이용시간'\n",
    "- [column] : open_hour_3 / VARCHAR / NULL / 공연시간 / '공연시간'\n",
    "- [column] : close_day / VARCHAR / NULL / 쉬는날 / '쉬는날'\n",
    "- [column] : open_period_1 / VARCHAR / NULL / 개장기간 / '개장기간'\n",
    "- [column] : open_period_2 / VARCHAR / NULL / 이용시기 / '이용시기'\n",
    "- [column] : fest_open / VARCHAR / NULL / 헹사시작일 / '행사시작일'\n",
    "- [column] : fest_close / VARCHAR / NULL / 행사종료일 / '행사종료일'"
   ]
  },
  {
   "cell_type": "code",
   "execution_count": 31,
   "id": "05ab9861-9db5-415c-9361-90d9ab62ee44",
   "metadata": {},
   "outputs": [],
   "source": [
    "# 동일한 환경으로 적용하기 위해 mySQL 로부터 tour_category 다시 불러오기 \n",
    "travel_data = find_data(conf_dw, 'OVERALL')\n",
    "tour_main = find_data(conf_dm, 'tour_main')"
   ]
  },
  {
   "cell_type": "code",
   "execution_count": 32,
   "id": "b7002f98-090e-4a03-8db5-07b2ea51f391",
   "metadata": {},
   "outputs": [
    {
     "name": "stdout",
     "output_type": "stream",
     "text": [
      "+-------+-----------+--------------------+-----------+---------------------------------+-------+------+\n",
      "|tour_id|tour_cat_id|                name|postal_code|                          address|contact|  area|\n",
      "+-------+-----------+--------------------+-----------+---------------------------------+-------+------+\n",
      "|      1|          3|        (주)교보문고|     3154.0|서울특별시 종로구 종로 1(종로1가)|   null|  서울|\n",
      "|      2|          2|1.21 무장공비 침투로|  486-890,1|  경기도 연천군 장남면 반정리 294|   null|경기도|\n",
      "+-------+-----------+--------------------+-----------+---------------------------------+-------+------+\n",
      "only showing top 2 rows\n",
      "\n"
     ]
    }
   ],
   "source": [
    "tour_main.show(2)"
   ]
  },
  {
   "cell_type": "code",
   "execution_count": 33,
   "id": "ea307c6d-6138-4a32-bbe0-46c57153d544",
   "metadata": {},
   "outputs": [
    {
     "name": "stdout",
     "output_type": "stream",
     "text": [
      "+-----+--------------------+------------+--------------------------+--------+------------+--------+--------+----------+----------+\n",
      "|index|                명칭|관람소요시간|                  이용시간|공연시간|      쉬는날|개장기간|이용시기|행사시작일|행사종료일|\n",
      "+-----+--------------------+------------+--------------------------+--------+------------+--------+--------+----------+----------+\n",
      "|    1|        (주)교보문고|        null|               09:30~22:00|    null|설/추석 당일|    null|    null|       NaN|       NaN|\n",
      "|    2|1.21 무장공비 침투로|        null|[출입가능시간] 10:00~16...|    null| 매주 화요일|    null|    null|       NaN|       NaN|\n",
      "+-----+--------------------+------------+--------------------------+--------+------------+--------+--------+----------+----------+\n",
      "only showing top 2 rows\n",
      "\n"
     ]
    }
   ],
   "source": [
    "# 필요 컬럼 불러오기\n",
    "tmp = travel_data.select('index', '명칭', '관람소요시간', '이용시간', '공연시간', '쉬는날', '개장기간', '이용시기',\n",
    "                        '행사시작일', '행사종료일')\n",
    "tmp.show(2)"
   ]
  },
  {
   "cell_type": "code",
   "execution_count": 34,
   "id": "f475c956-9c3b-45a0-81fc-8298537f1337",
   "metadata": {},
   "outputs": [],
   "source": [
    "# tour_id\n",
    "# [tour_main]의 'tour_id' & 'index' 와 일치시키기\n",
    "\n",
    "joined_df = tmp.join(tour_main, tmp['index']==tour_main['tour_id'], 'inner')"
   ]
  },
  {
   "cell_type": "code",
   "execution_count": 35,
   "id": "d023f7f8-e62c-4499-afcc-194fbaf36d75",
   "metadata": {},
   "outputs": [
    {
     "name": "stdout",
     "output_type": "stream",
     "text": [
      "+-------+------------+-----------+\n",
      "|tour_id|        name|tour_cat_id|\n",
      "+-------+------------+-----------+\n",
      "|      1|(주)교보문고|          3|\n",
      "+-------+------------+-----------+\n",
      "\n",
      "+-----+-------+------------+-----------+\n",
      "|index|tour_id|        명칭|tour_cat_id|\n",
      "+-----+-------+------------+-----------+\n",
      "|    1|      1|(주)교보문고|          3|\n",
      "+-----+-------+------------+-----------+\n",
      "\n",
      "+-------+--------------+-----------+\n",
      "|tour_id|          name|tour_cat_id|\n",
      "+-------+--------------+-----------+\n",
      "|   3504|힐사이드온천텔|          2|\n",
      "+-------+--------------+-----------+\n",
      "\n",
      "+-----+-------+--------------+-----------+\n",
      "|index|tour_id|          명칭|tour_cat_id|\n",
      "+-----+-------+--------------+-----------+\n",
      "| 3504|   3504|힐사이드온천텔|          2|\n",
      "+-----+-------+--------------+-----------+\n",
      "\n"
     ]
    }
   ],
   "source": [
    "# 확인 \n",
    "tour_main[tour_main['tour_id']=='1'].select('tour_id', 'name', 'tour_cat_id').show()\n",
    "joined_df[joined_df['index']=='1'].select('index', 'tour_id', '명칭', 'tour_cat_id').show()\n",
    "tour_main[tour_main['tour_id']=='3504'].select('tour_id', 'name', 'tour_cat_id').show()\n",
    "joined_df[joined_df['index']=='3504'].select('index', 'tour_id', '명칭', 'tour_cat_id').show()"
   ]
  },
  {
   "cell_type": "code",
   "execution_count": 36,
   "id": "b2eb266b-6ea3-4f12-8e1c-5af741655641",
   "metadata": {},
   "outputs": [
    {
     "data": {
      "text/plain": [
       "['index',\n",
       " '명칭',\n",
       " '관람소요시간',\n",
       " '이용시간',\n",
       " '공연시간',\n",
       " '쉬는날',\n",
       " '개장기간',\n",
       " '이용시기',\n",
       " '행사시작일',\n",
       " '행사종료일',\n",
       " 'tour_id',\n",
       " 'tour_cat_id',\n",
       " 'name',\n",
       " 'postal_code',\n",
       " 'address',\n",
       " 'contact',\n",
       " 'area']"
      ]
     },
     "execution_count": 36,
     "metadata": {},
     "output_type": "execute_result"
    }
   ],
   "source": [
    "joined_df.columns"
   ]
  },
  {
   "cell_type": "markdown",
   "id": "9af18cbc-0c61-486b-807d-955fe91089bb",
   "metadata": {},
   "source": [
    "- [fk] : tour_id / INT / NOT NULL / 관광지 Code / \b[tour_main]의 'tour_id' ('index'와 일치시키기)\n",
    "- [fk] : tour_cat_id / INT / NOT NULL / 관광지 대분류 Code / [tour_main]의 'tour_cat_id'\n",
    "- [column] : open_hour_1 / VARCHAR / NULL / 관람소요시간 / '관람소요시간'\n",
    "- [column] : open_hour_2 / VARCHAR / NULL / 이용시간 / '이용시간'\n",
    "- [column] : open_hour_3 / VARCHAR / NULL / 공연시간 / '공연시간'\n",
    "- [column] : close_day / VARCHAR / NULL / 쉬는날 / '쉬는날'\n",
    "- [column] : open_period_1 / VARCHAR / NULL / 개장기간 / '개장기간'\n",
    "- [column] : open_period_2 / VARCHAR / NULL / 이용시기 / '이용시기'\n",
    "- [column] : fest_open / VARCHAR / NULL / 헹사시작일 / '행사시작일'\n",
    "- [column] : fest_close / VARCHAR / NULL / 행사종료일 / '행사종료일'"
   ]
  },
  {
   "cell_type": "code",
   "execution_count": 37,
   "id": "94d1c606-6eed-4c2a-9eda-2f3b4cba9878",
   "metadata": {
    "scrolled": true
   },
   "outputs": [
    {
     "name": "stdout",
     "output_type": "stream",
     "text": [
      "+-------+-----------+-----------+-------------------------------+---------------------------+-------------------------------+-------------+-------------+-----------+-----------+\n",
      "|tour_id|tour_cat_id|open_hour_1|                    open_hour_2|                open_hour_3|                      close_day|open_period_1|open_period_2|  fest_open| fest_close|\n",
      "+-------+-----------+-----------+-------------------------------+---------------------------+-------------------------------+-------------+-------------+-----------+-----------+\n",
      "|   1677|          1|       null|                           null|[월,화,목]오후2:00~오후1...|                           null|         null|         null|2.0240101E7|2.0241231E7|\n",
      "|    474|          2|       null|                           null|                       null|                           null|         null|         null|        NaN|        NaN|\n",
      "|    964|          2|       null|                           null|                       null|                           null|         null|         null|        NaN|        NaN|\n",
      "|   1950|          2|       null|                           null|                       null|                           null|         null|         null|        NaN|        NaN|\n",
      "|   2250|          2|       null|                      상시 가능|                       null|                           없음|         null|         null|        NaN|        NaN|\n",
      "|   2509|          2|       null|상시개방(물놀이는 7-8월 한시...|                       null|                       연중무휴|         null|         null|        NaN|        NaN|\n",
      "|   2529|          2|       null|                           null|                       null|                           null|         null|         null|        NaN|        NaN|\n",
      "|   3091|          2|       null|                       상시개방|                       null|                       연중무휴|         null|         null|        NaN|        NaN|\n",
      "|   1806|          3|       null|                    10:00~17:00|                       null|토요일, 일요일 및 공휴일 (기...|         null|         null|        NaN|        NaN|\n",
      "|   2040|          3|       null|           09:00~17:00<br>\\n...|                       null|                    매주 월요일|         null|         null|        NaN|        NaN|\n",
      "|     26|          4|       null|                           null|                       null|                           null|         null|         null|        NaN|        NaN|\n",
      "|     29|          4|       null|                           null|                       null|                           null|         null|         null|        NaN|        NaN|\n",
      "|   1697|          4|       null|       08:00~22:00(체육시설 ...|                       null|                       연중무휴|         null|         null|        NaN|        NaN|\n",
      "|   2214|          4|       null|                           null|                       null|                       연중무휴|         null|         null|        NaN|        NaN|\n",
      "|   2453|          4|       null|             매일 06:00 - 24:00|                       null|                           없음|         null|         null|        NaN|        NaN|\n",
      "|   2927|          4|       null|         월~금 12:00~23:00 /...|                       null|                           null|         null|         null|        NaN|        NaN|\n",
      "|    558|          2|       null|                         24시간|                       null|                       연중개방|         null|         null|        NaN|        NaN|\n",
      "|   1010|          2|       null|                           null|                       null|                       연중무휴|         null|         null|        NaN|        NaN|\n",
      "|   2895|          2|       null|                   10:00 ~17:30|                       null|매주 월요일, 설 명절, 추석 당일|         null|         null|        NaN|        NaN|\n",
      "|   2906|          2|       null|                           null|                       null|                       연중무휴|         null|         null|        NaN|        NaN|\n",
      "+-------+-----------+-----------+-------------------------------+---------------------------+-------------------------------+-------------+-------------+-----------+-----------+\n",
      "only showing top 20 rows\n",
      "\n"
     ]
    }
   ],
   "source": [
    "# 필요 컬럼 select 해서 tour_info 최종 구성\n",
    "tour_period = joined_df.select(col('tour_id'),\n",
    "                             col('tour_cat_id'),\n",
    "                             col('관람소요시간').alias('open_hour_1'),\n",
    "                             col('이용시간').alias('open_hour_2'),\n",
    "                             col('공연시간').alias('open_hour_3'),\n",
    "                             col('쉬는날').alias('close_day'),\n",
    "                             col('개장기간').alias('open_period_1'),\n",
    "                             col('이용시기').alias('open_period_2'),\n",
    "                             col('행사시작일').alias('fest_open'),\n",
    "                             col('행사종료일').alias('fest_close'))\n",
    "tour_period.show()"
   ]
  },
  {
   "cell_type": "code",
   "execution_count": 38,
   "id": "d40368db-1029-41fb-a50d-307637b15f47",
   "metadata": {},
   "outputs": [
    {
     "name": "stdout",
     "output_type": "stream",
     "text": [
      "+-------+-------------------------+-----------+\n",
      "|tour_id|                     name|tour_cat_id|\n",
      "+-------+-------------------------+-----------+\n",
      "|   1677|허브아일랜드 불빛동화축제|          1|\n",
      "+-------+-------------------------+-----------+\n",
      "\n",
      "+-----+-------------------------+------------+--------+---------------------------+\n",
      "|index|                     명칭|관람소요시간|이용시간|                   공연시간|\n",
      "+-----+-------------------------+------------+--------+---------------------------+\n",
      "| 1677|허브아일랜드 불빛동화축제|        null|    null|[월,화,목]오후2:00~오후1...|\n",
      "+-----+-------------------------+------------+--------+---------------------------+\n",
      "\n"
     ]
    }
   ],
   "source": [
    "# 확인\n",
    "tour_main[tour_main['tour_id']=='1677'].select('tour_id', 'name', 'tour_cat_id').show()\n",
    "travel_data[travel_data['index']=='1677'].select('index', '명칭', '관람소요시간', '이용시간', '공연시간').show()"
   ]
  },
  {
   "cell_type": "code",
   "execution_count": 39,
   "id": "7b77d90c-997b-4b3f-be03-59a4639401ec",
   "metadata": {},
   "outputs": [],
   "source": [
    "# dm db 저장\n",
    "save_data(conf_dm, tour_period, 'tour_period')"
   ]
  },
  {
   "cell_type": "code",
   "execution_count": 60,
   "id": "ea4e8a51-6ba7-4301-9c18-7adfede43ff7",
   "metadata": {},
   "outputs": [],
   "source": [
    "# fk 지정 (mysql 에서 진행)\n",
    "\n",
    "## fk 지정\n",
    "# mysql> alter table tour_period add FOREIGN KEY(tour_id) REFERENCES tour_main(tour_id);\n",
    "# mysql> alter table tour_period add FOREIGN KEY(tour_cat_id) REFERENCES tour_main(tour_cat_id);"
   ]
  },
  {
   "cell_type": "markdown",
   "id": "b3594a28-1942-419e-9672-d73ecbb18a9e",
   "metadata": {},
   "source": [
    "### 5️⃣ 기타정보\n",
    "\n",
    "✔️ Table 명 : tour_etc\n",
    "<br/>\n",
    "\n",
    "✔️ Table 구성 : <br/>\n",
    "\n",
    "[식별] : 컬럼명 / 컬럼타입 / NULL여부 / 설명 / '기존컬럼명'\n",
    "- [fk] : tour_id / INT / NOT NULL / 관광지 Code / \b[tour_main]의 'tour_id' ('index'와 일치시키기)\n",
    "- [fk] : tour_cat_id / INT / NOT NULL / 관광지 대분류 Code / [tour_main]의 'tour_cat_id'\n",
    "- [column] : stroller / VARCHAR / NULL / 유모차 대여 여부 / '유모차 대여 여부'\n",
    "- [column] : pet / VARCHAR / NULL / 애완동물 동반 가능 여부 / '애완동물 동반 가능 여부'\n",
    "- [column] : parking / VARCHAR / NULL / 주차시설 / '주차시설'\n",
    "- [column] : parking_fare / VARCHAR / NULL / 주차요금 / '주차요금'"
   ]
  },
  {
   "cell_type": "code",
   "execution_count": 40,
   "id": "f523ea1f-88f6-41db-abd6-33c396cd2a92",
   "metadata": {},
   "outputs": [],
   "source": [
    "# 동일한 환경으로 적용하기 위해 mySQL 로부터 tour_category 다시 불러오기 \n",
    "travel_data = find_data(conf_dw, 'OVERALL')\n",
    "tour_main = find_data(conf_dm, 'tour_main')"
   ]
  },
  {
   "cell_type": "code",
   "execution_count": 41,
   "id": "81fd247d-7e4f-4865-9034-c61f84f6a750",
   "metadata": {},
   "outputs": [
    {
     "name": "stdout",
     "output_type": "stream",
     "text": [
      "+-------+-----------+--------------------+-----------+---------------------------------+-------+------+\n",
      "|tour_id|tour_cat_id|                name|postal_code|                          address|contact|  area|\n",
      "+-------+-----------+--------------------+-----------+---------------------------------+-------+------+\n",
      "|      1|          3|        (주)교보문고|     3154.0|서울특별시 종로구 종로 1(종로1가)|   null|  서울|\n",
      "|      2|          2|1.21 무장공비 침투로|  486-890,1|  경기도 연천군 장남면 반정리 294|   null|경기도|\n",
      "+-------+-----------+--------------------+-----------+---------------------------------+-------+------+\n",
      "only showing top 2 rows\n",
      "\n"
     ]
    }
   ],
   "source": [
    "tour_main.show(2)"
   ]
  },
  {
   "cell_type": "code",
   "execution_count": 42,
   "id": "d8b71582-ac4f-48c2-b2dc-fafbdd8fa723",
   "metadata": {},
   "outputs": [
    {
     "name": "stdout",
     "output_type": "stream",
     "text": [
      "+-----+--------------------+----------------+-----------------------+---------+---------------------------------+\n",
      "|index|                명칭|유모차 대여 여부|애완동물 동반 가능 여부| 주차시설|                         주차요금|\n",
      "+-----+--------------------+----------------+-----------------------+---------+---------------------------------+\n",
      "|    1|        (주)교보문고|            불가|                   불가|주차 가능|유료 (회원여부/구매금액에 따라...|\n",
      "|    2|1.21 무장공비 침투로|            불가|                   불가|     null|                             null|\n",
      "+-----+--------------------+----------------+-----------------------+---------+---------------------------------+\n",
      "only showing top 2 rows\n",
      "\n"
     ]
    }
   ],
   "source": [
    "# 필요 컬럼 불러오기\n",
    "tmp = travel_data.select('index', '명칭', '유모차 대여 여부', '애완동물 동반 가능 여부', '주차시설', '주차요금')\n",
    "tmp.show(2)"
   ]
  },
  {
   "cell_type": "code",
   "execution_count": 43,
   "id": "74c726c8-6f8b-4242-999b-526d324abd19",
   "metadata": {},
   "outputs": [],
   "source": [
    "# tour_id\n",
    "# [tour_main]의 'tour_id' & 'index' 와 일치시키기\n",
    "\n",
    "joined_df = tmp.join(tour_main, tmp['index']==tour_main['tour_id'], 'inner')"
   ]
  },
  {
   "cell_type": "code",
   "execution_count": 44,
   "id": "a4822992-b1b4-4a82-b68c-ff9762bd2481",
   "metadata": {},
   "outputs": [
    {
     "name": "stdout",
     "output_type": "stream",
     "text": [
      "+-------+------------+-----------+\n",
      "|tour_id|        name|tour_cat_id|\n",
      "+-------+------------+-----------+\n",
      "|      1|(주)교보문고|          3|\n",
      "+-------+------------+-----------+\n",
      "\n",
      "+-----+-------+------------+-----------+\n",
      "|index|tour_id|        명칭|tour_cat_id|\n",
      "+-----+-------+------------+-----------+\n",
      "|    1|      1|(주)교보문고|          3|\n",
      "+-----+-------+------------+-----------+\n",
      "\n",
      "+-------+--------------+-----------+\n",
      "|tour_id|          name|tour_cat_id|\n",
      "+-------+--------------+-----------+\n",
      "|   3504|힐사이드온천텔|          2|\n",
      "+-------+--------------+-----------+\n",
      "\n",
      "+-----+-------+--------------+-----------+\n",
      "|index|tour_id|          명칭|tour_cat_id|\n",
      "+-----+-------+--------------+-----------+\n",
      "| 3504|   3504|힐사이드온천텔|          2|\n",
      "+-----+-------+--------------+-----------+\n",
      "\n"
     ]
    }
   ],
   "source": [
    "# 확인 \n",
    "tour_main[tour_main['tour_id']=='1'].select('tour_id', 'name', 'tour_cat_id').show()\n",
    "joined_df[joined_df['index']=='1'].select('index', 'tour_id', '명칭', 'tour_cat_id').show()\n",
    "tour_main[tour_main['tour_id']=='3504'].select('tour_id', 'name', 'tour_cat_id').show()\n",
    "joined_df[joined_df['index']=='3504'].select('index', 'tour_id', '명칭', 'tour_cat_id').show()"
   ]
  },
  {
   "cell_type": "code",
   "execution_count": 45,
   "id": "c9d919bc-7b58-47b5-9cc5-4950ef646efd",
   "metadata": {},
   "outputs": [
    {
     "data": {
      "text/plain": [
       "['index',\n",
       " '명칭',\n",
       " '유모차 대여 여부',\n",
       " '애완동물 동반 가능 여부',\n",
       " '주차시설',\n",
       " '주차요금',\n",
       " 'tour_id',\n",
       " 'tour_cat_id',\n",
       " 'name',\n",
       " 'postal_code',\n",
       " 'address',\n",
       " 'contact',\n",
       " 'area']"
      ]
     },
     "execution_count": 45,
     "metadata": {},
     "output_type": "execute_result"
    }
   ],
   "source": [
    "joined_df.columns"
   ]
  },
  {
   "cell_type": "markdown",
   "id": "2cbe7f9b-b262-4edd-9315-406e2bd2e499",
   "metadata": {},
   "source": [
    "- [fk] : tour_id / INT / NOT NULL / 관광지 Code / \b[tour_main]의 'tour_id' ('index'와 일치시키기)\n",
    "- [fk] : tour_cat_id / INT / NOT NULL / 관광지 대분류 Code / [tour_main]의 'tour_cat_id'\n",
    "- [column] : stroller / VARCHAR / NULL / 유모차 대여 여부 / '유모차 대여 여부'\n",
    "- [column] : pet / VARCHAR / NULL / 애완동물 동반 가능 여부 / '애완동물 동반 가능 여부'\n",
    "- [column] : parking / VARCHAR / NULL / 주차시설 / '주차시설'\n",
    "- [column] : parking_fare / VARCHAR / NULL / 주차요금 / '주차요금'"
   ]
  },
  {
   "cell_type": "code",
   "execution_count": 46,
   "id": "94331835-c483-405f-9e2a-ecd72d6cfbef",
   "metadata": {},
   "outputs": [
    {
     "name": "stdout",
     "output_type": "stream",
     "text": [
      "+-------+-----------+--------+----+---------------------------------+------------+\n",
      "|tour_id|tour_cat_id|stroller| pet|                          parking|parking_fare|\n",
      "+-------+-----------+--------+----+---------------------------------+------------+\n",
      "|   1677|          1|    불가|불가|                             null|        null|\n",
      "|    474|          2|    불가|불가|               가능<br>요금(무료)|        null|\n",
      "|    964|          2|    불가|불가|               가능<br>요금(무료)|        null|\n",
      "|   1950|          2|    불가|가능|                             null|        null|\n",
      "|   2250|          2|    불가|불가|               있음/주차요금 무료|        null|\n",
      "|   2509|          2|    불가|불가| 염부두민영노외주차장<br>유료(...|        null|\n",
      "|   2529|          2|    불가|불가|                             null|        null|\n",
      "|   3091|          2|    불가|불가|                             있음|        null|\n",
      "|   1806|          3|    불가|불가|             인근 유료주차장 이용|        null|\n",
      "|   2040|          3|    불가|불가|                             있음|        null|\n",
      "|     26|          4|    불가|불가|                             null|        null|\n",
      "|     29|          4|    불가|불가|                             null|        null|\n",
      "|   1697|          4|    불가|불가|                             null|        있음|\n",
      "|   2214|          4|    불가|불가|                             null|        null|\n",
      "|   2453|          4|    불가|불가|                             null|        있음|\n",
      "|   2927|          4|    불가|불가|                             null|        있음|\n",
      "|    558|          2|    불가|가능|                             없음|        null|\n",
      "|   1010|          2|    불가|불가|                             null|        null|\n",
      "|   2895|          2|    불가|불가|                             null|        null|\n",
      "|   2906|          2|    불가|불가|없음(공원 옆 강북구민운동장 이...|        null|\n",
      "+-------+-----------+--------+----+---------------------------------+------------+\n",
      "only showing top 20 rows\n",
      "\n"
     ]
    }
   ],
   "source": [
    "# 필요 컬럼 select 해서 tour_info 최종 구성\n",
    "tour_etc = joined_df.select(col('tour_id'),\n",
    "                             col('tour_cat_id'),\n",
    "                             col('유모차 대여 여부').alias('stroller'),\n",
    "                             col('애완동물 동반 가능 여부').alias('pet'),\n",
    "                             col('주차시설').alias('parking'),\n",
    "                             col('주차요금').alias('parking_fare'))\n",
    "tour_etc.show()"
   ]
  },
  {
   "cell_type": "code",
   "execution_count": 47,
   "id": "a624a016-321a-4101-b71e-84b7b8bf4fe7",
   "metadata": {},
   "outputs": [
    {
     "name": "stdout",
     "output_type": "stream",
     "text": [
      "+-------+------------+-----------+\n",
      "|tour_id|        name|tour_cat_id|\n",
      "+-------+------------+-----------+\n",
      "|   2906|오동근린공원|          2|\n",
      "+-------+------------+-----------+\n",
      "\n",
      "+-----+------------+----------------+-----------------------+---------------------------------+--------+\n",
      "|index|        명칭|유모차 대여 여부|애완동물 동반 가능 여부|                         주차시설|주차요금|\n",
      "+-----+------------+----------------+-----------------------+---------------------------------+--------+\n",
      "| 2906|오동근린공원|            불가|                   불가|없음(공원 옆 강북구민운동장 이...|    null|\n",
      "+-----+------------+----------------+-----------------------+---------------------------------+--------+\n",
      "\n"
     ]
    }
   ],
   "source": [
    "# 확인\n",
    "tour_main[tour_main['tour_id']=='2906'].select('tour_id', 'name', 'tour_cat_id').show()\n",
    "travel_data[travel_data['index']=='2906'].select('index', '명칭', '유모차 대여 여부', \n",
    "                                                 '애완동물 동반 가능 여부', '주차시설', '주차요금').show()"
   ]
  },
  {
   "cell_type": "code",
   "execution_count": 48,
   "id": "b57b47c9-f185-48a8-ad73-5edd57bb19cd",
   "metadata": {},
   "outputs": [],
   "source": [
    "# dm db 저장\n",
    "save_data(conf_dm, tour_etc, 'tour_etc')"
   ]
  },
  {
   "cell_type": "code",
   "execution_count": 76,
   "id": "e4d384b6-f275-4d01-af38-f2088b501dd6",
   "metadata": {},
   "outputs": [],
   "source": [
    "# fk 지정 (mysql 에서 진행)\n",
    "\n",
    "## fk 지정\n",
    "# mysql> alter table tour_etc add FOREIGN KEY(tour_id) REFERENCES tour_main(tour_id);\n",
    "# mysql> alter table tour_etc add FOREIGN KEY(tour_cat_id) REFERENCES tour_main(tour_cat_id);"
   ]
  },
  {
   "cell_type": "markdown",
   "id": "c2a64d3e-ff7a-439c-b28d-361a1eb5608d",
   "metadata": {},
   "source": [
    "### 6️⃣ 관광지 평점\n",
    "\n",
    "✔️ Table 명 : tour_ratings\n",
    "<br/>\n",
    "\n",
    "✔️ Table 구성 : <br/>\n",
    "\n",
    "[식별] : 컬럼명 / 컬럼타입 / NULL여부 / 설명 / '기존컬럼명'\n",
    "- [fk] : tour_id / INT / NOT NULL / 관광지 Code / \b[tour_main]의 'tour_id' ('index'와 일치시키기)\n",
    "- [fk] : tour_cat_id / INT / NOT NULL / 관광지 대분류 Code / [tour_main]의 'tour_cat_id'\n",
    "- [column] : ratings / INT / NULL / 평점 / '평점'"
   ]
  },
  {
   "cell_type": "code",
   "execution_count": 49,
   "id": "86e90ad6-6794-4e57-9b0f-f75b74e3286d",
   "metadata": {},
   "outputs": [
    {
     "data": {
      "text/plain": [
       "['index', '명칭', '평점']"
      ]
     },
     "execution_count": 49,
     "metadata": {},
     "output_type": "execute_result"
    }
   ],
   "source": [
    "tour_ratings.columns"
   ]
  },
  {
   "cell_type": "code",
   "execution_count": 50,
   "id": "c8601ece-a34d-4516-8ee8-09ea5e0435a1",
   "metadata": {},
   "outputs": [],
   "source": [
    "# 동일한 환경으로 적용하기 위해 mySQL 로부터 tour_category 다시 불러오기 \n",
    "tour_main = find_data(conf_dm, 'tour_main')"
   ]
  },
  {
   "cell_type": "code",
   "execution_count": 51,
   "id": "6f615daf-e66d-4d23-af36-2ed5bb66bc9d",
   "metadata": {},
   "outputs": [
    {
     "name": "stdout",
     "output_type": "stream",
     "text": [
      "+-------+-----------+--------------------+-----------+---------------------------------+-------+------+\n",
      "|tour_id|tour_cat_id|                name|postal_code|                          address|contact|  area|\n",
      "+-------+-----------+--------------------+-----------+---------------------------------+-------+------+\n",
      "|      1|          3|        (주)교보문고|     3154.0|서울특별시 종로구 종로 1(종로1가)|   null|  서울|\n",
      "|      2|          2|1.21 무장공비 침투로|  486-890,1|  경기도 연천군 장남면 반정리 294|   null|경기도|\n",
      "+-------+-----------+--------------------+-----------+---------------------------------+-------+------+\n",
      "only showing top 2 rows\n",
      "\n"
     ]
    }
   ],
   "source": [
    "tour_main.show(2)"
   ]
  },
  {
   "cell_type": "code",
   "execution_count": 52,
   "id": "b6b921db-4de6-4eff-8495-d0dee2c21601",
   "metadata": {},
   "outputs": [],
   "source": [
    "# tour_id\n",
    "# [tour_main]의 'tour_id' & 'index' 와 일치시키기\n",
    "\n",
    "joined_df = tour_ratings.join(tour_main, tour_ratings['index']==tour_main['tour_id'], 'inner')"
   ]
  },
  {
   "cell_type": "code",
   "execution_count": 53,
   "id": "60f0e5db-9626-4ab7-9005-f0236436979b",
   "metadata": {},
   "outputs": [
    {
     "data": {
      "text/plain": [
       "['index',\n",
       " '명칭',\n",
       " '평점',\n",
       " 'tour_id',\n",
       " 'tour_cat_id',\n",
       " 'name',\n",
       " 'postal_code',\n",
       " 'address',\n",
       " 'contact',\n",
       " 'area']"
      ]
     },
     "execution_count": 53,
     "metadata": {},
     "output_type": "execute_result"
    }
   ],
   "source": [
    "joined_df.columns"
   ]
  },
  {
   "cell_type": "code",
   "execution_count": 54,
   "id": "57153998-3c0c-4187-b133-00690996ab21",
   "metadata": {},
   "outputs": [
    {
     "name": "stdout",
     "output_type": "stream",
     "text": [
      "+-------+----------+-----------+----------------------------------+\n",
      "|tour_id|      name|tour_cat_id|                           address|\n",
      "+-------+----------+-----------+----------------------------------+\n",
      "|    359|노을캠핑장|          4|인천광역시 강화군 양도면 해안서...|\n",
      "+-------+----------+-----------+----------------------------------+\n",
      "\n",
      "+-----+-------+----------+-----------+----------------------------------+\n",
      "|index|tour_id|      명칭|tour_cat_id|                           address|\n",
      "+-----+-------+----------+-----------+----------------------------------+\n",
      "|  359|    359|노을캠핑장|          4|인천광역시 강화군 양도면 해안서...|\n",
      "+-----+-------+----------+-----------+----------------------------------+\n",
      "\n",
      "+-------+----------+-----------+---------------------------------+\n",
      "|tour_id|      name|tour_cat_id|                          address|\n",
      "+-------+----------+-----------+---------------------------------+\n",
      "|   2096|노을캠핑장|          4|서울특별시 마포구 하늘공원로 1...|\n",
      "+-------+----------+-----------+---------------------------------+\n",
      "\n",
      "+-----+-------+----------+-----------+---------------------------------+\n",
      "|index|tour_id|      명칭|tour_cat_id|                          address|\n",
      "+-----+-------+----------+-----------+---------------------------------+\n",
      "| 2096|   2096|노을캠핑장|          4|서울특별시 마포구 하늘공원로 1...|\n",
      "+-----+-------+----------+-----------+---------------------------------+\n",
      "\n"
     ]
    }
   ],
   "source": [
    "# 확인 \n",
    "tour_main[tour_main['tour_id']=='359'].select('tour_id', 'name', 'tour_cat_id', 'address').show()\n",
    "joined_df[joined_df['index']=='359'].select('index', 'tour_id', '명칭', 'tour_cat_id', 'address').show()\n",
    "tour_main[tour_main['tour_id']=='2096'].select('tour_id', 'name', 'tour_cat_id', 'address').show()\n",
    "joined_df[joined_df['index']=='2096'].select('index', 'tour_id', '명칭', 'tour_cat_id', 'address').show()"
   ]
  },
  {
   "cell_type": "code",
   "execution_count": 55,
   "id": "e84f9627-afd0-4b45-b4f5-981200d5801f",
   "metadata": {},
   "outputs": [
    {
     "name": "stdout",
     "output_type": "stream",
     "text": [
      "+-------+-----------+-------+\n",
      "|tour_id|tour_cat_id|ratings|\n",
      "+-------+-----------+-------+\n",
      "|     26|          4|    0.0|\n",
      "|     29|          4|    0.0|\n",
      "|    474|          2|   34.4|\n",
      "|    964|          2|    0.0|\n",
      "|   1677|          1|    0.0|\n",
      "|   1697|          4|    0.0|\n",
      "|   1806|          3|    8.0|\n",
      "|   1950|          2|    0.0|\n",
      "|   2040|          3|    0.0|\n",
      "|   2214|          4|    0.0|\n",
      "|   2250|          2|    0.0|\n",
      "|   2453|          4|    0.0|\n",
      "|   2509|          2|  122.4|\n",
      "|   2529|          2|    0.0|\n",
      "|   2927|          4|    0.0|\n",
      "|   3091|          2|    0.0|\n",
      "|     65|          4|    0.0|\n",
      "|    191|          4|    0.0|\n",
      "|    418|          3|    0.0|\n",
      "|    541|          4|   22.4|\n",
      "+-------+-----------+-------+\n",
      "only showing top 20 rows\n",
      "\n"
     ]
    }
   ],
   "source": [
    "# 필요 컬럼 select 해서 tour_ratings 최종 구성\n",
    "tour_ratings = joined_df.select(col('tour_id'),\n",
    "                             col('tour_cat_id'),\n",
    "                             col('평점').alias('ratings'))\n",
    "tour_ratings.show()"
   ]
  },
  {
   "cell_type": "code",
   "execution_count": 57,
   "id": "58508631-3053-4aba-a5c6-e0d8466bb72b",
   "metadata": {},
   "outputs": [
    {
     "name": "stdout",
     "output_type": "stream",
     "text": [
      "+-------+--------------+-----------+\n",
      "|tour_id|          name|tour_cat_id|\n",
      "+-------+--------------+-----------+\n",
      "|    418|더서울라이티움|          3|\n",
      "+-------+--------------+-----------+\n",
      "\n",
      "+-----+--------------+\n",
      "|index|          명칭|\n",
      "+-----+--------------+\n",
      "|  418|더서울라이티움|\n",
      "+-----+--------------+\n",
      "\n"
     ]
    }
   ],
   "source": [
    "# 확인\n",
    "tour_main[tour_main['tour_id']=='418'].select('tour_id', 'name', 'tour_cat_id').show()\n",
    "travel_data[travel_data['index']=='418'].select('index', '명칭').show()"
   ]
  },
  {
   "cell_type": "code",
   "execution_count": 58,
   "id": "1eacc8d3-8a3b-4330-8ecc-3fd79db340f1",
   "metadata": {},
   "outputs": [],
   "source": [
    "# dm db 저장\n",
    "save_data(conf_dm, tour_ratings, 'tour_ratings')"
   ]
  },
  {
   "cell_type": "code",
   "execution_count": null,
   "id": "f575732c-3791-48a9-9a97-18e32f9ca131",
   "metadata": {},
   "outputs": [],
   "source": [
    "# fk 지정 (mysql 에서 진행)\n",
    "\n",
    "## fk 지정\n",
    "# mysql> alter table tour_ratings add FOREIGN KEY(tour_id) REFERENCES tour_main(tour_id);\n",
    "# mysql> alter table tour_ratings add FOREIGN KEY(tour_cat_id) REFERENCES tour_main(tour_cat_id);"
   ]
  },
  {
   "cell_type": "markdown",
   "id": "82c121fc-ee20-48e1-a999-bf5b3d4e4e68",
   "metadata": {},
   "source": [
    "### 7️⃣ 관광지 분위기 키워드\n",
    "\n",
    "✔️ Table 명 : tour_keywords\n",
    "<br/>\n",
    "\n",
    "✔️ Table 구성 : <br/>\n",
    "\n",
    "[식별] : 컬럼명 / 컬럼타입 / NULL여부 / 설명 / '기존컬럼명'\n",
    "- [fk] : tour_id / INT / NOT NULL / 관광지 Code / \b[tour_main]의 'tour_id' ('index'와 일치시키기)\n",
    "- [fk] : tour_cat_id / INT / NOT NULL / 관광지 대분류 Code / [tour_main]의 'tour_cat_id'\n",
    "- [column] : key_1 / VARCHAR / NULL / 1위 키워드 / 'Top_Keyword_1'\n",
    "- [column] : key_2 / VARCHAR / NULL / 2위 키워드 / 'Top_Keyword_2'\n",
    "- [column] : key_3 / VARCHAR / NULL / 3위 키워드 / 'Top_Keyword_3'"
   ]
  },
  {
   "cell_type": "code",
   "execution_count": 28,
   "id": "5929e7e0-3340-4266-a5cd-c9d84db1119a",
   "metadata": {},
   "outputs": [
    {
     "data": {
      "text/plain": [
       "['Top_Keyword_1',\n",
       " 'Top_Keyword_2',\n",
       " 'Top_Keyword_3',\n",
       " 'Tourist_Spot_Name',\n",
       " 'index']"
      ]
     },
     "execution_count": 28,
     "metadata": {},
     "output_type": "execute_result"
    }
   ],
   "source": [
    "tour_keywords.columns"
   ]
  },
  {
   "cell_type": "code",
   "execution_count": 5,
   "id": "dc0d357d-9e12-49b4-b56f-c83b68ca4bfb",
   "metadata": {},
   "outputs": [],
   "source": [
    "# 동일한 환경으로 적용하기 위해 mySQL 로부터 tour_category 다시 불러오기 \n",
    "tour_main = find_data(conf_dm, 'tour_main')"
   ]
  },
  {
   "cell_type": "code",
   "execution_count": 6,
   "id": "7338e27d-66a5-4893-9994-37ba7b53a529",
   "metadata": {},
   "outputs": [
    {
     "name": "stdout",
     "output_type": "stream",
     "text": [
      "+-------+-----------+--------------------+-----------+---------------------------------+-------+------+\n",
      "|tour_id|tour_cat_id|                name|postal_code|                          address|contact|  area|\n",
      "+-------+-----------+--------------------+-----------+---------------------------------+-------+------+\n",
      "|      1|          3|        (주)교보문고|     3154.0|서울특별시 종로구 종로 1(종로1가)|   null|  서울|\n",
      "|      2|          2|1.21 무장공비 침투로|  486-890,1|  경기도 연천군 장남면 반정리 294|   null|경기도|\n",
      "+-------+-----------+--------------------+-----------+---------------------------------+-------+------+\n",
      "only showing top 2 rows\n",
      "\n"
     ]
    }
   ],
   "source": [
    "tour_main.show(2)"
   ]
  },
  {
   "cell_type": "code",
   "execution_count": 10,
   "id": "83ff966e-1729-436b-833a-74c48de92d92",
   "metadata": {},
   "outputs": [],
   "source": [
    "# tour_id\n",
    "# [tour_main]의 'tour_id' & 'index' 와 일치시키기\n",
    "\n",
    "joined_df = tour_keywords.join(tour_main, tour_keywords['index']==tour_main['tour_id'], 'inner')"
   ]
  },
  {
   "cell_type": "code",
   "execution_count": 11,
   "id": "68a5d9ec-842a-4430-b4de-f10126296232",
   "metadata": {},
   "outputs": [
    {
     "data": {
      "text/plain": [
       "['Top_Keyword_1',\n",
       " 'Top_Keyword_2',\n",
       " 'Top_Keyword_3',\n",
       " 'Tourist_Spot_Name',\n",
       " 'index',\n",
       " 'tour_id',\n",
       " 'tour_cat_id',\n",
       " 'name',\n",
       " 'postal_code',\n",
       " 'address',\n",
       " 'contact',\n",
       " 'area']"
      ]
     },
     "execution_count": 11,
     "metadata": {},
     "output_type": "execute_result"
    }
   ],
   "source": [
    "joined_df.columns"
   ]
  },
  {
   "cell_type": "code",
   "execution_count": 12,
   "id": "1868dfa9-748d-4462-9e49-9b62aa953120",
   "metadata": {},
   "outputs": [
    {
     "name": "stdout",
     "output_type": "stream",
     "text": [
      "+-------+----------+-----------+----------------------------------+\n",
      "|tour_id|      name|tour_cat_id|                           address|\n",
      "+-------+----------+-----------+----------------------------------+\n",
      "|    359|노을캠핑장|          4|인천광역시 강화군 양도면 해안서...|\n",
      "+-------+----------+-----------+----------------------------------+\n",
      "\n",
      "+-----+-------+-----------------+-----------+----------------------------------+\n",
      "|index|tour_id|Tourist_Spot_Name|tour_cat_id|                           address|\n",
      "+-----+-------+-----------------+-----------+----------------------------------+\n",
      "|  359|    359|       노을캠핑장|          4|인천광역시 강화군 양도면 해안서...|\n",
      "+-----+-------+-----------------+-----------+----------------------------------+\n",
      "\n",
      "+-------+----------+-----------+---------------------------------+\n",
      "|tour_id|      name|tour_cat_id|                          address|\n",
      "+-------+----------+-----------+---------------------------------+\n",
      "|   2096|노을캠핑장|          4|서울특별시 마포구 하늘공원로 1...|\n",
      "+-------+----------+-----------+---------------------------------+\n",
      "\n",
      "+-----+-------+-----------------+-----------+---------------------------------+\n",
      "|index|tour_id|Tourist_Spot_Name|tour_cat_id|                          address|\n",
      "+-----+-------+-----------------+-----------+---------------------------------+\n",
      "| 2096|   2096|       노을캠핑장|          4|서울특별시 마포구 하늘공원로 1...|\n",
      "+-----+-------+-----------------+-----------+---------------------------------+\n",
      "\n"
     ]
    }
   ],
   "source": [
    "# 확인 \n",
    "tour_main[tour_main['tour_id']=='359'].select('tour_id', 'name', 'tour_cat_id', 'address').show()\n",
    "joined_df[joined_df['index']=='359'].select('index', 'tour_id', 'Tourist_Spot_Name', 'tour_cat_id', 'address').show()\n",
    "tour_main[tour_main['tour_id']=='2096'].select('tour_id', 'name', 'tour_cat_id', 'address').show()\n",
    "joined_df[joined_df['index']=='2096'].select('index', 'tour_id', 'Tourist_Spot_Name', 'tour_cat_id', 'address').show()"
   ]
  },
  {
   "cell_type": "code",
   "execution_count": 13,
   "id": "022eb261-e814-44f8-a404-1e18eb71eaab",
   "metadata": {},
   "outputs": [
    {
     "name": "stdout",
     "output_type": "stream",
     "text": [
      "+-------+-----------+---------+---------+---------+\n",
      "|tour_id|tour_cat_id|    key_1|    key_2|    key_3|\n",
      "+-------+-----------+---------+---------+---------+\n",
      "|     26|          4|adventure|   nature|   joyful|\n",
      "|     29|          4|   nature| cultural|   joyful|\n",
      "|    474|          2|   nature| cultural|   joyful|\n",
      "|    964|          2|tradition| cultural|   joyful|\n",
      "|   1677|          1|tradition|adventure|      art|\n",
      "|   1697|          4|tradition|   joyful|   nature|\n",
      "|   1806|          3|      art|   joyful|tradition|\n",
      "|   1950|          2|   nature| cultural|   joyful|\n",
      "|   2040|          3|adventure|      art| cultural|\n",
      "|   2214|          4|   nature|tradition|adventure|\n",
      "|   2250|          2|   nature| cultural|   joyful|\n",
      "|   2453|          4|   nature|   joyful|adventure|\n",
      "|   2509|          2| cultural|adventure|   joyful|\n",
      "|   2529|          2| cultural|adventure|   joyful|\n",
      "|   2927|          4|adventure|   joyful| cultural|\n",
      "|   3091|          2|adventure|   nature|   joyful|\n",
      "|     65|          4|adventure|tradition| cultural|\n",
      "|    191|          4|   nature|tradition|adventure|\n",
      "|    418|          3| cultural|adventure|   joyful|\n",
      "|    541|          4|adventure|   joyful|      art|\n",
      "+-------+-----------+---------+---------+---------+\n",
      "only showing top 20 rows\n",
      "\n"
     ]
    }
   ],
   "source": [
    "# 필요 컬럼 select 해서 tour_keywords 최종 구성\n",
    "tour_keywords = joined_df.select(col('tour_id'),\n",
    "                             col('tour_cat_id'),\n",
    "                             col('Top_Keyword_1').alias('key_1'), \n",
    "                             col('Top_Keyword_2').alias('key_2'),\n",
    "                             col('Top_Keyword_3').alias('key_3'))\n",
    "                                 \n",
    "tour_keywords.show()"
   ]
  },
  {
   "cell_type": "code",
   "execution_count": 21,
   "id": "17000023-3b02-4c10-928f-c33695c00853",
   "metadata": {},
   "outputs": [
    {
     "name": "stdout",
     "output_type": "stream",
     "text": [
      "+-------+----------+-----------+\n",
      "|tour_id|      name|tour_cat_id|\n",
      "+-------+----------+-----------+\n",
      "|    474|둔배미공원|          2|\n",
      "+-------+----------+-----------+\n",
      "\n"
     ]
    }
   ],
   "source": [
    "# 확인\n",
    "tour_main[tour_main['tour_id']=='474'].select('tour_id', 'name', 'tour_cat_id').show()\n",
    "#travel_data[travel_data['index']=='474'].select('index', '명칭').show()\n",
    "#joined_df[joined_df['index']=='474'].select('index', 'tour_cat_id', 'Top_Keyword_1', 'Top_Keyword_2', 'Top_Keyword_3').show()"
   ]
  },
  {
   "cell_type": "code",
   "execution_count": 19,
   "id": "a9d7b77f-e43c-4ac7-8b2f-06b2d61d1856",
   "metadata": {},
   "outputs": [],
   "source": [
    "# dm db 저장\n",
    "save_data(conf_dm, tour_keywords, 'tour_keywords')"
   ]
  },
  {
   "cell_type": "code",
   "execution_count": null,
   "id": "e5680ecb-243d-4c4d-9c99-bda7fc942cb1",
   "metadata": {},
   "outputs": [],
   "source": [
    "# fk 지정 (mysql 에서 진행)\n",
    "\n",
    "## fk 지정\n",
    "# mysql> alter table tour_keywords add FOREIGN KEY(tour_id) REFERENCES tour_main(tour_id);\n",
    "# mysql> alter table tour_keywords add FOREIGN KEY(tour_cat_id) REFERENCES tour_main(tour_cat_id);"
   ]
  },
  {
   "cell_type": "markdown",
   "id": "dfdfdda3",
   "metadata": {},
   "source": [
    "### 8️⃣ 관광지 이미지 경로\n",
    "\n",
    "✔️ Table 명 : tour_img_path\n",
    "<br/>\n",
    "\n",
    "✔️ Table 구성 : <br/>\n",
    "\n",
    "[식별] : 컬럼명 / 컬럼타입 / NULL여부 / 설명 / '기존컬럼명'\n",
    "- [fk] : tour_id / INT / NOT NULL / 관광지 Code / [tour_main]의 'tour_id' ('index'와 일치시키기)\n",
    "- [fk] : tour_cat_id / INT / NOT NULL / 관광지 대분류 Code / [tour_main]의 'tour_cat_id'\n",
    "- [column] : img_path / VARCHAR / NULL / 이미지 파일경로 / 'image_path'"
   ]
  },
  {
   "cell_type": "code",
   "execution_count": 24,
   "id": "d18fdc67",
   "metadata": {},
   "outputs": [],
   "source": [
    "# 동일한 환경으로 적용하기 위해 mySQL 로부터 tour_category 다시 불러오기 \n",
    "tour_main = find_data(conf_dm, 'tour_main')"
   ]
  },
  {
   "cell_type": "code",
   "execution_count": 25,
   "id": "9bc9d241",
   "metadata": {},
   "outputs": [
    {
     "name": "stdout",
     "output_type": "stream",
     "text": [
      "+-------+-----------+--------------------+-----------+---------------------------------+-------+------+\n",
      "|tour_id|tour_cat_id|                name|postal_code|                          address|contact|  area|\n",
      "+-------+-----------+--------------------+-----------+---------------------------------+-------+------+\n",
      "|      1|          3|        (주)교보문고|     3154.0|서울특별시 종로구 종로 1(종로1가)|   null|  서울|\n",
      "|      2|          2|1.21 무장공비 침투로|  486-890,1|  경기도 연천군 장남면 반정리 294|   null|경기도|\n",
      "+-------+-----------+--------------------+-----------+---------------------------------+-------+------+\n",
      "only showing top 2 rows\n",
      "\n"
     ]
    }
   ],
   "source": [
    "tour_main.show(2)"
   ]
  },
  {
   "cell_type": "code",
   "execution_count": 26,
   "id": "197d661d",
   "metadata": {},
   "outputs": [],
   "source": [
    "# tour_id\n",
    "# [tour_main]의 'tour_id' & 'index' 와 일치시키기\n",
    "\n",
    "joined_df = tour_imgpath.join(tour_main, tour_imgpath['index']==tour_main['tour_id'], 'inner')"
   ]
  },
  {
   "cell_type": "code",
   "execution_count": 27,
   "id": "d8bff4ab",
   "metadata": {},
   "outputs": [
    {
     "data": {
      "text/plain": [
       "['image_path',\n",
       " 'index',\n",
       " 'tour_name',\n",
       " 'tour_id',\n",
       " 'tour_cat_id',\n",
       " 'name',\n",
       " 'postal_code',\n",
       " 'address',\n",
       " 'contact',\n",
       " 'area']"
      ]
     },
     "execution_count": 27,
     "metadata": {},
     "output_type": "execute_result"
    }
   ],
   "source": [
    "joined_df.columns"
   ]
  },
  {
   "cell_type": "code",
   "execution_count": 28,
   "id": "d7e891ab",
   "metadata": {},
   "outputs": [
    {
     "name": "stdout",
     "output_type": "stream",
     "text": [
      "+-------+----------+-----------+----------------------------------+\n",
      "|tour_id|      name|tour_cat_id|                           address|\n",
      "+-------+----------+-----------+----------------------------------+\n",
      "|    359|노을캠핑장|          4|인천광역시 강화군 양도면 해안서...|\n",
      "+-------+----------+-----------+----------------------------------+\n",
      "\n",
      "+-----+----------+-----------+----------------------------------+\n",
      "|index| tour_name|tour_cat_id|                           address|\n",
      "+-----+----------+-----------+----------------------------------+\n",
      "|  359|노을캠핑장|          4|인천광역시 강화군 양도면 해안서...|\n",
      "|  359|노을캠핑장|          4|인천광역시 강화군 양도면 해안서...|\n",
      "|  359|노을캠핑장|          4|인천광역시 강화군 양도면 해안서...|\n",
      "|  359|노을캠핑장|          4|인천광역시 강화군 양도면 해안서...|\n",
      "|  359|노을캠핑장|          4|인천광역시 강화군 양도면 해안서...|\n",
      "+-----+----------+-----------+----------------------------------+\n",
      "\n",
      "+-------+----------+-----------+---------------------------------+\n",
      "|tour_id|      name|tour_cat_id|                          address|\n",
      "+-------+----------+-----------+---------------------------------+\n",
      "|   2096|노을캠핑장|          4|서울특별시 마포구 하늘공원로 1...|\n",
      "+-------+----------+-----------+---------------------------------+\n",
      "\n",
      "+-----+----------+-----------+---------------------------------+\n",
      "|index| tour_name|tour_cat_id|                          address|\n",
      "+-----+----------+-----------+---------------------------------+\n",
      "| 2096|노을캠핑장|          4|서울특별시 마포구 하늘공원로 1...|\n",
      "| 2096|노을캠핑장|          4|서울특별시 마포구 하늘공원로 1...|\n",
      "| 2096|노을캠핑장|          4|서울특별시 마포구 하늘공원로 1...|\n",
      "| 2096|노을캠핑장|          4|서울특별시 마포구 하늘공원로 1...|\n",
      "| 2096|노을캠핑장|          4|서울특별시 마포구 하늘공원로 1...|\n",
      "+-----+----------+-----------+---------------------------------+\n",
      "\n"
     ]
    }
   ],
   "source": [
    "# 확인 \n",
    "tour_main[tour_main['tour_id']=='359'].select('tour_id', 'name', 'tour_cat_id', 'address').show()\n",
    "joined_df[joined_df['index']=='359'].select('index', 'tour_name', 'tour_cat_id', 'address').show()\n",
    "tour_main[tour_main['tour_id']=='2096'].select('tour_id', 'name', 'tour_cat_id', 'address').show()\n",
    "joined_df[joined_df['index']=='2096'].select('index', 'tour_name', 'tour_cat_id', 'address').show()"
   ]
  },
  {
   "cell_type": "markdown",
   "id": "96fbb90c",
   "metadata": {},
   "source": [
    "- [fk] : tour_id / INT / NOT NULL / 관광지 Code / [tour_main]의 'tour_id' ('index'와 일치시키기)\n",
    "- [fk] : tour_cat_id / INT / NOT NULL / 관광지 대분류 Code / [tour_main]의 'tour_cat_id'\n",
    "- [column] : img_path / VARCHAR / NULL / 이미지 파일경로 / 'image_path'"
   ]
  },
  {
   "cell_type": "code",
   "execution_count": 30,
   "id": "53532a10",
   "metadata": {},
   "outputs": [
    {
     "name": "stdout",
     "output_type": "stream",
     "text": [
      "+-------+-----------+--------------------+\n",
      "|tour_id|tour_cat_id|            img_path|\n",
      "+-------+-----------+--------------------+\n",
      "|   1829|          2|/home/lab09/tour_...|\n",
      "|   1829|          2|/home/lab09/tour_...|\n",
      "+-------+-----------+--------------------+\n",
      "only showing top 2 rows\n",
      "\n"
     ]
    }
   ],
   "source": [
    "# 필요 컬럼 select 해서 tour_img_path 최종 구성\n",
    "tour_img_path = joined_df.select(col('tour_id'),\n",
    "                             col('tour_cat_id'),\n",
    "                             col('image_path').alias('img_path'))\n",
    "tour_img_path.show(2)"
   ]
  },
  {
   "cell_type": "code",
   "execution_count": 36,
   "id": "3a50f035",
   "metadata": {},
   "outputs": [
    {
     "name": "stdout",
     "output_type": "stream",
     "text": [
      "+-------+------+-----------+\n",
      "|tour_id|  name|tour_cat_id|\n",
      "+-------+------+-----------+\n",
      "|   1959|광명항|          2|\n",
      "+-------+------+-----------+\n",
      "\n",
      "+-----+------+\n",
      "|index|  명칭|\n",
      "+-----+------+\n",
      "| 1959|광명항|\n",
      "+-----+------+\n",
      "\n"
     ]
    }
   ],
   "source": [
    "# 확인\n",
    "tour_main[tour_main['tour_id']=='1959'].select('tour_id', 'name', 'tour_cat_id').show()\n",
    "travel_data[travel_data['index']=='1959'].select('index', '명칭').show()"
   ]
  },
  {
   "cell_type": "code",
   "execution_count": 32,
   "id": "1925e7b4",
   "metadata": {},
   "outputs": [],
   "source": [
    "# dm db 저장\n",
    "save_data(conf_dm, tour_img_path, 'tour_img_path')"
   ]
  },
  {
   "cell_type": "code",
   "execution_count": null,
   "id": "5772852b",
   "metadata": {},
   "outputs": [],
   "source": [
    "# fk 지정 (mysql 에서 진행)\n",
    "\n",
    "## fk 지정\n",
    "# mysql> alter table tour_img_path add FOREIGN KEY(tour_id) REFERENCES tour_main(tour_id);\n",
    "# mysql> alter table tour_img_path add FOREIGN KEY(tour_cat_id) REFERENCES tour_main(tour_cat_id);"
   ]
  },
  {
   "cell_type": "markdown",
   "id": "0fbff164",
   "metadata": {},
   "source": [
    "### 9️⃣ *수정* 관광지 분위기 키워드 / 평점 합치기 \n",
    "\n",
    "✔️ Table 명 : tour_key_rat\n",
    "<br/>\n",
    "\n",
    "✔️ Table 구성 : <br/>\n",
    "\n",
    "[식별] : 컬럼명 / 컬럼타입 / NULL여부 / 설명 / '기존컬럼명'\n",
    "- [fk] : tour_id / INT / NOT NULL / 관광지 Code / [tour_main]의 'tour_id' ('index'와 일치시키기)\n",
    "- [fk] : tour_cat_id / INT / NOT NULL / 관광지 대분류 Code / [tour_main]의 'tour_cat_id'\n",
    "- [column] : key_1 / VARCHAR / NULL / 1위 키워드 / 'Top_Keyword_1'\n",
    "- [column] : key_2 / VARCHAR / NULL / 2위 키워드 / 'Top_Keyword_2'\n",
    "- [column] : key_3 / VARCHAR / NULL / 3위 키워드 / 'Top_Keyword_3'\n",
    "- [column] : ratings / INT / NULL / 평점 / '평점'"
   ]
  },
  {
   "cell_type": "code",
   "execution_count": 12,
   "id": "b592892d",
   "metadata": {},
   "outputs": [],
   "source": [
    "# dm db tour_keywords_replicated(키워드) & tour_ratings(평점)불러오기 \n",
    "## tour_keywords_replicated : tour_keywords table 컬럼명 임의로 변경한 것 \n",
    "tour_keywords = find_data(conf_dm, 'tour_keywords_replicated')\n",
    "tour_ratings = find_data(conf_dm, 'tour_ratings')"
   ]
  },
  {
   "cell_type": "code",
   "execution_count": 13,
   "id": "185c3f18",
   "metadata": {},
   "outputs": [],
   "source": [
    "# 두 tables의 공통 fk인 'tour_id' 기준으로 join\n",
    "\n",
    "joined_df = tour_keywords.join(tour_ratings, tour_keywords['id']==tour_ratings['tour_id'], 'inner')"
   ]
  },
  {
   "cell_type": "code",
   "execution_count": 14,
   "id": "3ffe16e2",
   "metadata": {
    "scrolled": true
   },
   "outputs": [
    {
     "name": "stdout",
     "output_type": "stream",
     "text": [
      "+----+------+---------+---------+---------+-------+-----------+-------+\n",
      "|  id|cat_id|    key_1|    key_2|    key_3|tour_id|tour_cat_id|ratings|\n",
      "+----+------+---------+---------+---------+-------+-----------+-------+\n",
      "| 463|     2|   nature|adventure| cultural|    463|          2|1230.64|\n",
      "|1591|     4|tradition|   nature| cultural|   1591|          4|    0.0|\n",
      "|3175|     2|adventure|tradition|   joyful|   3175|          2|  408.0|\n",
      "| 496|     3|tradition|adventure|   joyful|    496|          3|    0.0|\n",
      "|1238|     2|tradition| cultural|      art|   1238|          2|    4.0|\n",
      "|1342|     2|tradition|   nature| cultural|   1342|          2|    0.0|\n",
      "| 833|     2|   nature|tradition| cultural|    833|          2|    0.0|\n",
      "|2366|     2|tradition| cultural|   joyful|   2366|          2|   64.0|\n",
      "|1829|     2|   nature|tradition|adventure|   1829|          2|   15.2|\n",
      "| 471|     3| cultural|   joyful|adventure|    471|          3|3885.52|\n",
      "|1959|     2|tradition|adventure| cultural|   1959|          2|    0.0|\n",
      "|1580|     4|tradition|   nature| cultural|   1580|          4|    0.0|\n",
      "|2142|     2|tradition| cultural|   joyful|   2142|          2|    0.0|\n",
      "|2659|     2|   nature| cultural|   joyful|   2659|          2|    0.0|\n",
      "|2866|     4|tradition| cultural|   joyful|   2866|          4|    0.0|\n",
      "|1088|     2|tradition| cultural|   joyful|   1088|          2|    0.0|\n",
      "|2122|     2| cultural|adventure|      art|   2122|          2|   41.6|\n",
      "|1645|     2|tradition| cultural|      art|   1645|          2|    0.0|\n",
      "| 148|     2|tradition|adventure| cultural|    148|          2|    0.0|\n",
      "|1127|     3|      art|tradition| cultural|   1127|          3|    0.0|\n",
      "+----+------+---------+---------+---------+-------+-----------+-------+\n",
      "only showing top 20 rows\n",
      "\n"
     ]
    }
   ],
   "source": [
    "joined_df.show()"
   ]
  },
  {
   "cell_type": "code",
   "execution_count": 15,
   "id": "3acefcdb",
   "metadata": {},
   "outputs": [
    {
     "name": "stdout",
     "output_type": "stream",
     "text": [
      "+-------+-----------+---------+---------+--------+-------+\n",
      "|tour_id|tour_cat_id|    key_1|    key_2|   key_3|ratings|\n",
      "+-------+-----------+---------+---------+--------+-------+\n",
      "|    463|          2|   nature|adventure|cultural|1230.64|\n",
      "|   1591|          4|tradition|   nature|cultural|    0.0|\n",
      "+-------+-----------+---------+---------+--------+-------+\n",
      "only showing top 2 rows\n",
      "\n"
     ]
    }
   ],
   "source": [
    "# 필요 컬럼 select 해서 tour_key_rat 최종 구성\n",
    "tour_key_rat = joined_df.select(\n",
    "                    col('tour_id'),\n",
    "                    col('tour_cat_id'),\n",
    "                    col('key_1'),\n",
    "                    col('key_2'),\n",
    "                    col('key_3'),\n",
    "                    col('ratings'))\n",
    "tour_key_rat.show(2)"
   ]
  },
  {
   "cell_type": "code",
   "execution_count": 16,
   "id": "26ef6f11",
   "metadata": {},
   "outputs": [],
   "source": [
    "# dm db 저장\n",
    "save_data(conf_dm, tour_key_rat, 'tour_key_rat')"
   ]
  },
  {
   "cell_type": "code",
   "execution_count": null,
   "id": "adbe6a79",
   "metadata": {},
   "outputs": [],
   "source": [
    "# fk 지정 (mysql 에서 진행)\n",
    "\n",
    "## fk 지정\n",
    "# mysql> alter table tour_key_rat add FOREIGN KEY(tour_id) REFERENCES tour_main(tour_id);\n",
    "# mysql> alter table tour_key_rat add FOREIGN KEY(tour_cat_id) REFERENCES tour_main(tour_cat_id);"
   ]
  },
  {
   "cell_type": "code",
   "execution_count": 6,
   "id": "f2e665ce",
   "metadata": {},
   "outputs": [],
   "source": [
    "# excel 파일로 저장 (1)\n",
    "tour_keyrat = find_data(conf_dm, 'tour_key_rat')"
   ]
  },
  {
   "cell_type": "code",
   "execution_count": 7,
   "id": "7dd9d9c1",
   "metadata": {},
   "outputs": [
    {
     "name": "stdout",
     "output_type": "stream",
     "text": [
      "+---+-------+-----------+---------+---------+--------+-------+\n",
      "| id|tour_id|tour_cat_id|    key_1|    key_2|   key_3|ratings|\n",
      "+---+-------+-----------+---------+---------+--------+-------+\n",
      "|  1|    463|          2|   nature|adventure|cultural|1230.64|\n",
      "|  2|   1591|          4|tradition|   nature|cultural|    0.0|\n",
      "+---+-------+-----------+---------+---------+--------+-------+\n",
      "only showing top 2 rows\n",
      "\n"
     ]
    }
   ],
   "source": [
    "tour_keyrat.show(2)"
   ]
  },
  {
   "cell_type": "code",
   "execution_count": 8,
   "id": "39c2a66f",
   "metadata": {},
   "outputs": [],
   "source": [
    "# PySpark DataFrame을 pandas DataFrame으로 변환\n",
    "pandas_df = tour_keyrat.toPandas()\n",
    "\n",
    "# pandas DataFrame을 Excel 파일로 저장\n",
    "pandas_df.to_excel('tour_key_rat.xlsx', index=False)  # index=False는 인덱스를 제외하고 저장하는 옵션\n"
   ]
  },
  {
   "cell_type": "code",
   "execution_count": 5,
   "id": "dab4447f",
   "metadata": {},
   "outputs": [],
   "source": [
    "tour_imgpath = find_data(conf_dm, 'tour_img_path')"
   ]
  },
  {
   "cell_type": "code",
   "execution_count": 6,
   "id": "532cc0f8",
   "metadata": {},
   "outputs": [],
   "source": [
    "pandas_imgpath = tour_imgpath.toPandas()\n",
    "pandas_imgpath.to_excel('tour_imgpath.xlsx', index=False)"
   ]
  }
 ],
 "metadata": {
  "kernelspec": {
   "display_name": "Python 3",
   "language": "python",
   "name": "python3"
  },
  "language_info": {
   "codemirror_mode": {
    "name": "ipython",
    "version": 3
   },
   "file_extension": ".py",
   "mimetype": "text/x-python",
   "name": "python",
   "nbconvert_exporter": "python",
   "pygments_lexer": "ipython3",
   "version": "3.6.9"
  }
 },
 "nbformat": 4,
 "nbformat_minor": 5
}
