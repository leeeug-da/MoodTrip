{
 "cells": [
  {
   "cell_type": "markdown",
   "id": "87e37496-b310-4ae0-862b-5e188c9851d0",
   "metadata": {},
   "source": [
    "### Packages"
   ]
  },
  {
   "cell_type": "code",
   "execution_count": 1,
   "id": "b14cc46d-cc00-44ac-88a6-d03e30d3a863",
   "metadata": {},
   "outputs": [],
   "source": [
    "# packages\n",
    "from IPython.core.interactiveshell import InteractiveShell\n",
    "InteractiveShell.ast_node_interactivity = \"all\"\n",
    "from datetime import date, datetime\n",
    "from pyspark.sql.types import *\n",
    "from pyspark.sql.functions import *\n",
    "from pyspark.sql import SparkSession\n",
    "from pyspark.sql.functions import col, lit\n",
    "from hdfs import InsecureClient\n",
    "import datetime as dt\n",
    "import pandas as pd\n",
    "import matplotlib.pyplot as plt #그래프 패키지 모듈 등록\n",
    "%matplotlib inline "
   ]
  },
  {
   "cell_type": "code",
   "execution_count": 2,
   "id": "0a4618ab-d3cb-4ef3-9122-9ad8fee745b3",
   "metadata": {},
   "outputs": [],
   "source": [
    "# matplotlib 한글폰트 \n",
    "import platform\n",
    "\n",
    "from matplotlib import font_manager, rc\n",
    "plt.rcParams['axes.unicode_minus'] = False\n",
    "\n",
    "if platform.system() == 'Darwin':  # 맥OS \n",
    "    rc('font', family='AppleGothic')\n",
    "elif platform.system() == 'Windows':  # 윈도우\n",
    "    path = \"c:/Windows/Fonts/malgun.ttf\"\n",
    "    font_name = font_manager.FontProperties(fname=path).get_name()\n",
    "    rc('font', family=font_name)\n",
    "else:\n",
    "    rc('font', family='D2Coding')\n",
    "       \n",
    "# rc('font', family='NanumGothic') # 나눔폰트 사용시"
   ]
  },
  {
   "cell_type": "markdown",
   "id": "761c4668-d72e-46e4-9213-f1e26206bf53",
   "metadata": {},
   "source": [
    "### DW에 있는 Data 사용하기 위한 Hdfs 클라이언트 객체 생성"
   ]
  },
  {
   "cell_type": "code",
   "execution_count": 3,
   "id": "8b5f0b78-ef06-4ff3-b7a1-8cc7b1a36695",
   "metadata": {},
   "outputs": [],
   "source": [
    "client = InsecureClient('http://localhost:9870', user='lab09')"
   ]
  },
  {
   "cell_type": "markdown",
   "id": "7ed35366-c479-4a0a-9916-2dd010c444c3",
   "metadata": {},
   "source": [
    "### Data 불러오기\n",
    "- 문화시설 = cultural.json\n",
    "- 공연행사 = festival1.json\n",
    "- 축제 = festival2.json\n",
    "- 역사관광지 = historical.json\n",
    "- 관광자원 = nature1.json\n",
    "- 자연관광지 = nature2.json\n",
    "- 레포츠 = reports.json\n",
    "- 휴양관광지 = resorts.json"
   ]
  },
  {
   "cell_type": "code",
   "execution_count": 4,
   "id": "98456a59-18c3-4aa1-b115-da80090b04af",
   "metadata": {},
   "outputs": [],
   "source": [
    "cultural = spark.read.json('/raw_data/cultural.json', encoding='utf-8')\n",
    "festival1 = spark.read.json('/raw_data/festival1.json', encoding='utf-8')\n",
    "festival2 = spark.read.json('/raw_data/festival2.json', encoding='utf-8')\n",
    "historical = spark.read.json('/raw_data/historical.json', encoding='utf-8')\n",
    "nature1 = spark.read.json('/raw_data/nature1.json', encoding='utf-8')\n",
    "nature2 = spark.read.json('/raw_data/nature2.json', encoding='utf-8')\n",
    "reports = spark.read.json('/raw_data/reports.json', encoding='utf-8')\n",
    "resorts = spark.read.json('/raw_data/resorts.json', encoding='utf-8')"
   ]
  },
  {
   "cell_type": "markdown",
   "id": "09d5111b-21ff-41a8-97a9-641c19bbcc9f",
   "metadata": {},
   "source": [
    "### 한 DF 로 합치기"
   ]
  },
  {
   "cell_type": "markdown",
   "id": "108f2bdb-e0a7-4f5b-a752-c9f2166c79d4",
   "metadata": {},
   "source": [
    "- merged_df1\n",
    "    - 문화시설 = cultural.json ✔️\n",
    "    - 공연행사 = festival1.json ✔️\n",
    "- 축제 = festival2.json\n",
    "- 역사관광지 = historical.json\n",
    "- 관광자원 = nature1.json\n",
    "- 자연관광지 = nature2.json\n",
    "- 레포츠 = reports.json\n",
    "- 휴양관광지 = resorts.json"
   ]
  },
  {
   "cell_type": "code",
   "execution_count": 5,
   "id": "cb2e5882-daf3-4912-8ad2-667d882e9f87",
   "metadata": {},
   "outputs": [],
   "source": [
    "merged_cols = set(cultural.columns) | set(festival1.columns)\n",
    "\n",
    "def get_new_columns(columns, merged_columns):\n",
    "    return [col(x) if x in columns else lit(None).alias(x) for x in merged_columns]\n",
    "\n",
    "new_cultural = cultural.select(*get_new_columns(cultural.columns, merged_cols))\n",
    "new_festival1 = festival1.select(*get_new_columns(festival1.columns, merged_cols))\n",
    "\n",
    "merged_df1 = new_cultural.unionByName(new_festival1)"
   ]
  },
  {
   "cell_type": "code",
   "execution_count": 6,
   "id": "ed5c093a-fa7d-47df-a759-35510e712932",
   "metadata": {
    "scrolled": true
   },
   "outputs": [
    {
     "name": "stdout",
     "output_type": "stream",
     "text": [
      "root\n",
      " |-- 신용카드 가능 여부: string (nullable = true)\n",
      " |-- 지역: string (nullable = true)\n",
      " |-- 주관사 정보: string (nullable = true)\n",
      " |-- 행사장소: string (nullable = true)\n",
      " |-- 행사시작일: long (nullable = true)\n",
      " |-- 예매처: string (nullable = true)\n",
      " |-- 경도: double (nullable = true)\n",
      " |-- 명칭: string (nullable = true)\n",
      " |-- 수용인원: string (nullable = true)\n",
      " |-- 쉬는날: string (nullable = true)\n",
      " |-- 이용요금: string (nullable = true)\n",
      " |-- 공연시간: string (nullable = true)\n",
      " |-- 전화번호: string (nullable = true)\n",
      " |-- 주최자 연락처: string (nullable = true)\n",
      " |-- 상세정보: string (nullable = true)\n",
      " |-- 진행형태: string (nullable = true)\n",
      " |-- 행사종료일: long (nullable = true)\n",
      " |-- 위도: double (nullable = true)\n",
      " |-- 할인정보: string (nullable = true)\n",
      " |-- 프로그램: string (nullable = true)\n",
      " |-- 애완동물 동반 가능 여부: string (nullable = true)\n",
      " |-- 주관사 연락처: string (nullable = true)\n",
      " |-- 주차시설: string (nullable = true)\n",
      " |-- 관리자: string (nullable = true)\n",
      " |-- 유모차 대여 여부: string (nullable = true)\n",
      " |-- 관람가능연령: string (nullable = true)\n",
      " |-- 관람소요시간: string (nullable = true)\n",
      " |-- 주소: string (nullable = true)\n",
      " |-- 행사장 위치안내: string (nullable = true)\n",
      " |-- 분류: string (nullable = true)\n",
      " |-- 규모: string (nullable = true)\n",
      " |-- 주최자 정보: string (nullable = true)\n",
      " |-- 부대행사: string (nullable = true)\n",
      " |-- 문의 및 안내: string (nullable = true)\n",
      " |-- 주차요금: string (nullable = true)\n",
      " |-- 이벤트 홈페이지: string (nullable = true)\n",
      " |-- 이용시간: string (nullable = true)\n",
      " |-- 축제형태: string (nullable = true)\n",
      " |-- 개요: string (nullable = true)\n",
      " |-- 우편번호: double (nullable = true)\n",
      "\n",
      "cultural shape:  (737, 24)\n",
      "festival1 shape:  (192, 30)\n",
      "merged_df1 shape:  (929, 40)\n"
     ]
    }
   ],
   "source": [
    "merged_df1.printSchema()\n",
    "print('cultural shape: ', (cultural.count(), len(cultural.columns)))\n",
    "print('festival1 shape: ', (festival1.count(), len(festival1.columns)))\n",
    "print('merged_df1 shape: ', (merged_df1.count(), len(merged_df1.columns)))"
   ]
  },
  {
   "cell_type": "markdown",
   "id": "947060df-fa6d-464d-9862-fb1f92faed70",
   "metadata": {},
   "source": [
    "- merged_df2\n",
    "    - merged_df1 ✔️\n",
    "        - 문화시설 = cultural.json \n",
    "        - 공연행사 = festival1.json \n",
    "    - 축제 = festival2.json ✔️\n",
    "- 역사관광지 = historical.json\n",
    "- 관광자원 = nature1.json\n",
    "- 자연관광지 = nature2.json\n",
    "- 레포츠 = reports.json\n",
    "- 휴양관광지 = resorts.json"
   ]
  },
  {
   "cell_type": "code",
   "execution_count": 7,
   "id": "190c1560-f4b9-4af9-95e0-234f82e1b87f",
   "metadata": {},
   "outputs": [],
   "source": [
    "merged_cols = set(merged_df1.columns) | set(festival2.columns)\n",
    "\n",
    "def get_new_columns(columns, merged_columns):\n",
    "    return [col(x) if x in columns else lit(None).alias(x) for x in merged_columns]\n",
    "\n",
    "new_merged_df1 = merged_df1.select(*get_new_columns(merged_df1.columns, merged_cols))\n",
    "new_festival2 = festival2.select(*get_new_columns(festival2.columns, merged_cols))\n",
    "\n",
    "merged_df2 = new_merged_df1.unionByName(new_festival2)"
   ]
  },
  {
   "cell_type": "code",
   "execution_count": 8,
   "id": "21dd0377-dfcc-450b-97f7-73e82768381d",
   "metadata": {
    "scrolled": true
   },
   "outputs": [
    {
     "name": "stdout",
     "output_type": "stream",
     "text": [
      "root\n",
      " |-- 신용카드 가능 여부: string (nullable = true)\n",
      " |-- 지역: string (nullable = true)\n",
      " |-- 주관사 정보: string (nullable = true)\n",
      " |-- 행사장소: string (nullable = true)\n",
      " |-- 행사시작일: long (nullable = true)\n",
      " |-- 예매처: string (nullable = true)\n",
      " |-- 경도: double (nullable = true)\n",
      " |-- 명칭: string (nullable = true)\n",
      " |-- 수용인원: string (nullable = true)\n",
      " |-- 쉬는날: string (nullable = true)\n",
      " |-- 이용요금: string (nullable = true)\n",
      " |-- 공연시간: string (nullable = true)\n",
      " |-- 전화번호: string (nullable = true)\n",
      " |-- 주최자 연락처: string (nullable = true)\n",
      " |-- 상세정보: string (nullable = true)\n",
      " |-- 진행형태: string (nullable = true)\n",
      " |-- 행사종료일: long (nullable = true)\n",
      " |-- 위도: double (nullable = true)\n",
      " |-- 프로그램: string (nullable = true)\n",
      " |-- 할인정보: string (nullable = true)\n",
      " |-- 애완동물 동반 가능 여부: string (nullable = true)\n",
      " |-- 주관사 연락처: string (nullable = true)\n",
      " |-- 주차시설: string (nullable = true)\n",
      " |-- 관리자: string (nullable = true)\n",
      " |-- 유모차 대여 여부: string (nullable = true)\n",
      " |-- 관람가능연령: string (nullable = true)\n",
      " |-- 관람소요시간: string (nullable = true)\n",
      " |-- 주소: string (nullable = true)\n",
      " |-- 행사장 위치안내: string (nullable = true)\n",
      " |-- 분류: string (nullable = true)\n",
      " |-- 규모: string (nullable = true)\n",
      " |-- 주최자 정보: string (nullable = true)\n",
      " |-- 부대행사: string (nullable = true)\n",
      " |-- 문의 및 안내: string (nullable = true)\n",
      " |-- 주차요금: string (nullable = true)\n",
      " |-- 이벤트 홈페이지: string (nullable = true)\n",
      " |-- 이용시간: string (nullable = true)\n",
      " |-- 축제형태: string (nullable = true)\n",
      " |-- 개요: string (nullable = true)\n",
      " |-- 우편번호: double (nullable = true)\n",
      "\n",
      "merged_df1 shape:  (929, 40)\n",
      "festival2 shape:  (347, 30)\n",
      "merged_df2 shape:  (1276, 40)\n"
     ]
    }
   ],
   "source": [
    "merged_df2.printSchema()\n",
    "print('merged_df1 shape: ', (merged_df1.count(), len(merged_df1.columns)))\n",
    "print('festival2 shape: ', (festival2.count(), len(festival2.columns)))\n",
    "print('merged_df2 shape: ', (merged_df2.count(), len(merged_df2.columns)))"
   ]
  },
  {
   "cell_type": "markdown",
   "id": "5abfed7a-a662-40fb-a2d6-15424861ac10",
   "metadata": {},
   "source": [
    "- merged_df3\n",
    "    - merged_df2 ✔️\n",
    "        - merged_df1 \n",
    "            - 문화시설 = cultural.json \n",
    "            - 공연행사 = festival1.json \n",
    "        - 축제 = festival2.json \n",
    "    - 역사관광지 = historical.json ✔️\n",
    "- 관광자원 = nature1.json\n",
    "- 자연관광지 = nature2.json\n",
    "- 레포츠 = reports.json\n",
    "- 휴양관광지 = resorts.json"
   ]
  },
  {
   "cell_type": "code",
   "execution_count": 9,
   "id": "f4331e18-5408-4593-9804-9e03d3d4bca8",
   "metadata": {},
   "outputs": [],
   "source": [
    "merged_cols = set(merged_df2.columns) | set(historical.columns)\n",
    "\n",
    "def get_new_columns(columns, merged_columns):\n",
    "    return [col(x) if x in columns else lit(None).alias(x) for x in merged_columns]\n",
    "\n",
    "new_merged_df2 = merged_df2.select(*get_new_columns(merged_df2.columns, merged_cols))\n",
    "new_historical = historical.select(*get_new_columns(historical.columns, merged_cols))\n",
    "\n",
    "merged_df3 = new_merged_df2.unionByName(new_historical)"
   ]
  },
  {
   "cell_type": "code",
   "execution_count": 10,
   "id": "42d72162-53c8-49ab-8af6-d5245121fcd9",
   "metadata": {
    "scrolled": true
   },
   "outputs": [
    {
     "name": "stdout",
     "output_type": "stream",
     "text": [
      "root\n",
      " |-- 신용카드 가능 여부: string (nullable = true)\n",
      " |-- 지역: string (nullable = true)\n",
      " |-- 주관사 정보: string (nullable = true)\n",
      " |-- 행사장소: string (nullable = true)\n",
      " |-- 행사시작일: long (nullable = true)\n",
      " |-- 예매처: string (nullable = true)\n",
      " |-- 경도: double (nullable = true)\n",
      " |-- 명칭: string (nullable = true)\n",
      " |-- 수용인원: string (nullable = true)\n",
      " |-- 쉬는날: string (nullable = true)\n",
      " |-- 이용요금: string (nullable = true)\n",
      " |-- 공연시간: string (nullable = true)\n",
      " |-- 전화번호: string (nullable = true)\n",
      " |-- 주최자 연락처: string (nullable = true)\n",
      " |-- 상세정보: string (nullable = true)\n",
      " |-- 진행형태: string (nullable = true)\n",
      " |-- 행사종료일: long (nullable = true)\n",
      " |-- 위도: double (nullable = true)\n",
      " |-- 할인정보: string (nullable = true)\n",
      " |-- 프로그램: string (nullable = true)\n",
      " |-- 애완동물 동반 가능 여부: string (nullable = true)\n",
      " |-- 주관사 연락처: string (nullable = true)\n",
      " |--  유산구분: string (nullable = true)\n",
      " |-- 개장일: string (nullable = true)\n",
      " |-- 주차시설: string (nullable = true)\n",
      " |-- 관리자: string (nullable = true)\n",
      " |-- 유모차 대여 여부: string (nullable = true)\n",
      " |-- 관람가능연령: string (nullable = true)\n",
      " |-- 관람소요시간: string (nullable = true)\n",
      " |-- 체험안내: string (nullable = true)\n",
      " |-- 주소: string (nullable = true)\n",
      " |-- 행사장 위치안내: string (nullable = true)\n",
      " |-- 체험가능연령: string (nullable = true)\n",
      " |-- 이용시기: string (nullable = true)\n",
      " |-- 분류: string (nullable = true)\n",
      " |-- 규모: string (nullable = true)\n",
      " |-- 주최자 정보: string (nullable = true)\n",
      " |-- 부대행사: string (nullable = true)\n",
      " |-- 문의 및 안내: string (nullable = true)\n",
      " |-- 주차요금: string (nullable = true)\n",
      " |-- 이벤트 홈페이지: string (nullable = true)\n",
      " |-- 이용시간: string (nullable = true)\n",
      " |-- 축제형태: string (nullable = true)\n",
      " |-- 개요: string (nullable = true)\n",
      " |-- 우편번호: string (nullable = true)\n",
      "\n",
      "merged_df2 shape:  (1276, 40)\n",
      "historical shape:  (590, 24)\n",
      "merged_df3 shape:  (1866, 45)\n"
     ]
    }
   ],
   "source": [
    "merged_df3.printSchema()\n",
    "print('merged_df2 shape: ', (merged_df2.count(), len(merged_df2.columns)))\n",
    "print('historical shape: ', (historical.count(), len(historical.columns)))\n",
    "print('merged_df3 shape: ', (merged_df3.count(), len(merged_df3.columns)))"
   ]
  },
  {
   "cell_type": "markdown",
   "id": "a5505d6d-8e85-436a-b49e-cb8c6ccdf490",
   "metadata": {},
   "source": [
    "- merged_df4\n",
    "    - merged_df3 ✔️\n",
    "        - merged_df2 \n",
    "            - merged_df1 \n",
    "                - 문화시설 = cultural.json \n",
    "                - 공연행사 = festival1.json \n",
    "            - 축제 = festival2.json \n",
    "        - 역사관광지 = historical.json \n",
    "    - 관광자원 = nature1.json ✔️\n",
    "- 자연관광지 = nature2.json\n",
    "- 레포츠 = reports.json\n",
    "- 휴양관광지 = resorts.json"
   ]
  },
  {
   "cell_type": "code",
   "execution_count": 11,
   "id": "941101b0-74bd-43a6-84df-67add6017b26",
   "metadata": {},
   "outputs": [],
   "source": [
    "merged_cols = set(merged_df3.columns) | set(nature1.columns)\n",
    "\n",
    "def get_new_columns(columns, merged_columns):\n",
    "    return [col(x) if x in columns else lit(None).alias(x) for x in merged_columns]\n",
    "\n",
    "new_merged_df3 = merged_df3.select(*get_new_columns(merged_df3.columns, merged_cols))\n",
    "new_nature1 = nature1.select(*get_new_columns(nature1.columns, merged_cols))\n",
    "\n",
    "merged_df4 = new_merged_df3.unionByName(new_nature1)"
   ]
  },
  {
   "cell_type": "code",
   "execution_count": 12,
   "id": "7f3d0859-e566-4c8e-9f8b-1cbb40991ce0",
   "metadata": {
    "scrolled": true
   },
   "outputs": [
    {
     "name": "stdout",
     "output_type": "stream",
     "text": [
      "root\n",
      " |-- 신용카드 가능 여부: string (nullable = true)\n",
      " |-- 지역: string (nullable = true)\n",
      " |-- 주관사 정보: string (nullable = true)\n",
      " |-- 행사장소: string (nullable = true)\n",
      " |-- 행사시작일: long (nullable = true)\n",
      " |-- 예매처: string (nullable = true)\n",
      " |-- 경도: double (nullable = true)\n",
      " |-- 명칭: string (nullable = true)\n",
      " |-- 수용인원: string (nullable = true)\n",
      " |-- 쉬는날: string (nullable = true)\n",
      " |-- 이용요금: string (nullable = true)\n",
      " |-- 공연시간: string (nullable = true)\n",
      " |-- 전화번호: string (nullable = true)\n",
      " |-- 주최자 연락처: string (nullable = true)\n",
      " |-- 상세정보: string (nullable = true)\n",
      " |-- 진행형태: string (nullable = true)\n",
      " |-- 행사종료일: long (nullable = true)\n",
      " |-- 위도: double (nullable = true)\n",
      " |-- 프로그램: string (nullable = true)\n",
      " |-- 할인정보: string (nullable = true)\n",
      " |-- 애완동물 동반 가능 여부: string (nullable = true)\n",
      " |-- 주관사 연락처: string (nullable = true)\n",
      " |--  유산구분: string (nullable = true)\n",
      " |-- 개장일: string (nullable = true)\n",
      " |-- 주차시설: string (nullable = true)\n",
      " |-- 관리자: string (nullable = true)\n",
      " |-- 유모차 대여 여부: string (nullable = true)\n",
      " |-- 관람가능연령: string (nullable = true)\n",
      " |-- 관람소요시간: string (nullable = true)\n",
      " |-- 체험안내: string (nullable = true)\n",
      " |-- 주소: string (nullable = true)\n",
      " |-- 행사장 위치안내: string (nullable = true)\n",
      " |-- 체험가능연령: string (nullable = true)\n",
      " |-- 이용시기: string (nullable = true)\n",
      " |-- 분류: string (nullable = true)\n",
      " |-- 규모: string (nullable = true)\n",
      " |-- 주최자 정보: string (nullable = true)\n",
      " |-- 부대행사: string (nullable = true)\n",
      " |-- 문의 및 안내: string (nullable = true)\n",
      " |-- 주차요금: string (nullable = true)\n",
      " |-- 이벤트 홈페이지: string (nullable = true)\n",
      " |-- 이용시간: string (nullable = true)\n",
      " |-- 축제형태: string (nullable = true)\n",
      " |-- 개요: string (nullable = true)\n",
      " |-- 우편번호: string (nullable = true)\n",
      "\n",
      "merged_df3 shape:  (1866, 45)\n",
      "nature1 shape:  (15, 24)\n",
      "merged_df4 shape:  (1881, 45)\n"
     ]
    }
   ],
   "source": [
    "merged_df4.printSchema()\n",
    "print('merged_df3 shape: ', (merged_df3.count(), len(merged_df3.columns)))\n",
    "print('nature1 shape: ', (nature1.count(), len(nature1.columns)))\n",
    "print('merged_df4 shape: ', (merged_df4.count(), len(merged_df4.columns)))"
   ]
  },
  {
   "cell_type": "markdown",
   "id": "1413b7de-5c32-4088-ab3e-33740d4bdddd",
   "metadata": {},
   "source": [
    "- merged_df5\n",
    "    - merged_df4 ✔️\n",
    "        - merged_df3 \n",
    "            - merged_df2 \n",
    "                - merged_df1 \n",
    "                    - 문화시설 = cultural.json \n",
    "                    - 공연행사 = festival1.json \n",
    "                - 축제 = festival2.json \n",
    "            - 역사관광지 = historical.json \n",
    "        - 관광자원 = nature1.json\n",
    "    - 자연관광지 = nature2.json ✔️\n",
    "- 레포츠 = reports.json\n",
    "- 휴양관광지 = resorts.json"
   ]
  },
  {
   "cell_type": "code",
   "execution_count": 13,
   "id": "d417e6c5-c6f1-4c8c-883d-2c7ef9aee08c",
   "metadata": {},
   "outputs": [],
   "source": [
    "merged_cols = set(merged_df4.columns) | set(nature2.columns)\n",
    "\n",
    "def get_new_columns(columns, merged_columns):\n",
    "    return [col(x) if x in columns else lit(None).alias(x) for x in merged_columns]\n",
    "\n",
    "new_merged_df4 = merged_df4.select(*get_new_columns(merged_df4.columns, merged_cols))\n",
    "new_nature2 = nature2.select(*get_new_columns(nature2.columns, merged_cols))\n",
    "\n",
    "merged_df5 = new_merged_df4.unionByName(new_nature2)"
   ]
  },
  {
   "cell_type": "code",
   "execution_count": 14,
   "id": "62c77dfc-12bc-427c-ab5f-2c73aa862a67",
   "metadata": {
    "scrolled": true
   },
   "outputs": [
    {
     "name": "stdout",
     "output_type": "stream",
     "text": [
      "root\n",
      " |-- 신용카드 가능 여부: string (nullable = true)\n",
      " |-- 지역: string (nullable = true)\n",
      " |-- 주관사 정보: string (nullable = true)\n",
      " |-- 행사장소: string (nullable = true)\n",
      " |-- 행사시작일: long (nullable = true)\n",
      " |-- 예매처: string (nullable = true)\n",
      " |-- 경도: double (nullable = true)\n",
      " |-- 명칭: string (nullable = true)\n",
      " |-- 수용인원: string (nullable = true)\n",
      " |-- 쉬는날: string (nullable = true)\n",
      " |-- 이용요금: string (nullable = true)\n",
      " |-- 공연시간: string (nullable = true)\n",
      " |-- 전화번호: string (nullable = true)\n",
      " |-- 주최자 연락처: string (nullable = true)\n",
      " |-- 상세정보: string (nullable = true)\n",
      " |-- 진행형태: string (nullable = true)\n",
      " |-- 행사종료일: long (nullable = true)\n",
      " |-- 위도: double (nullable = true)\n",
      " |-- 할인정보: string (nullable = true)\n",
      " |-- 프로그램: string (nullable = true)\n",
      " |-- 애완동물 동반 가능 여부: string (nullable = true)\n",
      " |-- 주관사 연락처: string (nullable = true)\n",
      " |--  유산구분: string (nullable = true)\n",
      " |-- 개장일: string (nullable = true)\n",
      " |-- 주차시설: string (nullable = true)\n",
      " |-- 관리자: string (nullable = true)\n",
      " |-- 유모차 대여 여부: string (nullable = true)\n",
      " |-- 관람가능연령: string (nullable = true)\n",
      " |-- 관람소요시간: string (nullable = true)\n",
      " |-- 체험안내: string (nullable = true)\n",
      " |-- 주소: string (nullable = true)\n",
      " |-- 행사장 위치안내: string (nullable = true)\n",
      " |-- 체험가능연령: string (nullable = true)\n",
      " |-- 이용시기: string (nullable = true)\n",
      " |-- 분류: string (nullable = true)\n",
      " |-- 규모: string (nullable = true)\n",
      " |-- 주최자 정보: string (nullable = true)\n",
      " |-- 부대행사: string (nullable = true)\n",
      " |-- 문의 및 안내: string (nullable = true)\n",
      " |-- 주차요금: string (nullable = true)\n",
      " |-- 이벤트 홈페이지: string (nullable = true)\n",
      " |-- 이용시간: string (nullable = true)\n",
      " |-- 축제형태: string (nullable = true)\n",
      " |-- 개요: string (nullable = true)\n",
      " |-- 우편번호: string (nullable = true)\n",
      "\n",
      "merged_df4 shape:  (1881, 45)\n",
      "nature2 shape:  (492, 24)\n",
      "merged_df5 shape:  (2373, 45)\n"
     ]
    }
   ],
   "source": [
    "merged_df5.printSchema()\n",
    "print('merged_df4 shape: ', (merged_df4.count(), len(merged_df4.columns)))\n",
    "print('nature2 shape: ', (nature2.count(), len(nature2.columns)))\n",
    "print('merged_df5 shape: ', (merged_df5.count(), len(merged_df5.columns)))"
   ]
  },
  {
   "cell_type": "markdown",
   "id": "b33a04d9-0fa8-4de9-9602-680f861f54c0",
   "metadata": {},
   "source": [
    "- merged_df6\n",
    "    - merged_df5 ✔️\n",
    "        - merged_df4 \n",
    "            - merged_df3 \n",
    "                - merged_df2 \n",
    "                    - merged_df1 \n",
    "                        - 문화시설 = cultural.json \n",
    "                        - 공연행사 = festival1.json \n",
    "                    - 축제 = festival2.json \n",
    "                - 역사관광지 = historical.json \n",
    "            - 관광자원 = nature1.json\n",
    "        - 자연관광지 = nature2.json\n",
    "    - 레포츠 = reports.json ✔️\n",
    "- 휴양관광지 = resorts.json"
   ]
  },
  {
   "cell_type": "code",
   "execution_count": 15,
   "id": "7f5de61d-ba87-4092-8e5c-5de6774219b4",
   "metadata": {},
   "outputs": [],
   "source": [
    "merged_cols = set(merged_df5.columns) | set(reports.columns)\n",
    "\n",
    "def get_new_columns(columns, merged_columns):\n",
    "    return [col(x) if x in columns else lit(None).alias(x) for x in merged_columns]\n",
    "\n",
    "new_merged_df5 = merged_df5.select(*get_new_columns(merged_df5.columns, merged_cols))\n",
    "new_reports = reports.select(*get_new_columns(reports.columns, merged_cols))\n",
    "\n",
    "merged_df6 = new_merged_df5.unionByName(new_reports)"
   ]
  },
  {
   "cell_type": "code",
   "execution_count": 16,
   "id": "89fc807f-4424-4a32-b308-c39f65f89fb5",
   "metadata": {
    "scrolled": true
   },
   "outputs": [
    {
     "name": "stdout",
     "output_type": "stream",
     "text": [
      "root\n",
      " |-- 신용카드 가능 여부: string (nullable = true)\n",
      " |-- 지역: string (nullable = true)\n",
      " |-- 주관사 정보: string (nullable = true)\n",
      " |-- 행사장소: string (nullable = true)\n",
      " |-- 행사시작일: long (nullable = true)\n",
      " |-- 개장기간: string (nullable = true)\n",
      " |-- 예매처: string (nullable = true)\n",
      " |-- 경도: double (nullable = true)\n",
      " |-- 명칭: string (nullable = true)\n",
      " |-- 수용인원: string (nullable = true)\n",
      " |-- 쉬는날: string (nullable = true)\n",
      " |-- 이용요금: string (nullable = true)\n",
      " |-- 공연시간: string (nullable = true)\n",
      " |-- 전화번호: string (nullable = true)\n",
      " |-- 주최자 연락처: string (nullable = true)\n",
      " |-- 상세정보: string (nullable = true)\n",
      " |-- 진행형태: string (nullable = true)\n",
      " |-- 행사종료일: long (nullable = true)\n",
      " |-- 위도: double (nullable = true)\n",
      " |-- 프로그램: string (nullable = true)\n",
      " |-- 할인정보: string (nullable = true)\n",
      " |-- 애완동물 동반 가능 여부: string (nullable = true)\n",
      " |-- 주관사 연락처: string (nullable = true)\n",
      " |--  유산구분: string (nullable = true)\n",
      " |-- 개장일: string (nullable = true)\n",
      " |-- 주차시설: string (nullable = true)\n",
      " |-- 관리자: string (nullable = true)\n",
      " |-- 유모차 대여 여부: string (nullable = true)\n",
      " |-- 관람가능연령: string (nullable = true)\n",
      " |-- 관람소요시간: string (nullable = true)\n",
      " |-- 체험안내: string (nullable = true)\n",
      " |-- 주소: string (nullable = true)\n",
      " |-- 행사장 위치안내: string (nullable = true)\n",
      " |-- 체험가능연령: string (nullable = true)\n",
      " |-- 이용시기: string (nullable = true)\n",
      " |-- Unnamed: 0: string (nullable = true)\n",
      " |-- 분류: string (nullable = true)\n",
      " |-- 규모: string (nullable = true)\n",
      " |-- 주최자 정보: string (nullable = true)\n",
      " |-- 부대행사: string (nullable = true)\n",
      " |-- 문의 및 안내: string (nullable = true)\n",
      " |-- 주차요금: string (nullable = true)\n",
      " |-- 이벤트 홈페이지: string (nullable = true)\n",
      " |-- 입장료: string (nullable = true)\n",
      " |-- 이용시간: string (nullable = true)\n",
      " |-- 축제형태: string (nullable = true)\n",
      " |-- 개요: string (nullable = true)\n",
      " |-- 우편번호: string (nullable = true)\n",
      "\n",
      "merged_df5 shape:  (2373, 45)\n",
      "reports shape:  (1081, 25)\n",
      "merged_df6 shape:  (3454, 48)\n"
     ]
    }
   ],
   "source": [
    "merged_df6.printSchema()\n",
    "print('merged_df5 shape: ', (merged_df5.count(), len(merged_df5.columns)))\n",
    "print('reports shape: ', (reports.count(), len(reports.columns)))\n",
    "print('merged_df6 shape: ', (merged_df6.count(), len(merged_df6.columns)))"
   ]
  },
  {
   "cell_type": "markdown",
   "id": "5198e818-20f2-479c-a654-d2e1041ec542",
   "metadata": {},
   "source": [
    "- merged_df_fin\n",
    "    - merged_df6 ✔️\n",
    "        - merged_df5 \n",
    "            - merged_df4 \n",
    "                - merged_df3 \n",
    "                    - merged_df2 \n",
    "                        - merged_df1 \n",
    "                            - 문화시설 = cultural.json \n",
    "                            - 공연행사 = festival1.json \n",
    "                        - 축제 = festival2.json \n",
    "                    - 역사관광지 = historical.json \n",
    "                - 관광자원 = nature1.json\n",
    "            - 자연관광지 = nature2.json\n",
    "        - 레포츠 = reports.json \n",
    "    - 휴양관광지 = resorts.json ✔️"
   ]
  },
  {
   "cell_type": "code",
   "execution_count": 17,
   "id": "34db08a1-7b06-48b1-b383-59236b81ff99",
   "metadata": {},
   "outputs": [],
   "source": [
    "merged_cols = set(merged_df6.columns) | set(resorts.columns)\n",
    "\n",
    "def get_new_columns(columns, merged_columns):\n",
    "    return [col(x) if x in columns else lit(None).alias(x) for x in merged_columns]\n",
    "\n",
    "new_merged_df6 = merged_df6.select(*get_new_columns(merged_df6.columns, merged_cols))\n",
    "new_resorts = resorts.select(*get_new_columns(resorts.columns, merged_cols))\n",
    "\n",
    "merged_df_fin = new_merged_df6.unionByName(new_resorts)"
   ]
  },
  {
   "cell_type": "code",
   "execution_count": 18,
   "id": "8f93331a-b39a-4149-a7d6-6ace2d89e607",
   "metadata": {
    "scrolled": true
   },
   "outputs": [
    {
     "name": "stdout",
     "output_type": "stream",
     "text": [
      "root\n",
      " |-- 신용카드 가능 여부: string (nullable = true)\n",
      " |-- 지역: string (nullable = true)\n",
      " |-- 주관사 정보: string (nullable = true)\n",
      " |-- 행사장소: string (nullable = true)\n",
      " |-- 행사시작일: long (nullable = true)\n",
      " |-- 개장기간: string (nullable = true)\n",
      " |-- 예매처: string (nullable = true)\n",
      " |-- 경도: double (nullable = true)\n",
      " |-- 명칭: string (nullable = true)\n",
      " |-- 수용인원: string (nullable = true)\n",
      " |-- 쉬는날: string (nullable = true)\n",
      " |-- 이용요금: string (nullable = true)\n",
      " |-- 공연시간: string (nullable = true)\n",
      " |-- 전화번호: string (nullable = true)\n",
      " |-- 주최자 연락처: string (nullable = true)\n",
      " |-- 상세정보: string (nullable = true)\n",
      " |-- 진행형태: string (nullable = true)\n",
      " |-- 행사종료일: long (nullable = true)\n",
      " |-- 위도: double (nullable = true)\n",
      " |-- 할인정보: string (nullable = true)\n",
      " |-- 프로그램: string (nullable = true)\n",
      " |-- 애완동물 동반 가능 여부: string (nullable = true)\n",
      " |-- 주관사 연락처: string (nullable = true)\n",
      " |--  유산구분: string (nullable = true)\n",
      " |-- 개장일: string (nullable = true)\n",
      " |-- 주차시설: string (nullable = true)\n",
      " |-- 관리자: string (nullable = true)\n",
      " |-- 유모차 대여 여부: string (nullable = true)\n",
      " |-- 관람가능연령: string (nullable = true)\n",
      " |-- 관람소요시간: string (nullable = true)\n",
      " |-- 체험안내: string (nullable = true)\n",
      " |-- 주소: string (nullable = true)\n",
      " |-- 행사장 위치안내: string (nullable = true)\n",
      " |-- 체험가능연령: string (nullable = true)\n",
      " |-- 이용시기: string (nullable = true)\n",
      " |-- Unnamed: 0: string (nullable = true)\n",
      " |-- 분류: string (nullable = true)\n",
      " |-- 규모: string (nullable = true)\n",
      " |-- 주최자 정보: string (nullable = true)\n",
      " |-- 부대행사: string (nullable = true)\n",
      " |-- 문의 및 안내: string (nullable = true)\n",
      " |-- 주차요금: string (nullable = true)\n",
      " |-- 이벤트 홈페이지: string (nullable = true)\n",
      " |-- 입장료: string (nullable = true)\n",
      " |-- 이용시간: string (nullable = true)\n",
      " |-- 축제형태: string (nullable = true)\n",
      " |-- 개요: string (nullable = true)\n",
      " |-- 우편번호: string (nullable = true)\n",
      "\n",
      "merged_df6 shape:  (3454, 48)\n",
      "resorts shape:  (695, 24)\n",
      "merged_df_fin shape:  (4149, 48)\n"
     ]
    }
   ],
   "source": [
    "merged_df_fin.printSchema()\n",
    "print('merged_df6 shape: ', (merged_df6.count(), len(merged_df6.columns)))\n",
    "print('resorts shape: ', (resorts.count(), len(resorts.columns)))\n",
    "print('merged_df_fin shape: ', (merged_df_fin.count(), len(merged_df_fin.columns)))"
   ]
  },
  {
   "cell_type": "code",
   "execution_count": 19,
   "id": "1538d05e-9ed6-4a06-86b0-64a1f9a56e30",
   "metadata": {},
   "outputs": [
    {
     "data": {
      "text/plain": [
       "DataFrame[신용카드 가능 여부: string, 지역: string, 주관사 정보: string, 행사장소: string, 행사시작일: bigint, 개장기간: string, 예매처: string, 경도: double, 명칭: string, 수용인원: string, 쉬는날: string, 이용요금: string, 공연시간: string, 전화번호: string, 주최자 연락처: string, 상세정보: string, 진행형태: string, 행사종료일: bigint, 위도: double, 할인정보: string, 프로그램: string, 애완동물 동반 가능 여부: string, 주관사 연락처: string,  유산구분: string, 개장일: string, 주차시설: string, 관리자: string, 유모차 대여 여부: string, 관람가능연령: string, 관람소요시간: string, 체험안내: string, 주소: string, 행사장 위치안내: string, 체험가능연령: string, 이용시기: string, Unnamed: 0: string, 분류: string, 규모: string, 주최자 정보: string, 부대행사: string, 문의 및 안내: string, 주차요금: string, 이벤트 홈페이지: string, 입장료: string, 이용시간: string, 축제형태: string, 개요: string, 우편번호: string]"
      ]
     },
     "execution_count": 19,
     "metadata": {},
     "output_type": "execute_result"
    }
   ],
   "source": [
    "merged_df_fin"
   ]
  },
  {
   "cell_type": "code",
   "execution_count": 20,
   "id": "ddf9ae74-c67a-4182-8199-ab4cf84fccfc",
   "metadata": {},
   "outputs": [],
   "source": [
    "merged_df_fin.coalesce(1).write.format('json').save('/dw_data/travel_data.json')"
   ]
  },
  {
   "cell_type": "markdown",
   "id": "91b682fe-8a84-4c43-b6e7-4b26a4ab4a5b",
   "metadata": {},
   "source": [
    "### 불필요한 컬럼 제거"
   ]
  },
  {
   "cell_type": "markdown",
   "id": "4eac5e96-0952-443d-ab97-c53db5c5787d",
   "metadata": {},
   "source": [
    "- 위도\n",
    "- 경도\n",
    "- 행사장소\n",
    "- 행사장 위치안내\n",
    "- 관리자\n",
    "- 주최자 정보\n",
    "- 주관사 정보\n",
    "- 주관사 연락처\n",
    "- 주최자 연락처\n",
    "- 신용카드 가능 여부\n",
    "- 할인정보\n",
    "- 개장일\n",
    "- 문의 및 안내\n",
    "- 수용인원\n",
    "- 규모\n",
    "- 이벤트 홈페이지\n",
    "- 유산구분\n",
    "- 부대행사\n",
    "- 진행형태\n",
    "- 축제형태\n",
    "- 예매처\n",
    "- 프로그램"
   ]
  },
  {
   "cell_type": "code",
   "execution_count": 21,
   "id": "4ac96086-5bea-4020-9ddf-e8ed14cd4775",
   "metadata": {},
   "outputs": [],
   "source": [
    "from pyspark.sql.functions import col"
   ]
  },
  {
   "cell_type": "code",
   "execution_count": 22,
   "id": "8ddca73f-a9d4-4779-8e71-e056604e8ca8",
   "metadata": {},
   "outputs": [],
   "source": [
    "merged_df_fin = spark.read.json('/dw_data/travel_data.json', encoding='utf-8')"
   ]
  },
  {
   "cell_type": "code",
   "execution_count": 23,
   "id": "f00457ad-d81c-4546-9a9d-125fe535c585",
   "metadata": {},
   "outputs": [],
   "source": [
    "# merged_df_fin copy\n",
    "df_fin = merged_df_fin.select('*')"
   ]
  },
  {
   "cell_type": "code",
   "execution_count": 24,
   "id": "7308a5b2-68a0-4ce8-864d-e56fc9f8d411",
   "metadata": {},
   "outputs": [],
   "source": [
    "drop_columns = ['위도', '경도', '행사장소', '행사장 위치안내', '관리자', '주최자 정보', '주관사 정보', '주관사 연락처', \n",
    "                '주최자 연락처', '신용카드 가능 여부', '할인정보', '개장일', '문의 및 안내', '수용인원', '규모', '이벤트 홈페이지',\n",
    "                ' 유산구분', '부대행사', '진행형태', '축제형태', '예매처', '프로그램', 'Unnamed: 0']\n",
    "\n",
    "\n",
    "dropped_df_fin = df_fin.drop(*drop_columns)"
   ]
  },
  {
   "cell_type": "code",
   "execution_count": 25,
   "id": "b66e6d59-371e-43c4-b407-d050bec38990",
   "metadata": {},
   "outputs": [
    {
     "name": "stdout",
     "output_type": "stream",
     "text": [
      "root\n",
      " |-- 개요: string (nullable = true)\n",
      " |-- 개장기간: string (nullable = true)\n",
      " |-- 공연시간: string (nullable = true)\n",
      " |-- 관람가능연령: string (nullable = true)\n",
      " |-- 관람소요시간: string (nullable = true)\n",
      " |-- 명칭: string (nullable = true)\n",
      " |-- 분류: string (nullable = true)\n",
      " |-- 상세정보: string (nullable = true)\n",
      " |-- 쉬는날: string (nullable = true)\n",
      " |-- 애완동물 동반 가능 여부: string (nullable = true)\n",
      " |-- 우편번호: string (nullable = true)\n",
      " |-- 유모차 대여 여부: string (nullable = true)\n",
      " |-- 이용시간: string (nullable = true)\n",
      " |-- 이용시기: string (nullable = true)\n",
      " |-- 이용요금: string (nullable = true)\n",
      " |-- 입장료: string (nullable = true)\n",
      " |-- 전화번호: string (nullable = true)\n",
      " |-- 주소: string (nullable = true)\n",
      " |-- 주차시설: string (nullable = true)\n",
      " |-- 주차요금: string (nullable = true)\n",
      " |-- 지역: string (nullable = true)\n",
      " |-- 체험가능연령: string (nullable = true)\n",
      " |-- 체험안내: string (nullable = true)\n",
      " |-- 행사시작일: long (nullable = true)\n",
      " |-- 행사종료일: long (nullable = true)\n",
      "\n"
     ]
    }
   ],
   "source": [
    "dropped_df_fin.printSchema()"
   ]
  },
  {
   "cell_type": "code",
   "execution_count": 26,
   "id": "2f5d6131-0fbf-4a89-aa67-08b4165ba981",
   "metadata": {},
   "outputs": [],
   "source": [
    "df_fin_pd = dropped_df_fin.toPandas()"
   ]
  },
  {
   "cell_type": "code",
   "execution_count": 27,
   "id": "ae229297-d636-49fc-9e26-c07000db8585",
   "metadata": {},
   "outputs": [
    {
     "name": "stdout",
     "output_type": "stream",
     "text": [
      "<class 'pandas.core.frame.DataFrame'>\n",
      "RangeIndex: 4149 entries, 0 to 4148\n",
      "Data columns (total 25 columns):\n",
      " #   Column         Non-Null Count  Dtype  \n",
      "---  ------         --------------  -----  \n",
      " 0   개요             4143 non-null   object \n",
      " 1   개장기간           583 non-null    object \n",
      " 2   공연시간           499 non-null    object \n",
      " 3   관람가능연령         112 non-null    object \n",
      " 4   관람소요시간         326 non-null    object \n",
      " 5   명칭             4147 non-null   object \n",
      " 6   분류             4149 non-null   object \n",
      " 7   상세정보           3666 non-null   object \n",
      " 8   쉬는날            2393 non-null   object \n",
      " 9   애완동물 동반 가능 여부  3199 non-null   object \n",
      " 10  우편번호           4028 non-null   object \n",
      " 11  유모차 대여 여부      3107 non-null   object \n",
      " 12  이용시간           2791 non-null   object \n",
      " 13  이용시기           12 non-null     object \n",
      " 14  이용요금           1167 non-null   object \n",
      " 15  입장료            24 non-null     object \n",
      " 16  전화번호           599 non-null    object \n",
      " 17  주소             4145 non-null   object \n",
      " 18  주차시설           2094 non-null   object \n",
      " 19  주차요금           1182 non-null   object \n",
      " 20  지역             4149 non-null   object \n",
      " 21  체험가능연령         765 non-null    object \n",
      " 22  체험안내           403 non-null    object \n",
      " 23  행사시작일          539 non-null    float64\n",
      " 24  행사종료일          539 non-null    float64\n",
      "dtypes: float64(2), object(23)\n",
      "memory usage: 810.5+ KB\n"
     ]
    }
   ],
   "source": [
    "df_fin_pd.info()"
   ]
  },
  {
   "cell_type": "code",
   "execution_count": 28,
   "id": "f0f817c8-639e-4eca-8d05-e559c33322c7",
   "metadata": {},
   "outputs": [],
   "source": [
    "dropped_df_fin.coalesce(1).write.format('json').save('/dw_data/travel_data_dropped.json')"
   ]
  }
 ],
 "metadata": {
  "kernelspec": {
   "display_name": "Python 3",
   "language": "python",
   "name": "python3"
  },
  "language_info": {
   "codemirror_mode": {
    "name": "ipython",
    "version": 3
   },
   "file_extension": ".py",
   "mimetype": "text/x-python",
   "name": "python",
   "nbconvert_exporter": "python",
   "pygments_lexer": "ipython3",
   "version": "3.6.9"
  }
 },
 "nbformat": 4,
 "nbformat_minor": 5
}
