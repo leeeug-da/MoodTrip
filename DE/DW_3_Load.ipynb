{
 "cells": [
  {
   "cell_type": "markdown",
   "id": "a1ca849d-c544-48c6-aa06-ee800d76fac2",
   "metadata": {},
   "source": [
    "## **Packages**"
   ]
  },
  {
   "cell_type": "code",
   "execution_count": 1,
   "id": "ba092b9e-3cde-40ed-ad71-ef72a1827b55",
   "metadata": {},
   "outputs": [],
   "source": [
    "# packages\n",
    "from IPython.core.interactiveshell import InteractiveShell\n",
    "InteractiveShell.ast_node_interactivity = \"all\"\n",
    "from datetime import date, datetime\n",
    "from pyspark.sql.types import *\n",
    "from pyspark.sql.functions import *\n",
    "from pyspark.sql import SparkSession\n",
    "from pyspark.sql.functions import col, lit\n",
    "from hdfs import InsecureClient\n",
    "import datetime as dt\n",
    "import pandas as pd\n",
    "import matplotlib.pyplot as plt #그래프 패키지 모듈 등록\n",
    "%matplotlib inline "
   ]
  },
  {
   "cell_type": "code",
   "execution_count": 2,
   "id": "0b839828-5533-4cbb-8616-1c241f1c6bc1",
   "metadata": {},
   "outputs": [],
   "source": [
    "# matplotlib 한글폰트 \n",
    "import platform\n",
    "\n",
    "from matplotlib import font_manager, rc\n",
    "plt.rcParams['axes.unicode_minus'] = False\n",
    "\n",
    "if platform.system() == 'Darwin':  # 맥OS \n",
    "    rc('font', family='AppleGothic')\n",
    "elif platform.system() == 'Windows':  # 윈도우\n",
    "    path = \"c:/Windows/Fonts/malgun.ttf\"\n",
    "    font_name = font_manager.FontProperties(fname=path).get_name()\n",
    "    rc('font', family=font_name)\n",
    "else:\n",
    "    rc('font', family='D2Coding')\n",
    "       \n",
    "# rc('font', family='NanumGothic') # 나눔폰트 사용시"
   ]
  },
  {
   "cell_type": "code",
   "execution_count": 4,
   "id": "48d18bbb",
   "metadata": {},
   "outputs": [
    {
     "name": "stdout",
     "output_type": "stream",
     "text": [
      "Defaulting to user installation because normal site-packages is not writeable\n",
      "Collecting pymysql\n",
      "  Downloading PyMySQL-1.0.2-py3-none-any.whl (43 kB)\n",
      "     |████████████████████████████████| 43 kB 3.2 MB/s             \n",
      "\u001b[?25hInstalling collected packages: pymysql\n",
      "Successfully installed pymysql-1.0.2\n"
     ]
    }
   ],
   "source": [
    "# python과 mysql 연결을 위한 필요모듈 패키지\n",
    "#!pip install pymysql"
   ]
  },
  {
   "cell_type": "code",
   "execution_count": 3,
   "id": "e6fb3b4f-8f4b-4740-91f8-a0bac78ca57b",
   "metadata": {},
   "outputs": [
    {
     "name": "stderr",
     "output_type": "stream",
     "text": [
      "/home/lab09/.local/lib/python3.6/site-packages/pymysql/_auth.py:8: CryptographyDeprecationWarning: Python 3.6 is no longer supported by the Python core team. Therefore, support for it is deprecated in cryptography and will be removed in a future release.\n",
      "  from cryptography.hazmat.backends import default_backend\n"
     ]
    }
   ],
   "source": [
    "import pymysql"
   ]
  },
  {
   "cell_type": "markdown",
   "id": "3e2c28e2-e40b-4d3d-84af-9fc26ffd8456",
   "metadata": {},
   "source": [
    "## **DW DB계정 생성**"
   ]
  },
  {
   "cell_type": "markdown",
   "id": "2bea0687-f5c4-4686-b17d-0fde8cd4ddb3",
   "metadata": {},
   "source": [
    "### 📍DB 계정 생성 (mysql)"
   ]
  },
  {
   "cell_type": "code",
   "execution_count": null,
   "id": "95200531-2e0c-43d7-93f6-87785637afd8",
   "metadata": {},
   "outputs": [],
   "source": [
    "# mysql에서 진행\n",
    "\n",
    "## mysql 실행\n",
    "# service mysql start (docker) / sudo service mysql start (aws)\n",
    "# mysql -u root (docker) / sudo mysql -u root -p (aws)\n",
    "\n",
    "## user 생성\n",
    "# mysql> create user bigMysql@'%' identified by 'bigMysql1234@';\n",
    "# mysql> grant all privileges on *.* to bigMysql@'%' with grant option;\n",
    "\n",
    "## 사용할 database 생성\n",
    "# mysql> create database if not exists etlmysql;\n",
    "# mysql> show databases;"
   ]
  },
  {
   "cell_type": "markdown",
   "id": "51b043ec-84a2-4aa9-8ede-d8c51bf42c77",
   "metadata": {},
   "source": [
    "### 📍 DB 계정/서버 정보 (JDBC)"
   ]
  },
  {
   "cell_type": "code",
   "execution_count": 4,
   "id": "1a13431b",
   "metadata": {},
   "outputs": [],
   "source": [
    "JDBC = {\n",
    "      'url':'jdbc:mysql://35.77.255.41:3306/etlmysql?character_set_server=utf8mb4&serverTimezone=Asia/Seoul'\n",
    "     ,'props':{\n",
    "      'user':'bigMysql',\n",
    "      'password':'bigMysql1234@'   \n",
    "      }\n",
    "}"
   ]
  },
  {
   "cell_type": "markdown",
   "id": "9b6b15f2-890a-4487-9606-dd627f8245a4",
   "metadata": {},
   "source": [
    "## **DW DB에 Data 저장**"
   ]
  },
  {
   "cell_type": "markdown",
   "id": "e7d512a5-2f1d-456e-85e9-a5b74ce94857",
   "metadata": {},
   "source": [
    "### **1️⃣ 관광지 정보 데이터**\n",
    "- /dw_data/travel_data_preprocessed.json"
   ]
  },
  {
   "cell_type": "code",
   "execution_count": 5,
   "id": "b1c76f76-fa8d-43ad-8805-8a0262acbe7b",
   "metadata": {},
   "outputs": [],
   "source": [
    "travel_data = spark.read.json('/dw_data/travel_data_preprocessed.json', encoding='utf-8')"
   ]
  },
  {
   "cell_type": "code",
   "execution_count": 11,
   "id": "493b1099-4de0-48ad-a971-78bdb359445d",
   "metadata": {},
   "outputs": [
    {
     "name": "stdout",
     "output_type": "stream",
     "text": [
      "+-----+----------------------------------+--------+--------+-----------+------------+--------------------+----------+-------------+------------+-----------------------+---------+----------------+--------------------------+--------+--------+------+--------+---------------------------------+---------+---------------------------------+------+--------+----------+----------+\n",
      "|index|                              개요|개장기간|공연시간|관광지 분류|관람소요시간|                명칭|      분류|     상세정보|      쉬는날|애완동물 동반 가능 여부| 우편번호|유모차 대여 여부|                  이용시간|이용시기|이용요금|입장료|전화번호|                             주소| 주차시설|                         주차요금|  지역|체험안내|행사시작일|행사종료일|\n",
      "+-----+----------------------------------+--------+--------+-----------+------------+--------------------+----------+-------------+------------+-----------------------+---------+----------------+--------------------------+--------+--------+------+--------+---------------------------------+---------+---------------------------------+------+--------+----------+----------+\n",
      "|    1|교보문고 광화문점은 국민교육 진...|    null|    null|   문화시설|        null|        (주)교보문고|  문화시설|         null|설/추석 당일|                   불가|   3154.0|            불가|               09:30~22:00|    null|    무료|  null|    null|서울특별시 종로구 종로 1(종로1가)|주차 가능|유료 (회원여부/구매금액에 따라...|  서울|    null|       NaN|       NaN|\n",
      "|    2|  ※ 민통초소에 신분증 제시하여 ...|    null|    null| 인문관광지|        null|1.21 무장공비 침투로|역사관광지|화장실:있음\\n| 매주 화요일|                   불가|486-890,1|            불가|[출입가능시간] 10:00~16...|    null|    null|  null|    null|  경기도 연천군 장남면 반정리 294|     null|                             null|경기도|    null|       NaN|       NaN|\n",
      "+-----+----------------------------------+--------+--------+-----------+------------+--------------------+----------+-------------+------------+-----------------------+---------+----------------+--------------------------+--------+--------+------+--------+---------------------------------+---------+---------------------------------+------+--------+----------+----------+\n",
      "only showing top 2 rows\n",
      "\n",
      "root\n",
      " |-- index: long (nullable = true)\n",
      " |-- 개요: string (nullable = true)\n",
      " |-- 개장기간: string (nullable = true)\n",
      " |-- 공연시간: string (nullable = true)\n",
      " |-- 관광지 분류: string (nullable = true)\n",
      " |-- 관람소요시간: string (nullable = true)\n",
      " |-- 명칭: string (nullable = true)\n",
      " |-- 분류: string (nullable = true)\n",
      " |-- 상세정보: string (nullable = true)\n",
      " |-- 쉬는날: string (nullable = true)\n",
      " |-- 애완동물 동반 가능 여부: string (nullable = true)\n",
      " |-- 우편번호: string (nullable = true)\n",
      " |-- 유모차 대여 여부: string (nullable = true)\n",
      " |-- 이용시간: string (nullable = true)\n",
      " |-- 이용시기: string (nullable = true)\n",
      " |-- 이용요금: string (nullable = true)\n",
      " |-- 입장료: string (nullable = true)\n",
      " |-- 전화번호: string (nullable = true)\n",
      " |-- 주소: string (nullable = true)\n",
      " |-- 주차시설: string (nullable = true)\n",
      " |-- 주차요금: string (nullable = true)\n",
      " |-- 지역: string (nullable = true)\n",
      " |-- 체험안내: string (nullable = true)\n",
      " |-- 행사시작일: string (nullable = true)\n",
      " |-- 행사종료일: string (nullable = true)\n",
      "\n"
     ]
    }
   ],
   "source": [
    "travel_data.show(2)\n",
    "travel_data.printSchema()"
   ]
  },
  {
   "cell_type": "code",
   "execution_count": 16,
   "id": "4896d272-2f0b-4016-bffb-ef79f8d453c5",
   "metadata": {},
   "outputs": [
    {
     "data": {
      "text/plain": [
       "{'url': 'jdbc:mysql://35.77.255.41:3306/etlmysql?character_set_server=utf8mb4&serverTimezone=Asia/Seoul',\n",
       " 'props': {'user': 'bigMysql', 'password': 'bigMysql1234@'}}"
      ]
     },
     "execution_count": 16,
     "metadata": {},
     "output_type": "execute_result"
    }
   ],
   "source": [
    "JDBC"
   ]
  },
  {
   "cell_type": "code",
   "execution_count": 17,
   "id": "ffdbf0e2-20db-40ad-87ea-b52e1ffc8d44",
   "metadata": {},
   "outputs": [],
   "source": [
    "# write.mode('overwrite') = 기존 테이블 있으면 해당 테이블에 새로 저장되는 레코드로 덮어쓰기\n",
    "# url = db주소 (JDBC['url'])\n",
    "# table = 테이블명\n",
    "# properties = 계정 등 연결 정보 (JDBC['props'])\n",
    "travel_data.write.mode('overwrite').jdbc(url=JDBC['url'], table='OVERALL',properties=JDBC['props'])"
   ]
  },
  {
   "cell_type": "markdown",
   "id": "98075124-c9fb-4a49-841c-99468cc43d28",
   "metadata": {},
   "source": [
    "### **2️⃣ 평점 데이터**\n",
    "- /dw_data/tour_ratings.json"
   ]
  },
  {
   "cell_type": "code",
   "execution_count": 18,
   "id": "d37bcc21-bd1e-4b32-8526-35f1568179b5",
   "metadata": {},
   "outputs": [],
   "source": [
    "tour_ratings = spark.read.json('/dw_data/tour_ratings.json', encoding='utf-8')"
   ]
  },
  {
   "cell_type": "code",
   "execution_count": 19,
   "id": "3f7306b0-7a35-47e1-99d0-bd16fb6070b4",
   "metadata": {},
   "outputs": [
    {
     "name": "stdout",
     "output_type": "stream",
     "text": [
      "+-----+--------------------+----+\n",
      "|index|                명칭|평점|\n",
      "+-----+--------------------+----+\n",
      "|    1|        (주)교보문고| 0.0|\n",
      "|    2|1.21 무장공비 침투로| 5.6|\n",
      "+-----+--------------------+----+\n",
      "only showing top 2 rows\n",
      "\n",
      "root\n",
      " |-- index: long (nullable = true)\n",
      " |-- 명칭: string (nullable = true)\n",
      " |-- 평점: double (nullable = true)\n",
      "\n"
     ]
    }
   ],
   "source": [
    "tour_ratings.show(2)\n",
    "tour_ratings.printSchema()"
   ]
  },
  {
   "cell_type": "code",
   "execution_count": 20,
   "id": "6ef96109-0132-4fc6-b6c9-681a2a1b9022",
   "metadata": {},
   "outputs": [
    {
     "data": {
      "text/plain": [
       "{'url': 'jdbc:mysql://35.77.255.41:3306/etlmysql?character_set_server=utf8mb4&serverTimezone=Asia/Seoul',\n",
       " 'props': {'user': 'bigMysql', 'password': 'bigMysql1234@'}}"
      ]
     },
     "execution_count": 20,
     "metadata": {},
     "output_type": "execute_result"
    }
   ],
   "source": [
    "JDBC"
   ]
  },
  {
   "cell_type": "code",
   "execution_count": 21,
   "id": "a2805126-3ccc-42f8-b0b2-b17ff5a43328",
   "metadata": {},
   "outputs": [],
   "source": [
    "# write.mode('overwrite') = 기존 테이블 있으면 해당 테이블에 새로 저장되는 레코드로 덮어쓰기\n",
    "# url = db주소 (JDBC['url'])\n",
    "# table = 테이블명\n",
    "# properties = 계정 등 연결 정보 (JDBC['props'])\n",
    "tour_ratings.write.mode('overwrite').jdbc(url=JDBC['url'], table='RATINGS',properties=JDBC['props'])"
   ]
  },
  {
   "cell_type": "markdown",
   "id": "5f0b7891-6cca-4429-99e8-8e9bbf8384b9",
   "metadata": {},
   "source": [
    "### **3️⃣ 관광지 키워드 데이터**\n",
    "- /dw_data/tour_keywords.json"
   ]
  },
  {
   "cell_type": "code",
   "execution_count": 22,
   "id": "1d0a087e-abf1-480f-a8c6-56f557f50e24",
   "metadata": {},
   "outputs": [],
   "source": [
    "tour_keywords = spark.read.json('/dw_data/tour_keywords.json', encoding='utf-8')"
   ]
  },
  {
   "cell_type": "code",
   "execution_count": 23,
   "id": "4ba7c430-feaf-487c-84da-33d986d76cbe",
   "metadata": {},
   "outputs": [
    {
     "name": "stdout",
     "output_type": "stream",
     "text": [
      "+-------------+-------------+-------------+--------------------+-----+\n",
      "|Top_Keyword_1|Top_Keyword_2|Top_Keyword_3|   Tourist_Spot_Name|index|\n",
      "+-------------+-------------+-------------+--------------------+-----+\n",
      "|    adventure|       joyful|          art|        (주)교보문고|    1|\n",
      "|    tradition|     cultural|    adventure|1.21 무장공비 침투로|    2|\n",
      "+-------------+-------------+-------------+--------------------+-----+\n",
      "only showing top 2 rows\n",
      "\n",
      "root\n",
      " |-- Top_Keyword_1: string (nullable = true)\n",
      " |-- Top_Keyword_2: string (nullable = true)\n",
      " |-- Top_Keyword_3: string (nullable = true)\n",
      " |-- Tourist_Spot_Name: string (nullable = true)\n",
      " |-- index: long (nullable = true)\n",
      "\n"
     ]
    }
   ],
   "source": [
    "tour_keywords.show(2)\n",
    "tour_keywords.printSchema()"
   ]
  },
  {
   "cell_type": "code",
   "execution_count": 24,
   "id": "da84435f-22cf-41cc-9215-b5972114aea3",
   "metadata": {},
   "outputs": [
    {
     "data": {
      "text/plain": [
       "{'url': 'jdbc:mysql://35.77.255.41:3306/etlmysql?character_set_server=utf8mb4&serverTimezone=Asia/Seoul',\n",
       " 'props': {'user': 'bigMysql', 'password': 'bigMysql1234@'}}"
      ]
     },
     "execution_count": 24,
     "metadata": {},
     "output_type": "execute_result"
    }
   ],
   "source": [
    "JDBC"
   ]
  },
  {
   "cell_type": "code",
   "execution_count": 25,
   "id": "0fb98c91-13f6-405f-bdac-56622c3b0927",
   "metadata": {},
   "outputs": [],
   "source": [
    "# write.mode('overwrite') = 기존 테이블 있으면 해당 테이블에 새로 저장되는 레코드로 덮어쓰기\n",
    "# url = db주소 (JDBC['url'])\n",
    "# table = 테이블명\n",
    "# properties = 계정 등 연결 정보 (JDBC['props'])\n",
    "tour_keywords.write.mode('overwrite').jdbc(url=JDBC['url'], table='KEYWORDS',properties=JDBC['props'])"
   ]
  },
  {
   "cell_type": "markdown",
   "id": "b707a065",
   "metadata": {},
   "source": [
    "### **3️⃣ 관광지 이미지 경로 데이터**\n",
    "- /dw_data/tour_image_path.csv"
   ]
  },
  {
   "cell_type": "code",
   "execution_count": 5,
   "id": "3e1e4967",
   "metadata": {},
   "outputs": [],
   "source": [
    "tour_imgpath = spark.read.csv('/dw_data/tour_image_path.csv', encoding='utf-8')"
   ]
  },
  {
   "cell_type": "code",
   "execution_count": 7,
   "id": "a2694f9d",
   "metadata": {},
   "outputs": [
    {
     "data": {
      "text/html": [
       "<div>\n",
       "<style scoped>\n",
       "    .dataframe tbody tr th:only-of-type {\n",
       "        vertical-align: middle;\n",
       "    }\n",
       "\n",
       "    .dataframe tbody tr th {\n",
       "        vertical-align: top;\n",
       "    }\n",
       "\n",
       "    .dataframe thead th {\n",
       "        text-align: right;\n",
       "    }\n",
       "</style>\n",
       "<table border=\"1\" class=\"dataframe\">\n",
       "  <thead>\n",
       "    <tr style=\"text-align: right;\">\n",
       "      <th></th>\n",
       "      <th>_c0</th>\n",
       "      <th>_c1</th>\n",
       "      <th>_c2</th>\n",
       "      <th>_c3</th>\n",
       "    </tr>\n",
       "  </thead>\n",
       "  <tbody>\n",
       "    <tr>\n",
       "      <th>0</th>\n",
       "      <td>None</td>\n",
       "      <td>index1</td>\n",
       "      <td>name</td>\n",
       "      <td>image_path</td>\n",
       "    </tr>\n",
       "    <tr>\n",
       "      <th>1</th>\n",
       "      <td>0</td>\n",
       "      <td>1750</td>\n",
       "      <td>(구)인천일본제58은행지점</td>\n",
       "      <td>/home/lab09/tour_image/(구)인천일본제58은행지점_1.jpg</td>\n",
       "    </tr>\n",
       "  </tbody>\n",
       "</table>\n",
       "</div>"
      ],
      "text/plain": [
       "    _c0     _c1             _c2                                          _c3\n",
       "0  None  index1            name                                   image_path\n",
       "1     0    1750  (구)인천일본제58은행지점  /home/lab09/tour_image/(구)인천일본제58은행지점_1.jpg"
      ]
     },
     "execution_count": 7,
     "metadata": {},
     "output_type": "execute_result"
    }
   ],
   "source": [
    "imgpath_pd = tour_imgpath.toPandas()\n",
    "imgpath_pd.head(2)"
   ]
  },
  {
   "cell_type": "code",
   "execution_count": 8,
   "id": "eb9cfc5a",
   "metadata": {},
   "outputs": [
    {
     "data": {
      "text/html": [
       "<div>\n",
       "<style scoped>\n",
       "    .dataframe tbody tr th:only-of-type {\n",
       "        vertical-align: middle;\n",
       "    }\n",
       "\n",
       "    .dataframe tbody tr th {\n",
       "        vertical-align: top;\n",
       "    }\n",
       "\n",
       "    .dataframe thead th {\n",
       "        text-align: right;\n",
       "    }\n",
       "</style>\n",
       "<table border=\"1\" class=\"dataframe\">\n",
       "  <thead>\n",
       "    <tr style=\"text-align: right;\">\n",
       "      <th></th>\n",
       "      <th>NaN</th>\n",
       "      <th>index1</th>\n",
       "      <th>name</th>\n",
       "      <th>image_path</th>\n",
       "    </tr>\n",
       "  </thead>\n",
       "  <tbody>\n",
       "    <tr>\n",
       "      <th>1</th>\n",
       "      <td>0</td>\n",
       "      <td>1750</td>\n",
       "      <td>(구)인천일본제58은행지점</td>\n",
       "      <td>/home/lab09/tour_image/(구)인천일본제58은행지점_1.jpg</td>\n",
       "    </tr>\n",
       "    <tr>\n",
       "      <th>2</th>\n",
       "      <td>1</td>\n",
       "      <td>1750</td>\n",
       "      <td>(구)인천일본제58은행지점</td>\n",
       "      <td>/home/lab09/tour_image/(구)인천일본제58은행지점_10.jpg</td>\n",
       "    </tr>\n",
       "  </tbody>\n",
       "</table>\n",
       "</div>"
      ],
      "text/plain": [
       "0 NaN index1            name                                    image_path\n",
       "1   0   1750  (구)인천일본제58은행지점   /home/lab09/tour_image/(구)인천일본제58은행지점_1.jpg\n",
       "2   1   1750  (구)인천일본제58은행지점  /home/lab09/tour_image/(구)인천일본제58은행지점_10.jpg"
      ]
     },
     "execution_count": 8,
     "metadata": {},
     "output_type": "execute_result"
    }
   ],
   "source": [
    "# 0행을 header 로 지정\n",
    "new_header = imgpath_pd.iloc[0]\n",
    "imgpath_pd = imgpath_pd[1:]\n",
    "imgpath_pd.columns = new_header\n",
    "imgpath_pd.head(2)"
   ]
  },
  {
   "cell_type": "code",
   "execution_count": 15,
   "id": "8784453f",
   "metadata": {},
   "outputs": [],
   "source": [
    "# NaN column 삭제\n",
    "imgpath_pd = imgpath_pd[['index1', 'name', 'image_path']]"
   ]
  },
  {
   "cell_type": "code",
   "execution_count": 19,
   "id": "626ea35f",
   "metadata": {},
   "outputs": [
    {
     "name": "stderr",
     "output_type": "stream",
     "text": [
      "/usr/local/lib/python3.6/dist-packages/pandas/core/frame.py:4308: SettingWithCopyWarning: \n",
      "A value is trying to be set on a copy of a slice from a DataFrame\n",
      "\n",
      "See the caveats in the documentation: https://pandas.pydata.org/pandas-docs/stable/user_guide/indexing.html#returning-a-view-versus-a-copy\n",
      "  errors=errors,\n"
     ]
    }
   ],
   "source": [
    "# index1 -> index 로 컬럼명 변경\n",
    "imgpath_pd.rename(columns={'index1':'index'}, inplace=True)"
   ]
  },
  {
   "cell_type": "code",
   "execution_count": 20,
   "id": "b0ddc8be",
   "metadata": {},
   "outputs": [
    {
     "data": {
      "text/html": [
       "<div>\n",
       "<style scoped>\n",
       "    .dataframe tbody tr th:only-of-type {\n",
       "        vertical-align: middle;\n",
       "    }\n",
       "\n",
       "    .dataframe tbody tr th {\n",
       "        vertical-align: top;\n",
       "    }\n",
       "\n",
       "    .dataframe thead th {\n",
       "        text-align: right;\n",
       "    }\n",
       "</style>\n",
       "<table border=\"1\" class=\"dataframe\">\n",
       "  <thead>\n",
       "    <tr style=\"text-align: right;\">\n",
       "      <th></th>\n",
       "      <th>index</th>\n",
       "      <th>name</th>\n",
       "      <th>image_path</th>\n",
       "    </tr>\n",
       "  </thead>\n",
       "  <tbody>\n",
       "    <tr>\n",
       "      <th>1</th>\n",
       "      <td>1750</td>\n",
       "      <td>(구)인천일본제58은행지점</td>\n",
       "      <td>/home/lab09/tour_image/(구)인천일본제58은행지점_1.jpg</td>\n",
       "    </tr>\n",
       "    <tr>\n",
       "      <th>2</th>\n",
       "      <td>1750</td>\n",
       "      <td>(구)인천일본제58은행지점</td>\n",
       "      <td>/home/lab09/tour_image/(구)인천일본제58은행지점_10.jpg</td>\n",
       "    </tr>\n",
       "  </tbody>\n",
       "</table>\n",
       "</div>"
      ],
      "text/plain": [
       "0 index            name                                    image_path\n",
       "1  1750  (구)인천일본제58은행지점   /home/lab09/tour_image/(구)인천일본제58은행지점_1.jpg\n",
       "2  1750  (구)인천일본제58은행지점  /home/lab09/tour_image/(구)인천일본제58은행지점_10.jpg"
      ]
     },
     "execution_count": 20,
     "metadata": {},
     "output_type": "execute_result"
    }
   ],
   "source": [
    "imgpath_pd.head(2)"
   ]
  },
  {
   "cell_type": "code",
   "execution_count": 25,
   "id": "e47320e1",
   "metadata": {},
   "outputs": [],
   "source": [
    "imgpath_pd.to_json('./tour_image_path.json', orient='records', lines=True)"
   ]
  },
  {
   "cell_type": "code",
   "execution_count": null,
   "id": "9a418648",
   "metadata": {},
   "outputs": [],
   "source": []
  },
  {
   "cell_type": "markdown",
   "id": "16e523ff-0df9-43cc-a3f2-e0696bd54b03",
   "metadata": {},
   "source": [
    "## **✅ 확인**"
   ]
  },
  {
   "cell_type": "code",
   "execution_count": 9,
   "id": "3c97592b-c62f-4a4b-bb45-f4082d59b238",
   "metadata": {},
   "outputs": [],
   "source": [
    "# Table 잘 생성되었는지 mysql 에서 확인\n",
    "# mysql > use etlmysql;\n",
    "# mysql > show tables; "
   ]
  },
  {
   "attachments": {
    "3c92240f-dd21-49c3-bcbd-6d4a3109414d.png": {
     "image/png": "[encoded data removed]"
    }
   },
   "cell_type": "markdown",
   "id": "e808ff45-6eba-4397-819f-176c914e4e9e",
   "metadata": {},
   "source": [
    "![스크린샷 2024-02-02 오전 10.48.49.png](attachment:3c92240f-dd21-49c3-bcbd-6d4a3109414d.png)"
   ]
  }
 ],
 "metadata": {
  "kernelspec": {
   "display_name": "Python 3",
   "language": "python",
   "name": "python3"
  },
  "language_info": {
   "codemirror_mode": {
    "name": "ipython",
    "version": 3
   },
   "file_extension": ".py",
   "mimetype": "text/x-python",
   "name": "python",
   "nbconvert_exporter": "python",
   "pygments_lexer": "ipython3",
   "version": "3.6.9"
  }
 },
 "nbformat": 4,
 "nbformat_minor": 5
}
