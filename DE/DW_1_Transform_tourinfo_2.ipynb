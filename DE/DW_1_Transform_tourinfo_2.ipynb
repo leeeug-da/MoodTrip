{
 "cells": [
  {
   "cell_type": "markdown",
   "id": "9bfacf37-3d65-4191-9653-991ac791b7d4",
   "metadata": {},
   "source": [
    "# **DataWarehouse Data Transform**\n",
    "1. 동일한 컬럼 가지고 있는 데이터끼리 분류하여 '관광지 분류' 컬럼으로 생성  \n",
    "2. 축제행사, 공연 : 날짜 지난 관광지 제거\n",
    "3. 필터링 기능에 포함시킬 컬럼 전처리\n",
    "   - 요금정보 ['이용요금', '입장료', '상세정보'] : 유료/무료 형태로\n",
    "   - 유모차 대여 여부 ['유모차 대여 여부'] : 없음/불가/가능\n",
    "   - 애완동물 동반 가능 여부 ['애완동물 동반 가능 여부'] : 없음/불가/가능\n",
    "4. 관람/체험 연령 관련 컬럼 전처리\n",
    "5. 명칭 컬럼 Null 데이터 제거\n",
    "6. 불필요한 데이터 제거\n",
    "7. 인덱스 생성"
   ]
  },
  {
   "cell_type": "markdown",
   "id": "87e37496-b310-4ae0-862b-5e188c9851d0",
   "metadata": {},
   "source": [
    "## **Packages**"
   ]
  },
  {
   "cell_type": "code",
   "execution_count": 1,
   "id": "b14cc46d-cc00-44ac-88a6-d03e30d3a863",
   "metadata": {},
   "outputs": [],
   "source": [
    "# packages\n",
    "from IPython.core.interactiveshell import InteractiveShell\n",
    "InteractiveShell.ast_node_interactivity = \"all\"\n",
    "from datetime import date, datetime\n",
    "from pyspark.sql.types import *\n",
    "from pyspark.sql.functions import *\n",
    "from pyspark.sql import SparkSession\n",
    "from pyspark.sql.functions import col, lit\n",
    "from hdfs import InsecureClient\n",
    "import datetime as dt\n",
    "import pandas as pd\n",
    "import matplotlib.pyplot as plt #그래프 패키지 모듈 등록\n",
    "%matplotlib inline "
   ]
  },
  {
   "cell_type": "code",
   "execution_count": 2,
   "id": "0a4618ab-d3cb-4ef3-9122-9ad8fee745b3",
   "metadata": {},
   "outputs": [],
   "source": [
    "# matplotlib 한글폰트 \n",
    "import platform\n",
    "\n",
    "from matplotlib import font_manager, rc\n",
    "plt.rcParams['axes.unicode_minus'] = False\n",
    "\n",
    "if platform.system() == 'Darwin':  # 맥OS \n",
    "    rc('font', family='AppleGothic')\n",
    "elif platform.system() == 'Windows':  # 윈도우\n",
    "    path = \"c:/Windows/Fonts/malgun.ttf\"\n",
    "    font_name = font_manager.FontProperties(fname=path).get_name()\n",
    "    rc('font', family=font_name)\n",
    "else:\n",
    "    rc('font', family='D2Coding')\n",
    "       \n",
    "# rc('font', family='NanumGothic') # 나눔폰트 사용시"
   ]
  },
  {
   "cell_type": "markdown",
   "id": "761c4668-d72e-46e4-9213-f1e26206bf53",
   "metadata": {},
   "source": [
    "## **DW에 있는 Data 사용하기 위한 Hdfs 클라이언트 객체 생성**"
   ]
  },
  {
   "cell_type": "code",
   "execution_count": 3,
   "id": "8b5f0b78-ef06-4ff3-b7a1-8cc7b1a36695",
   "metadata": {},
   "outputs": [],
   "source": [
    "client = InsecureClient('http://localhost:9870', user='lab09')"
   ]
  },
  {
   "cell_type": "markdown",
   "id": "7ed35366-c479-4a0a-9916-2dd010c444c3",
   "metadata": {},
   "source": [
    "## **Data 불러오기**\n",
    "- travel_data_dropped.json : 불필요한 컬럼을 제거한 raw data "
   ]
  },
  {
   "cell_type": "code",
   "execution_count": 4,
   "id": "59769ffa-63d5-4233-9713-096c4e1702ff",
   "metadata": {},
   "outputs": [],
   "source": [
    "df_tmp = spark.read.json('/dw_data/travel_data_dropped.json', encoding='utf-8')"
   ]
  },
  {
   "cell_type": "code",
   "execution_count": 5,
   "id": "90a724c6-fdf0-4cad-bf8c-2665f8a7f31c",
   "metadata": {},
   "outputs": [
    {
     "name": "stdout",
     "output_type": "stream",
     "text": [
      "root\n",
      " |-- 개요: string (nullable = true)\n",
      " |-- 개장기간: string (nullable = true)\n",
      " |-- 공연시간: string (nullable = true)\n",
      " |-- 관람가능연령: string (nullable = true)\n",
      " |-- 관람소요시간: string (nullable = true)\n",
      " |-- 명칭: string (nullable = true)\n",
      " |-- 분류: string (nullable = true)\n",
      " |-- 상세정보: string (nullable = true)\n",
      " |-- 쉬는날: string (nullable = true)\n",
      " |-- 애완동물 동반 가능 여부: string (nullable = true)\n",
      " |-- 우편번호: string (nullable = true)\n",
      " |-- 유모차 대여 여부: string (nullable = true)\n",
      " |-- 이용시간: string (nullable = true)\n",
      " |-- 이용시기: string (nullable = true)\n",
      " |-- 이용요금: string (nullable = true)\n",
      " |-- 입장료: string (nullable = true)\n",
      " |-- 전화번호: string (nullable = true)\n",
      " |-- 주소: string (nullable = true)\n",
      " |-- 주차시설: string (nullable = true)\n",
      " |-- 주차요금: string (nullable = true)\n",
      " |-- 지역: string (nullable = true)\n",
      " |-- 체험가능연령: string (nullable = true)\n",
      " |-- 체험안내: string (nullable = true)\n",
      " |-- 행사시작일: long (nullable = true)\n",
      " |-- 행사종료일: long (nullable = true)\n",
      "\n"
     ]
    }
   ],
   "source": [
    "df_tmp.printSchema()"
   ]
  },
  {
   "cell_type": "markdown",
   "id": "731497d2-29a4-45b8-85f4-62a8dd673fcc",
   "metadata": {},
   "source": [
    "## **1️⃣ 동일한 컬럼 가지고 있는 데이터끼리 분류하여 '관광지 분류' 컬럼으로 생성**\n",
    "\n",
    "[관광지 분류]\n",
    "- 축제공연행사\n",
    "    - 축제\n",
    "    - 공연행사 \n",
    "- 문화시설\n",
    "    - 문화시설 \n",
    "- 레포츠\n",
    "    - 레포츠 \n",
    "- 인문관광지\n",
    "    - 휴양관광지\n",
    "    - 역사관광지\n",
    "    - 자연관광지\n",
    "    - 관광자원 "
   ]
  },
  {
   "cell_type": "code",
   "execution_count": 6,
   "id": "c374dd06-55cd-4ba3-94d8-4a84a860e7d9",
   "metadata": {},
   "outputs": [
    {
     "name": "stdout",
     "output_type": "stream",
     "text": [
      "+----------+\n",
      "|      분류|\n",
      "+----------+\n",
      "|  문화시설|\n",
      "|자연관광지|\n",
      "|역사관광지|\n",
      "|      축제|\n",
      "|  공연행사|\n",
      "|  관광자원|\n",
      "|휴양관광지|\n",
      "|    레포츠|\n",
      "+----------+\n",
      "\n"
     ]
    }
   ],
   "source": [
    "df_tmp.select(\"분류\").distinct().show()"
   ]
  },
  {
   "cell_type": "code",
   "execution_count": 7,
   "id": "d0184a54-b1ed-4ae5-8df5-b7c4008e7fa6",
   "metadata": {},
   "outputs": [],
   "source": [
    "# package\n",
    "from pyspark.sql import functions as F\n",
    "\n",
    "\n",
    "# '분류' values <-> '관광지 분류' values 매핑시키기\n",
    "def map_classification(category):\n",
    "    if category in ['축제', '공연행사']:\n",
    "        return '축제공연행사'\n",
    "    elif category == '문화시설':\n",
    "        return '문화시설'\n",
    "    elif category == '레포츠':\n",
    "        return '레포츠'\n",
    "    elif category in ['휴양관광지', '역사관광지', '자연관광지', '관광자원']:\n",
    "        return '인문관광지'\n",
    "    else:\n",
    "        return 'Unknown'\n",
    "\n",
    "mapping_udf = F.udf(map_classification)\n",
    "\n",
    "\n",
    "# 매핑된 결과 '관광지 분류'로 생성\n",
    "df_result = df_tmp.withColumn('관광지 분류', mapping_udf(df_tmp['분류']))"
   ]
  },
  {
   "cell_type": "code",
   "execution_count": 8,
   "id": "594aef04-ddcf-453f-a222-6866d8230873",
   "metadata": {},
   "outputs": [
    {
     "name": "stdout",
     "output_type": "stream",
     "text": [
      "+-----------+----------+\n",
      "|관광지 분류|      분류|\n",
      "+-----------+----------+\n",
      "| 인문관광지|자연관광지|\n",
      "| 인문관광지|역사관광지|\n",
      "| 인문관광지|  관광자원|\n",
      "| 인문관광지|휴양관광지|\n",
      "+-----------+----------+\n",
      "\n",
      "+-----------+------+\n",
      "|관광지 분류|  분류|\n",
      "+-----------+------+\n",
      "|     레포츠|레포츠|\n",
      "+-----------+------+\n",
      "\n",
      "+------------+--------+\n",
      "| 관광지 분류|    분류|\n",
      "+------------+--------+\n",
      "|축제공연행사|공연행사|\n",
      "|축제공연행사|    축제|\n",
      "+------------+--------+\n",
      "\n",
      "+-----------+--------+\n",
      "|관광지 분류|    분류|\n",
      "+-----------+--------+\n",
      "|   문화시설|문화시설|\n",
      "+-----------+--------+\n",
      "\n"
     ]
    }
   ],
   "source": [
    "# 확인\n",
    "df_result.filter(df_result['관광지 분류'] == '인문관광지').select('관광지 분류', '분류').distinct().show()\n",
    "df_result.filter(df_result['관광지 분류'] == '레포츠').select('관광지 분류', '분류').distinct().show()\n",
    "df_result.filter(df_result['관광지 분류'] == '축제공연행사').select('관광지 분류', '분류').distinct().show()\n",
    "df_result.filter(df_result['관광지 분류'] == '문화시설').select('관광지 분류', '분류').distinct().show()"
   ]
  },
  {
   "cell_type": "markdown",
   "id": "5868dac4-1639-4acb-9e80-d6f20ddbe271",
   "metadata": {},
   "source": [
    "## **2️⃣ '축제공연행사' : 날짜 지난 관광지 제거**\n",
    "- '행사종료일' 기준으로 서비스 출시일 2월8일 이전에 종료되는 데이터 제거\n",
    "- '행사종료일' = LongType (=Represents 8-byte signed integer numbers)"
   ]
  },
  {
   "cell_type": "code",
   "execution_count": 9,
   "id": "b453283a-60d5-41b0-bf13-ac603fd96d46",
   "metadata": {},
   "outputs": [],
   "source": [
    "# 20240208 이후 데이터만 저장 \n",
    "df_filtered = df_result.filter(df_result.행사종료일 >= 20240208)"
   ]
  },
  {
   "cell_type": "code",
   "execution_count": 10,
   "id": "53958b3f-3e28-4779-9ee6-29e4eac83ecc",
   "metadata": {},
   "outputs": [
    {
     "name": "stdout",
     "output_type": "stream",
     "text": [
      "제거하고 남은 데이터 개수:  36\n"
     ]
    },
    {
     "data": {
      "text/plain": [
       "0"
      ]
     },
     "execution_count": 10,
     "metadata": {},
     "output_type": "execute_result"
    },
    {
     "name": "stdout",
     "output_type": "stream",
     "text": [
      "+----------+\n",
      "|행사종료일|\n",
      "+----------+\n",
      "|  20241222|\n",
      "|  20240331|\n",
      "|  20240229|\n",
      "|  20240324|\n",
      "|  20240228|\n",
      "|  20241205|\n",
      "|  20240721|\n",
      "|  20241231|\n",
      "|  20240225|\n",
      "|  20240505|\n",
      "|  20241207|\n",
      "|  20240317|\n",
      "|  20240303|\n",
      "|  20240720|\n",
      "|  20240226|\n",
      "|  20240218|\n",
      "|  20240901|\n",
      "|  20240509|\n",
      "|  20240212|\n",
      "|  20240413|\n",
      "+----------+\n",
      "only showing top 20 rows\n",
      "\n"
     ]
    }
   ],
   "source": [
    "# 확인\n",
    "\n",
    "## 제거하고 남은 데이터 개수 확인 \n",
    "print('제거하고 남은 데이터 개수: ', df_filtered.count())\n",
    "\n",
    "## 행사종료일이 '2023'으로 시작하는 데이터 (null 나와야 함)\n",
    "df_filtered.select('행사종료일').filter(df_filtered.행사종료일.like('2023%')).count()\n",
    "\n",
    "## 행사종료일이 '2024'으로 시작하는 데이터 (0208 이후 데이터만 포함되어야 함)\n",
    "df_filtered.select('행사종료일').filter(df_filtered.행사종료일.like('2024%')).distinct().show()"
   ]
  },
  {
   "cell_type": "code",
   "execution_count": 11,
   "id": "f5a4e3ef-9570-4813-aad4-c16347b53366",
   "metadata": {},
   "outputs": [],
   "source": [
    "# 원본데이터의 '축제공연행사' 데이터 중 위 df_filtered(0208 이후 데이터) 만 남기기\n",
    "\n",
    "## merge 할 때 구분하기 위해 새로운 컬럼 생성 \n",
    "df_fest = df_filtered.withColumn(\"구분\", lit(\"yes\"))\n",
    "df_result_new = df_result.withColumn(\"구분\", lit(None))\n",
    "\n",
    "## 두 데이터 합치기\n",
    "merged_df = df_result_new.union(df_fest)\n",
    "\n",
    "## 합친 데이터에서 \"구분\" 컬럼 None 행 제거\n",
    "filtered_df = merged_df.filter(\n",
    "    (merged_df['관광지 분류'] != \"축제공연행사\") | (merged_df['구분'].isNotNull()))\n",
    "\n",
    "## \"구분\" 컬럼 drop\n",
    "df_fin = filtered_df.drop(\"구분\")"
   ]
  },
  {
   "cell_type": "code",
   "execution_count": 12,
   "id": "8312b70f-eac1-4166-a79f-0a39d43872e8",
   "metadata": {},
   "outputs": [
    {
     "name": "stdout",
     "output_type": "stream",
     "text": [
      "데이터 개수:  3646\n",
      "+----------+\n",
      "|행사종료일|\n",
      "+----------+\n",
      "|  20241222|\n",
      "|  20240331|\n",
      "|  20240229|\n",
      "|  20240324|\n",
      "|  20240228|\n",
      "|  20241205|\n",
      "|  20240721|\n",
      "|  20241231|\n",
      "|  20240225|\n",
      "|  20240505|\n",
      "|  20241207|\n",
      "|  20240317|\n",
      "|  20240303|\n",
      "|  20240720|\n",
      "|  20240226|\n",
      "|  20240218|\n",
      "|  20240901|\n",
      "|  20240509|\n",
      "|  20240212|\n",
      "|  20240413|\n",
      "+----------+\n",
      "only showing top 20 rows\n",
      "\n"
     ]
    }
   ],
   "source": [
    "# 확인\n",
    "\n",
    "## 데이터 개수 확인 \n",
    "print('데이터 개수: ', df_fin.count())\n",
    "\n",
    "## 행사종료일이 '2024'으로 시작하는 데이터 (0208 이후 데이터만 포함되어야 함)\n",
    "df_fin.select('행사종료일').filter(df_fin.행사종료일.like('2024%')).distinct().show()"
   ]
  },
  {
   "cell_type": "markdown",
   "id": "8f006969-95d6-4323-98b5-7bca47804877",
   "metadata": {},
   "source": [
    "## **3️⃣ 필터링 기능에 포함시킬 컬럼 전처리**\n",
    "- 요금정보 ['이용요금', '입장료', '상세정보'] : 유료/무료/알수없음\n",
    "- 유모차 대여 여부 ['유모차 대여 여부'] : 없음/불가/가능\n",
    "- 애완동물 동반 가능 여부 ['애완동물 동반 가능 여부'] : 없음/불가/가능"
   ]
  },
  {
   "cell_type": "markdown",
   "id": "80270358-05cc-400d-ba2e-ffd9f0fb1c10",
   "metadata": {},
   "source": [
    "### 📍 요금정보 ['이용요금', '입장료', '상세정보'] : 유료/무료 형태로\n",
    "- '유/무료 여부' 컬럼 새로 생성"
   ]
  },
  {
   "cell_type": "code",
   "execution_count": 13,
   "id": "7edbcd76-af0e-43d3-8dc0-159163a9e41e",
   "metadata": {},
   "outputs": [],
   "source": [
    "# # '유/무료 여부' 컬럼을 생성하고, 모든 행을 'X'로 초기화\n",
    "# df_fin = df_fin.withColumn('유/무료 여부', lit('X'))"
   ]
  },
  {
   "cell_type": "code",
   "execution_count": 14,
   "id": "9e38d7d9-b86f-477c-b7e4-297d6d2c1833",
   "metadata": {},
   "outputs": [],
   "source": [
    "# ### 1. 관광지 분류 == '레포츠'\n",
    "# from pyspark.sql.functions import coalesce\n",
    "\n",
    "# # '결제정보' 컬럼 생성\n",
    "# df_fin = df_fin.withColumn('결제정보', when(col('관광지 분류') == '레포츠', \n",
    "#                                         concat_ws(' ', coalesce(col('이용요금').cast('string'), ''), \n",
    "#                                                   coalesce(col('상세정보'), ''))).otherwise(col('결제정보')))\n",
    "\n",
    "# # '무료' 및 '유료' 여부 확인\n",
    "# keywords = ['무료', r'\\d+천원', r'\\d+원']\n",
    "# filtered_rows = expr(\"rlike(결제정보, '{}') AND NOT (rlike(결제정보, '{}') OR rlike(결제정보, '{}'))\".format('|'.join(keywords), r'\\d+천원', r'\\d+원'))\n",
    "\n",
    "# paid_kw = [r'\\d+천원', r'\\d+원']\n",
    "# paid_rows = expr(\"rlike(결제정보, '{}') OR rlike(결제정보, '{}')\".format(*paid_kw))\n",
    "\n",
    "\n",
    "\n",
    "# # '유/무료 여부' 컬럼 생성\n",
    "# df_fin = df_fin.withColumn('유/무료 여부', when((col('관광지 분류') == '레포츠') & filtered_rows, '무료')\n",
    "#                                 .when((col('관광지 분류') == '레포츠') & paid_rows, '유료')\n",
    "#                                 .otherwise('알 수 없음'))\n",
    "# # '결제정보' 컬럼 제거\n",
    "# df_fin = df_fin.drop('결제정보')\n",
    "\n",
    "# # 결과 표시\n",
    "# df_fin.select('유/무료 여부').show()"
   ]
  },
  {
   "cell_type": "code",
   "execution_count": 15,
   "id": "4a32c923-4517-494a-b563-a792f87c37c5",
   "metadata": {},
   "outputs": [],
   "source": [
    "# ### 2. 관광지분류 == '인문관광지'\n",
    "\n",
    "# filtered_rows = col('관광지 분류') == '인문관광지'\n",
    "\n",
    "# # '무료'에 해당하는 키워드\n",
    "# free_keywords = ['입 장 료:없음', '입 장 료:무료', '시설이용료:없음', '시설이용료:무료', '입장료 무료', '입장료 없음']\n",
    "\n",
    "# # '유료'에 해당하는 키워드\n",
    "# paid_keywords = [r'\\d+천원', r'\\d+원']\n",
    "\n",
    "# # '유/무료 여부' 컬럼 설정\n",
    "# df_fin = df_fin.withColumn('유/무료 여부',\n",
    "#                           when(filtered_rows & col('상세정보').isNotNull() & col('상세정보').rlike('|'.join(free_keywords)), '무료')\n",
    "#                           .when(filtered_rows & col('상세정보').isNotNull() & col('상세정보').rlike('|'.join(paid_keywords)), '유료')\n",
    "#                           .otherwise('알 수 없음'))"
   ]
  },
  {
   "cell_type": "code",
   "execution_count": 16,
   "id": "7551369e-6738-43c1-9973-b0c368261348",
   "metadata": {},
   "outputs": [],
   "source": [
    "# ### 3. 관광지분류 == '문화시설', '축제공연행사'\n",
    "\n",
    "# # '문화시설' 및 '축제공연행사'에 해당하는 행 필터링\n",
    "# filtered_rows = (col('관광지 분류').isin('문화시설', '축제공연행사'))\n",
    "\n",
    "# # '무료'에 해당하는 키워드\n",
    "# free_keywords = ['무료', '이용요금 없음']\n",
    "\n",
    "# # '유료'에 해당하는 키워드\n",
    "# paid_keywords = [r'\\d+천원', r'\\d+원', '유료']\n",
    "\n",
    "# # '유/무료 여부' 컬럼 설정\n",
    "# df_fin = df_fin.withColumn('유/무료 여부', \n",
    "#                           when(filtered_rows & col('이용요금').rlike('|'.join(free_keywords)), '무료')\n",
    "#                           .when(filtered_rows & col('이용요금').rlike('|'.join(paid_keywords)), '유료')\n",
    "#                           .otherwise('알 수 없음'))"
   ]
  },
  {
   "cell_type": "markdown",
   "id": "899e2a6d-f450-4c9d-b823-1cf9f2e3ff40",
   "metadata": {},
   "source": [
    "### 📍 유모차 대여 여부 ['유모차 대여 여부'] : 없음/불가/가능"
   ]
  },
  {
   "cell_type": "code",
   "execution_count": 13,
   "id": "65d3ace1-a7d7-47c2-985f-920a0bd36155",
   "metadata": {},
   "outputs": [
    {
     "name": "stdout",
     "output_type": "stream",
     "text": [
      "+----------------+\n",
      "|유모차 대여 여부|\n",
      "+----------------+\n",
      "|            null|\n",
      "|            없음|\n",
      "|            불가|\n",
      "|            가능|\n",
      "+----------------+\n",
      "\n"
     ]
    }
   ],
   "source": [
    "# 원본 데이터 값 확인\n",
    "df_fin.select('유모차 대여 여부').distinct().show()"
   ]
  },
  {
   "cell_type": "code",
   "execution_count": 14,
   "id": "6e7a55b7-1d23-456d-bb41-f1b9b02d87b1",
   "metadata": {},
   "outputs": [],
   "source": [
    "# Transform\n",
    "df_fin_replaced = df_fin.withColumn(\"유모차 대여 여부\", \n",
    "                                    when((df_fin[\"유모차 대여 여부\"].isNull()) | \n",
    "                                         (df_fin[\"유모차 대여 여부\"] == \"없음\"), \"불가\")\n",
    "                                    .otherwise(df_fin[\"유모차 대여 여부\"]))"
   ]
  },
  {
   "cell_type": "code",
   "execution_count": 15,
   "id": "74cc8795-11e4-4451-b95f-2f0d6a6a21d0",
   "metadata": {},
   "outputs": [
    {
     "name": "stdout",
     "output_type": "stream",
     "text": [
      "+----------------+\n",
      "|유모차 대여 여부|\n",
      "+----------------+\n",
      "|            불가|\n",
      "|            가능|\n",
      "+----------------+\n",
      "\n"
     ]
    },
    {
     "data": {
      "text/plain": [
       "없음     2792\n",
       "NaN     539\n",
       "불가      248\n",
       "가능       67\n",
       "Name: 유모차 대여 여부, dtype: int64"
      ]
     },
     "execution_count": 15,
     "metadata": {},
     "output_type": "execute_result"
    },
    {
     "data": {
      "text/plain": [
       "불가    3579\n",
       "가능      67\n",
       "Name: 유모차 대여 여부, dtype: int64"
      ]
     },
     "execution_count": 15,
     "metadata": {},
     "output_type": "execute_result"
    }
   ],
   "source": [
    "# 확인\n",
    "\n",
    "## 불가, 가능으로 구성되어졌는지\n",
    "df_fin_replaced.select('유모차 대여 여부').distinct().show()\n",
    "\n",
    "## 갯수 맞게 들어갔는지 \n",
    "### origin ver\n",
    "tmp = df_fin.toPandas()\n",
    "tmp['유모차 대여 여부'].value_counts(dropna=False)\n",
    "### replaced ver\n",
    "fin = df_fin_replaced.toPandas()\n",
    "fin['유모차 대여 여부'].value_counts(dropna=False)"
   ]
  },
  {
   "cell_type": "markdown",
   "id": "bf8f373e-1862-4621-bac7-f380c6b0a51d",
   "metadata": {},
   "source": [
    "### 📍 애완동물 동반 가능 여부 ['애완동물 동반 가능 여부'] : 없음/불가/가능"
   ]
  },
  {
   "cell_type": "code",
   "execution_count": 16,
   "id": "5056ca06-e23b-403f-9f06-bbffc98fa7e8",
   "metadata": {},
   "outputs": [
    {
     "name": "stdout",
     "output_type": "stream",
     "text": [
      "+-----------------------+\n",
      "|애완동물 동반 가능 여부|\n",
      "+-----------------------+\n",
      "|                   null|\n",
      "|                   없음|\n",
      "|                   불가|\n",
      "|                   가능|\n",
      "+-----------------------+\n",
      "\n"
     ]
    }
   ],
   "source": [
    "# 원본 데이터 값 확인\n",
    "df_fin_replaced.select('애완동물 동반 가능 여부').distinct().show()"
   ]
  },
  {
   "cell_type": "code",
   "execution_count": 17,
   "id": "ff1a958d-49b0-470e-99ba-5ab7421dac3d",
   "metadata": {},
   "outputs": [],
   "source": [
    "# Transform\n",
    "df_replaced = df_fin_replaced.withColumn(\"애완동물 동반 가능 여부\", \n",
    "                                    when((df_fin[\"애완동물 동반 가능 여부\"].isNull()) | \n",
    "                                         (df_fin[\"애완동물 동반 가능 여부\"] == \"없음\"), \"불가\")\n",
    "                                    .otherwise(df_fin[\"애완동물 동반 가능 여부\"]))"
   ]
  },
  {
   "cell_type": "code",
   "execution_count": 18,
   "id": "4f83000d-6652-4ce8-b704-ae5dcf9c2444",
   "metadata": {},
   "outputs": [
    {
     "name": "stdout",
     "output_type": "stream",
     "text": [
      "+-----------------------+\n",
      "|애완동물 동반 가능 여부|\n",
      "+-----------------------+\n",
      "|                   불가|\n",
      "|                   가능|\n",
      "+-----------------------+\n",
      "\n"
     ]
    },
    {
     "data": {
      "text/plain": [
       "불가     1416\n",
       "없음     1133\n",
       "가능      650\n",
       "NaN     447\n",
       "Name: 애완동물 동반 가능 여부, dtype: int64"
      ]
     },
     "execution_count": 18,
     "metadata": {},
     "output_type": "execute_result"
    },
    {
     "data": {
      "text/plain": [
       "불가    2996\n",
       "가능     650\n",
       "Name: 애완동물 동반 가능 여부, dtype: int64"
      ]
     },
     "execution_count": 18,
     "metadata": {},
     "output_type": "execute_result"
    }
   ],
   "source": [
    "# 확인\n",
    "\n",
    "## 불가, 가능으로 구성되어졌는지\n",
    "df_replaced.select('애완동물 동반 가능 여부').distinct().show()\n",
    "\n",
    "## 갯수 맞게 들어갔는지 \n",
    "### origin ver\n",
    "tmp = df_fin.toPandas()\n",
    "tmp['애완동물 동반 가능 여부'].value_counts(dropna=False)\n",
    "### replaced ver\n",
    "fin = df_replaced.toPandas()\n",
    "fin['애완동물 동반 가능 여부'].value_counts(dropna=False)"
   ]
  },
  {
   "cell_type": "markdown",
   "id": "2df23cac-35c5-4371-878d-d791e665dca5",
   "metadata": {},
   "source": [
    "## **4️⃣ \b관람/체험 연령 관련 컬럼 전처리**\n",
    "\n",
    "(총 데이터 갯수 3,648)\n",
    "- [축제공연행사] 관람가능연령 : 7개 데이터\n",
    "- [레포츠]\n",
    "    - 체험가능연령 : 767 데이터, 그 중 70%가 *예약 관련 정보*로 들어가 있음\n",
    "    - 주차시설 : 63 데이터, *연령 관련 정보가 이 컬럼으로 잘못 들어가 있음*\n",
    "- [인문관광지] 체험가능연령 : 177개 데이터\n",
    "\n",
    "➡️ '관람가능연령', '체험가능연령' 컬럼 제거 <br/>\n",
    "➡️ [레포츠]에 해당되는 '주차시설'에 데이터 Null 처리"
   ]
  },
  {
   "cell_type": "code",
   "execution_count": 19,
   "id": "e4fcb046-e295-4f18-973e-c796b42d2851",
   "metadata": {},
   "outputs": [],
   "source": [
    "# \"관람가능연령\", \"체험가능연령\" 컬럼 drop\n",
    "df_dropped = df_replaced.drop(\"관람가능연령\", \"체험가능연령\")"
   ]
  },
  {
   "cell_type": "code",
   "execution_count": 20,
   "id": "c4265812-42fd-4f38-8762-e36b22a1aee5",
   "metadata": {},
   "outputs": [],
   "source": [
    "# \"관광지 분류\"가 '레포츠' 인 데이터 중 \"주차시설\"인 컬럼 Null 값으로 바꾸기 \n",
    "result_df = df_dropped.withColumn(\n",
    "    \"주차시설\",\n",
    "    when(col(\"관광지 분류\") == \"레포츠\", lit(None)).otherwise(col(\"주차시설\"))\n",
    ")"
   ]
  },
  {
   "cell_type": "code",
   "execution_count": 21,
   "id": "240c849f-4811-41d8-826a-4d16b0f71ce0",
   "metadata": {},
   "outputs": [
    {
     "name": "stdout",
     "output_type": "stream",
     "text": [
      "root\n",
      " |-- 개요: string (nullable = true)\n",
      " |-- 개장기간: string (nullable = true)\n",
      " |-- 공연시간: string (nullable = true)\n",
      " |-- 관람소요시간: string (nullable = true)\n",
      " |-- 명칭: string (nullable = true)\n",
      " |-- 분류: string (nullable = true)\n",
      " |-- 상세정보: string (nullable = true)\n",
      " |-- 쉬는날: string (nullable = true)\n",
      " |-- 애완동물 동반 가능 여부: string (nullable = true)\n",
      " |-- 우편번호: string (nullable = true)\n",
      " |-- 유모차 대여 여부: string (nullable = true)\n",
      " |-- 이용시간: string (nullable = true)\n",
      " |-- 이용시기: string (nullable = true)\n",
      " |-- 이용요금: string (nullable = true)\n",
      " |-- 입장료: string (nullable = true)\n",
      " |-- 전화번호: string (nullable = true)\n",
      " |-- 주소: string (nullable = true)\n",
      " |-- 주차시설: string (nullable = true)\n",
      " |-- 주차요금: string (nullable = true)\n",
      " |-- 지역: string (nullable = true)\n",
      " |-- 체험안내: string (nullable = true)\n",
      " |-- 행사시작일: long (nullable = true)\n",
      " |-- 행사종료일: long (nullable = true)\n",
      " |-- 관광지 분류: string (nullable = true)\n",
      "\n"
     ]
    }
   ],
   "source": [
    "# 확인\n",
    "\n",
    "## Schema 확인 (\"주차시설\" 유지, \"관람가능연령\"&\"체험가능연령\" 삭제)\n",
    "result_df.printSchema()"
   ]
  },
  {
   "cell_type": "code",
   "execution_count": 22,
   "id": "6f4cb28e-f194-4a45-83a5-dbadecd25cf2",
   "metadata": {},
   "outputs": [
    {
     "name": "stdout",
     "output_type": "stream",
     "text": [
      "origin 레포츠 주차시설 데이터 갯수:  63\n",
      "replaced 레포츠 주차시설 데이터 갯수:  0\n",
      "전처리 한 주차시설 데이터 확인: \n"
     ]
    },
    {
     "data": {
      "text/plain": [
       "NaN                                                      1615\n",
       "있음                                                        378\n",
       "가능                                                        227\n",
       "가능<br>요금(무료)                                              165\n",
       "주차가능                                                      154\n",
       "                                                         ... \n",
       "있음(3개소, 661대 주차 가능)                                         1\n",
       "있음 (모음동 소형 31대 / 나눔동 소형 4대 / 배움동 소형 6대 / 부설주차장 / 13대)       1\n",
       "있음(대소형 약1,500대)                                             1\n",
       "있음(총 170면)                                                  1\n",
       "가능(몽골문화촌 주차장)<br>요금(무료)                                     1\n",
       "Name: 주차시설, Length: 699, dtype: int64"
      ]
     },
     "execution_count": 22,
     "metadata": {},
     "output_type": "execute_result"
    }
   ],
   "source": [
    "## 갯수 맞게 들어갔는지 \n",
    "### origin ver\n",
    "origin = df_replaced.toPandas()\n",
    "tmp = origin[origin['관광지 분류'] == '레포츠']\n",
    "print('origin 레포츠 주차시설 데이터 갯수: ', tmp['주차시설'].count())\n",
    "\n",
    "### replaced ver\n",
    "result = result_df.toPandas()\n",
    "tmp2 = result[result['관광지 분류'] == '레포츠']\n",
    "print('replaced 레포츠 주차시설 데이터 갯수: ', tmp2['주차시설'].count())\n",
    "print('전처리 한 주차시설 데이터 확인: ')\n",
    "result['주차시설'].value_counts(dropna=False)"
   ]
  },
  {
   "cell_type": "markdown",
   "id": "7d8f0185-cfb5-4136-a029-030a49d0706a",
   "metadata": {},
   "source": [
    "## **5️⃣ 명칭 컬럼 Null 데이터 제거**"
   ]
  },
  {
   "cell_type": "code",
   "execution_count": 23,
   "id": "9be47175-d271-4084-af34-1702cb0d9b07",
   "metadata": {},
   "outputs": [
    {
     "name": "stdout",
     "output_type": "stream",
     "text": [
      "root\n",
      " |-- 개요: string (nullable = true)\n",
      " |-- 개장기간: string (nullable = true)\n",
      " |-- 공연시간: string (nullable = true)\n",
      " |-- 관람소요시간: string (nullable = true)\n",
      " |-- 명칭: string (nullable = true)\n",
      " |-- 분류: string (nullable = true)\n",
      " |-- 상세정보: string (nullable = true)\n",
      " |-- 쉬는날: string (nullable = true)\n",
      " |-- 애완동물 동반 가능 여부: string (nullable = true)\n",
      " |-- 우편번호: string (nullable = true)\n",
      " |-- 유모차 대여 여부: string (nullable = true)\n",
      " |-- 이용시간: string (nullable = true)\n",
      " |-- 이용시기: string (nullable = true)\n",
      " |-- 이용요금: string (nullable = true)\n",
      " |-- 입장료: string (nullable = true)\n",
      " |-- 전화번호: string (nullable = true)\n",
      " |-- 주소: string (nullable = true)\n",
      " |-- 주차시설: string (nullable = true)\n",
      " |-- 주차요금: string (nullable = true)\n",
      " |-- 지역: string (nullable = true)\n",
      " |-- 체험안내: string (nullable = true)\n",
      " |-- 행사시작일: long (nullable = true)\n",
      " |-- 행사종료일: long (nullable = true)\n",
      " |-- 관광지 분류: string (nullable = true)\n",
      "\n"
     ]
    }
   ],
   "source": [
    "result_df.printSchema()"
   ]
  },
  {
   "cell_type": "code",
   "execution_count": 24,
   "id": "7348f7dc-657c-4c34-baf1-ef35d4cd1f94",
   "metadata": {},
   "outputs": [],
   "source": [
    "result_dropped = result_df.dropna(subset=[\"명칭\"])"
   ]
  },
  {
   "cell_type": "code",
   "execution_count": 25,
   "id": "7e535c14-c709-4314-b5d5-191615756819",
   "metadata": {},
   "outputs": [
    {
     "name": "stdout",
     "output_type": "stream",
     "text": [
      "<class 'pandas.core.frame.DataFrame'>\n",
      "RangeIndex: 3644 entries, 0 to 3643\n",
      "Data columns (total 24 columns):\n",
      " #   Column         Non-Null Count  Dtype  \n",
      "---  ------         --------------  -----  \n",
      " 0   개요             3641 non-null   object \n",
      " 1   개장기간           583 non-null    object \n",
      " 2   공연시간           33 non-null     object \n",
      " 3   관람소요시간         245 non-null    object \n",
      " 4   명칭             3644 non-null   object \n",
      " 5   분류             3644 non-null   object \n",
      " 6   상세정보           3162 non-null   object \n",
      " 7   쉬는날            2392 non-null   object \n",
      " 8   애완동물 동반 가능 여부  3644 non-null   object \n",
      " 9   우편번호           3532 non-null   object \n",
      " 10  유모차 대여 여부      3644 non-null   object \n",
      " 11  이용시간           2790 non-null   object \n",
      " 12  이용시기           12 non-null     object \n",
      " 13  이용요금           680 non-null    object \n",
      " 14  입장료            24 non-null     object \n",
      " 15  전화번호           107 non-null    object \n",
      " 16  주소             3642 non-null   object \n",
      " 17  주차시설           2031 non-null   object \n",
      " 18  주차요금           1181 non-null   object \n",
      " 19  지역             3644 non-null   object \n",
      " 20  체험안내           403 non-null    object \n",
      " 21  행사시작일          36 non-null     float64\n",
      " 22  행사종료일          36 non-null     float64\n",
      " 23  관광지 분류         3644 non-null   object \n",
      "dtypes: float64(2), object(22)\n",
      "memory usage: 683.4+ KB\n"
     ]
    }
   ],
   "source": [
    "tmpp = result_dropped.toPandas()\n",
    "tmpp.info()"
   ]
  },
  {
   "cell_type": "markdown",
   "id": "f06d88a0-6c8d-4fcf-9b80-626a98236d1c",
   "metadata": {},
   "source": [
    "## **6️⃣ 불필요한 데이터 제거**\n",
    "- 아래 데이터 모두 제거\n",
    "    - '명칭'&'주소' 기준으로 중복으로 들어간 데이터\n",
    "    - 이미지 파일이 없는 데이터\n",
    "    - 특수기호가 포함되어 이미지 모델링에 적용되지 않는 데이터"
   ]
  },
  {
   "cell_type": "code",
   "execution_count": 26,
   "id": "c66a39d5-2ee2-4dfb-8138-f9f7502769c6",
   "metadata": {},
   "outputs": [
    {
     "name": "stdout",
     "output_type": "stream",
     "text": [
      "+------------------+--------------------------------+-----+\n",
      "|              명칭|                            주소|count|\n",
      "+------------------+--------------------------------+-----+\n",
      "|안산세계문화체험관|     경기도 안산시 단원구 원곡동|    3|\n",
      "|          수연목서|         경기도 여주시 주어로 58|    2|\n",
      "|      중남미문화원|경기도 고양시 덕양구 대양로28...|    3|\n",
      "+------------------+--------------------------------+-----+\n",
      "\n"
     ]
    }
   ],
   "source": [
    "# 중복된 데이터 찾기\n",
    "## '명칭'이 같은 관광지가 있을 수 있어, '주소' 컬럼과 같이 groupBy하여 찾기 \n",
    "duplicate_rows = result_dropped.groupBy('명칭', '주소').count().where(\"count > 1\")\n",
    "duplicate_rows.show()"
   ]
  },
  {
   "cell_type": "code",
   "execution_count": 27,
   "id": "a23e6d9a-98fd-48bc-9074-42b08a53aae7",
   "metadata": {},
   "outputs": [],
   "source": [
    "# 중복된 데이터 제거\n",
    "unique_df = result_dropped.dropDuplicates(['명칭', '주소'])"
   ]
  },
  {
   "cell_type": "code",
   "execution_count": 28,
   "id": "e2cc59ae-91d4-4ffb-8506-3d831fd2acaa",
   "metadata": {},
   "outputs": [
    {
     "name": "stdout",
     "output_type": "stream",
     "text": [
      "+----+----+-----+\n",
      "|명칭|주소|count|\n",
      "+----+----+-----+\n",
      "+----+----+-----+\n",
      "\n"
     ]
    }
   ],
   "source": [
    "# 확인 \n",
    "## 중복된 데이터 잘 제거되었는지\n",
    "duplicate_rows = unique_df.groupBy('명칭', '주소').count().where(\"count > 1\")\n",
    "duplicate_rows.show()"
   ]
  },
  {
   "cell_type": "code",
   "execution_count": 29,
   "id": "262aaa6c-c868-4005-8713-90ececc716ea",
   "metadata": {},
   "outputs": [],
   "source": [
    "# 이미지 파일이 없는 데이터 제거 (1)\n",
    "\n",
    "remove_list = ['SPA 1899 동인비', '가막들공원', '가평사계절썰매장', '간데메공원', '강남 마이스 관광특구', '강화나들 8코스', '건지공원',\n",
    " '고천체육공원', '곤충도시', '공릉호', '글로우사파리', '금빛공원', '금천 체육공원', '금천 폭포공원', '긴고랑 공원',\n",
    " '낙산공원', '남동공단근린공원', '내손체육공원', '노들나루공원', '노작공원', '늘솔길공원', '다락원체육공원', '달맞이광장',\n",
    " '달맞이봉공원', '당남지구공원', '더 스파 앳 파라다이스', '동막골유원지', '동인천역북광장', '마리앤쥬', '마이랜드',\n",
    " '마천공원', '만남의광장', '만해기념관', '묵정어린이공원', '미사한강공원4호', '반포한강공원 달빛광장', '방배배수지체육공원',\n",
    " '방화근린공원', '부곡체육공원', '부천역마루광장', '비스타밸리', '산악자전거 자운리코스', '삼목선착장', '새아침공원',\n",
    " '서수원체육공원', '서울색공원', '서울어린이대공원', '서울함공원', '선두바다낚시터', '설화수 플래그십 스토어', '성사얼음마루',\n",
    " '성촌공원', '세빛섬', '솔찬공원', '송우관광농원 페리아도 워터파크', '송파구자원순환공원', '스트레칭조이', '스파어바인',\n",
    " '신사공원', '씨사이드파크하늘구름광장', '씨사이드파크해수족욕장', '아르티스 테마파크', '아이스하우스 아이스링크', '아쿠아필드 고양',\n",
    " '양주 나리공원', '여의도한강공원 멀티프라자', '여주강변유원지', '여주도자세상', '역곡공원', '역삼개나리공원', '영흥면에너지파크',\n",
    " '오이도 선사유적공원', '올리바인 스파', '올림픽공원피크닉장', '용마공원놀이동산(용마랜드)', '용산공원 (옛 미군기지)', '용산역광장',\n",
    " '용인 곤충테마파크', '우장산공원', '원마운트 워터파크', '원주 산악자전거파크', '월드컵공원', '월문온천 휴양지', '유엔군 초전기념관',\n",
    " '윤동주시인의언덕', '율암온천숯가마 테마파크', '율현공원', '은가어린이공원', '은곡마을공원', '응봉체육공원', '인더쥬동물원',\n",
    " '인천항 국제여객터미널', '인천항 크루즈터미널', '일원장미공원', '잠실유수지공원', '장안근린공원', '주암체육소공원', '주인근린공원',\n",
    " '청계광장', '청라 스파렉스', '코엑스동측광장', '테르메덴', '파라다이스 씨티 씨메르(인천)', '파라다이스시티', \n",
    " '파라다이스시티 원더박스', '파주가야랜드', '펄벅기념관', '평화광장', '평화의공원', '평화잔디광장', '플레이 아쿠아리움 부천',\n",
    " '하남아이스링크', '하늘체육공원', '하니랜드', '한국민속촌 눈썰매장', '한방스파 여용국', '한솔공원', '한수공원', '한양공원',\n",
    " '해수워터피아', '헬로애니멀', '현대원서공원', '홍익문화공원', '화랑대 철도공원', '화성식염온천', '황금내근린공원', \n",
    " '서울국제가구 및 인테리어산업대전 : 소펀&라이프쇼', '연평도(대/소 연평도)', '이포보오토캠핑장_양촌지구', '이포보웰빙캠핑장_담낭지구',\n",
    " '모나캠핑파크/독박골대청마루', '한국국제가구 및 인테리어산업대전 : 코펀', '<청와대 국민과 함께> 영상전시']\n",
    "\n",
    "df_filtered = unique_df.filter(~col('명칭').isin(remove_list))"
   ]
  },
  {
   "cell_type": "code",
   "execution_count": 30,
   "id": "97d1f3c9-401c-4fe6-8fe2-6015b33eac02",
   "metadata": {},
   "outputs": [
    {
     "name": "stdout",
     "output_type": "stream",
     "text": [
      "이미지 파일이 없는 데이터 갯수:  133\n"
     ]
    }
   ],
   "source": [
    "# 확인 \n",
    "print('이미지 파일이 없는 데이터 갯수: ', len(remove_list))"
   ]
  },
  {
   "cell_type": "code",
   "execution_count": 31,
   "id": "2e6dded7-3cc5-45d7-8b33-01462a741a58",
   "metadata": {},
   "outputs": [],
   "source": [
    "# 이미지 파일이 없는 데이터 제거 (2)\n",
    "df_tmp = df_filtered.filter(~((col('명칭') == '마루공원') & (col('주소') == '서울특별시 강남구 개포로109길 74(개포동)')))\n",
    "df_filtered_fin = df_tmp.filter(~((col('명칭') == '중앙공원') & (col('주소') == '경기도 군포시 광정로 96(산본동)')))"
   ]
  },
  {
   "cell_type": "code",
   "execution_count": 32,
   "id": "9b55ad63-3ed6-41fe-bc89-b4c732d0263f",
   "metadata": {
    "scrolled": true
   },
   "outputs": [
    {
     "name": "stdout",
     "output_type": "stream",
     "text": [
      "+--------+--------------------------------+\n",
      "|    명칭|                            주소|\n",
      "+--------+--------------------------------+\n",
      "|마루공원|경기도 성남시 분당구 수내로 2...|\n",
      "+--------+--------------------------------+\n",
      "\n",
      "+--------+-------------------------------+\n",
      "|    명칭|                           주소|\n",
      "+--------+-------------------------------+\n",
      "|중앙공원|인천광역시 남동구 예술로 125...|\n",
      "+--------+-------------------------------+\n",
      "\n"
     ]
    }
   ],
   "source": [
    "# 확인 \n",
    "## 이미지 데이터 잘 제거되었는지\n",
    "df_filtered_fin.select('명칭', '주소').where(col('명칭')=='마루공원').show() # 성남인 데이터는 살아 있어야 함 \n",
    "df_filtered_fin.select('명칭', '주소').where(col('명칭')=='중앙공원').show() # 인천인 데이터는 살아 있어야 함 "
   ]
  },
  {
   "cell_type": "code",
   "execution_count": 33,
   "id": "ada6c417-2ca1-4fb2-83d1-e484b55f3e2c",
   "metadata": {
    "scrolled": true
   },
   "outputs": [
    {
     "name": "stdout",
     "output_type": "stream",
     "text": [
      "<class 'pandas.core.frame.DataFrame'>\n",
      "RangeIndex: 3504 entries, 0 to 3503\n",
      "Data columns (total 24 columns):\n",
      " #   Column         Non-Null Count  Dtype  \n",
      "---  ------         --------------  -----  \n",
      " 0   개요             3501 non-null   object \n",
      " 1   개장기간           577 non-null    object \n",
      " 2   공연시간           30 non-null     object \n",
      " 3   관람소요시간         240 non-null    object \n",
      " 4   명칭             3504 non-null   object \n",
      " 5   분류             3504 non-null   object \n",
      " 6   상세정보           3038 non-null   object \n",
      " 7   쉬는날            2304 non-null   object \n",
      " 8   애완동물 동반 가능 여부  3504 non-null   object \n",
      " 9   우편번호           3400 non-null   object \n",
      " 10  유모차 대여 여부      3504 non-null   object \n",
      " 11  이용시간           2678 non-null   object \n",
      " 12  이용시기           11 non-null     object \n",
      " 13  이용요금           670 non-null    object \n",
      " 14  입장료            22 non-null     object \n",
      " 15  전화번호           104 non-null    object \n",
      " 16  주소             3502 non-null   object \n",
      " 17  주차시설           1933 non-null   object \n",
      " 18  주차요금           1168 non-null   object \n",
      " 19  지역             3504 non-null   object \n",
      " 20  체험안내           381 non-null    object \n",
      " 21  행사시작일          33 non-null     float64\n",
      " 22  행사종료일          33 non-null     float64\n",
      " 23  관광지 분류         3504 non-null   object \n",
      "dtypes: float64(2), object(22)\n",
      "memory usage: 657.1+ KB\n"
     ]
    }
   ],
   "source": [
    "# 최종확인\n",
    "## 총 데이터 갯수 : 3644(기존 데이터 갯수) - 5 (중복된 데이터 갯수) - 135(이미지 없는 데이터 갯수) = 3504개가 나와야 함\n",
    "tmp = df_filtered_fin.toPandas()\n",
    "tmp.info()"
   ]
  },
  {
   "cell_type": "markdown",
   "id": "57db4264-85a2-447b-9980-c4410d20539b",
   "metadata": {},
   "source": [
    "## **7️⃣ 인덱스 생성**"
   ]
  },
  {
   "cell_type": "code",
   "execution_count": null,
   "id": "f1cfd3b2",
   "metadata": {},
   "outputs": [],
   "source": [
    "# df_with_index = df_filtered_fin.toPandas()"
   ]
  },
  {
   "cell_type": "code",
   "execution_count": null,
   "id": "6095a32e",
   "metadata": {},
   "outputs": [],
   "source": [
    "# df_with_index.reset_index(inplace=True)\n",
    "# df_with_index.rename(columns={'Unnamed: 0':'id'}, inplace=True)"
   ]
  },
  {
   "cell_type": "code",
   "execution_count": null,
   "id": "14a74d19",
   "metadata": {},
   "outputs": [],
   "source": [
    "# df_with_index['index'] = df_with_index['index']+1"
   ]
  },
  {
   "cell_type": "code",
   "execution_count": null,
   "id": "8baf7e1a",
   "metadata": {},
   "outputs": [],
   "source": [
    "# df_with_index.head(2)\n",
    "# df_with_index.info()"
   ]
  },
  {
   "cell_type": "code",
   "execution_count": 38,
   "id": "0fd24795",
   "metadata": {},
   "outputs": [],
   "source": [
    "######## 맞춰야 할 index ########\n",
    "# check_index   : pd\n",
    "# df_idx   : spark"
   ]
  },
  {
   "cell_type": "code",
   "execution_count": 34,
   "id": "ac750b34",
   "metadata": {},
   "outputs": [],
   "source": [
    "# df_idx = spark.read.json('/raw_data/travel_data_idx.json', encoding='utf-8')"
   ]
  },
  {
   "cell_type": "code",
   "execution_count": 35,
   "id": "008220cb",
   "metadata": {},
   "outputs": [],
   "source": [
    "# check_index = df_idx.toPandas()"
   ]
  },
  {
   "cell_type": "code",
   "execution_count": 43,
   "id": "3822ca49",
   "metadata": {
    "scrolled": true
   },
   "outputs": [
    {
     "data": {
      "text/html": [
       "<div>\n",
       "<style scoped>\n",
       "    .dataframe tbody tr th:only-of-type {\n",
       "        vertical-align: middle;\n",
       "    }\n",
       "\n",
       "    .dataframe tbody tr th {\n",
       "        vertical-align: top;\n",
       "    }\n",
       "\n",
       "    .dataframe thead th {\n",
       "        text-align: right;\n",
       "    }\n",
       "</style>\n",
       "<table border=\"1\" class=\"dataframe\">\n",
       "  <thead>\n",
       "    <tr style=\"text-align: right;\">\n",
       "      <th></th>\n",
       "      <th>Unnamed: 0</th>\n",
       "      <th>index</th>\n",
       "      <th>개요</th>\n",
       "      <th>개장기간</th>\n",
       "      <th>공연시간</th>\n",
       "      <th>관광지 분류</th>\n",
       "      <th>관람소요시간</th>\n",
       "      <th>명칭</th>\n",
       "      <th>분류</th>\n",
       "      <th>상세정보</th>\n",
       "      <th>...</th>\n",
       "      <th>이용요금</th>\n",
       "      <th>입장료</th>\n",
       "      <th>전화번호</th>\n",
       "      <th>주소</th>\n",
       "      <th>주차시설</th>\n",
       "      <th>주차요금</th>\n",
       "      <th>지역</th>\n",
       "      <th>체험안내</th>\n",
       "      <th>행사시작일</th>\n",
       "      <th>행사종료일</th>\n",
       "    </tr>\n",
       "  </thead>\n",
       "  <tbody>\n",
       "    <tr>\n",
       "      <th>3503</th>\n",
       "      <td>3504</td>\n",
       "      <td>3504</td>\n",
       "      <td>경기도에서 정식 온천으로 허가받은 자연 용출수 온천을 이용할 수 있다. 이곳에서 사...</td>\n",
       "      <td>None</td>\n",
       "      <td>None</td>\n",
       "      <td>인문관광지</td>\n",
       "      <td>None</td>\n",
       "      <td>힐사이드온천텔</td>\n",
       "      <td>휴양관광지</td>\n",
       "      <td>입 장 료:- 대실 25,000원~40,000원&lt;br&gt;\\n- 숙박 40,000원~1...</td>\n",
       "      <td>...</td>\n",
       "      <td>None</td>\n",
       "      <td>None</td>\n",
       "      <td>None</td>\n",
       "      <td>경기도 화성시 팔탄면 온천로 428-12</td>\n",
       "      <td>주차가능</td>\n",
       "      <td>None</td>\n",
       "      <td>경기도</td>\n",
       "      <td>None</td>\n",
       "      <td>NaN</td>\n",
       "      <td>NaN</td>\n",
       "    </tr>\n",
       "  </tbody>\n",
       "</table>\n",
       "<p>1 rows × 26 columns</p>\n",
       "</div>"
      ],
      "text/plain": [
       "      Unnamed: 0  index                                                 개요  \\\n",
       "3503        3504   3504  경기도에서 정식 온천으로 허가받은 자연 용출수 온천을 이용할 수 있다. 이곳에서 사...   \n",
       "\n",
       "      개장기간  공연시간 관광지 분류 관람소요시간       명칭     분류  \\\n",
       "3503  None  None  인문관광지   None  힐사이드온천텔  휴양관광지   \n",
       "\n",
       "                                                   상세정보  ...  이용요금   입장료  \\\n",
       "3503  입 장 료:- 대실 25,000원~40,000원<br>\\n- 숙박 40,000원~1...  ...  None  None   \n",
       "\n",
       "      전화번호                      주소  주차시설  주차요금   지역  체험안내 행사시작일 행사종료일  \n",
       "3503  None  경기도 화성시 팔탄면 온천로 428-12  주차가능  None  경기도  None   NaN   NaN  \n",
       "\n",
       "[1 rows x 26 columns]"
      ]
     },
     "execution_count": 43,
     "metadata": {},
     "output_type": "execute_result"
    }
   ],
   "source": [
    "# 확인\n",
    "# check_index[check_index['index']==3504]"
   ]
  },
  {
   "cell_type": "code",
   "execution_count": 45,
   "id": "082b9285",
   "metadata": {},
   "outputs": [
    {
     "name": "stdout",
     "output_type": "stream",
     "text": [
      "<class 'pandas.core.frame.DataFrame'>\n",
      "RangeIndex: 3504 entries, 0 to 3503\n",
      "Data columns (total 26 columns):\n",
      " #   Column         Non-Null Count  Dtype  \n",
      "---  ------         --------------  -----  \n",
      " 0   Unnamed: 0     3504 non-null   int64  \n",
      " 1   index          3504 non-null   int64  \n",
      " 2   개요             3501 non-null   object \n",
      " 3   개장기간           577 non-null    object \n",
      " 4   공연시간           30 non-null     object \n",
      " 5   관광지 분류         3504 non-null   object \n",
      " 6   관람소요시간         240 non-null    object \n",
      " 7   명칭             3504 non-null   object \n",
      " 8   분류             3504 non-null   object \n",
      " 9   상세정보           3038 non-null   object \n",
      " 10  쉬는날            2304 non-null   object \n",
      " 11  애완동물 동반 가능 여부  3504 non-null   object \n",
      " 12  우편번호           3400 non-null   object \n",
      " 13  유모차 대여 여부      3504 non-null   object \n",
      " 14  이용시간           2678 non-null   object \n",
      " 15  이용시기           11 non-null     object \n",
      " 16  이용요금           670 non-null    object \n",
      " 17  입장료            22 non-null     object \n",
      " 18  전화번호           104 non-null    object \n",
      " 19  주소             3502 non-null   object \n",
      " 20  주차시설           1933 non-null   object \n",
      " 21  주차요금           1168 non-null   object \n",
      " 22  지역             3504 non-null   object \n",
      " 23  체험안내           381 non-null    object \n",
      " 24  행사시작일          33 non-null     float64\n",
      " 25  행사종료일          33 non-null     float64\n",
      "dtypes: float64(2), int64(2), object(22)\n",
      "memory usage: 711.9+ KB\n"
     ]
    }
   ],
   "source": [
    "# check_index.info()"
   ]
  },
  {
   "cell_type": "code",
   "execution_count": 46,
   "id": "48557925",
   "metadata": {},
   "outputs": [],
   "source": [
    "# check_index.drop(columns=['Unnamed: 0'], inplace=True)"
   ]
  },
  {
   "cell_type": "code",
   "execution_count": 47,
   "id": "e5a92f6d",
   "metadata": {
    "scrolled": true
   },
   "outputs": [
    {
     "data": {
      "text/html": [
       "<div>\n",
       "<style scoped>\n",
       "    .dataframe tbody tr th:only-of-type {\n",
       "        vertical-align: middle;\n",
       "    }\n",
       "\n",
       "    .dataframe tbody tr th {\n",
       "        vertical-align: top;\n",
       "    }\n",
       "\n",
       "    .dataframe thead th {\n",
       "        text-align: right;\n",
       "    }\n",
       "</style>\n",
       "<table border=\"1\" class=\"dataframe\">\n",
       "  <thead>\n",
       "    <tr style=\"text-align: right;\">\n",
       "      <th></th>\n",
       "      <th>index</th>\n",
       "      <th>개요</th>\n",
       "      <th>개장기간</th>\n",
       "      <th>공연시간</th>\n",
       "      <th>관광지 분류</th>\n",
       "      <th>관람소요시간</th>\n",
       "      <th>명칭</th>\n",
       "      <th>분류</th>\n",
       "      <th>상세정보</th>\n",
       "      <th>쉬는날</th>\n",
       "      <th>...</th>\n",
       "      <th>이용요금</th>\n",
       "      <th>입장료</th>\n",
       "      <th>전화번호</th>\n",
       "      <th>주소</th>\n",
       "      <th>주차시설</th>\n",
       "      <th>주차요금</th>\n",
       "      <th>지역</th>\n",
       "      <th>체험안내</th>\n",
       "      <th>행사시작일</th>\n",
       "      <th>행사종료일</th>\n",
       "    </tr>\n",
       "  </thead>\n",
       "  <tbody>\n",
       "    <tr>\n",
       "      <th>0</th>\n",
       "      <td>1</td>\n",
       "      <td>교보문고 광화문점은 국민교육 진흥의 실천적 구현, 독서인구 저변 확대를 통한 국민정...</td>\n",
       "      <td>None</td>\n",
       "      <td>None</td>\n",
       "      <td>문화시설</td>\n",
       "      <td>None</td>\n",
       "      <td>(주)교보문고</td>\n",
       "      <td>문화시설</td>\n",
       "      <td>None</td>\n",
       "      <td>설/추석 당일</td>\n",
       "      <td>...</td>\n",
       "      <td>무료</td>\n",
       "      <td>None</td>\n",
       "      <td>None</td>\n",
       "      <td>서울특별시 종로구 종로 1(종로1가)</td>\n",
       "      <td>주차 가능</td>\n",
       "      <td>유료 (회원여부/구매금액에 따라 무료주차헤택 적용)</td>\n",
       "      <td>서울</td>\n",
       "      <td>None</td>\n",
       "      <td>NaN</td>\n",
       "      <td>NaN</td>\n",
       "    </tr>\n",
       "    <tr>\n",
       "      <th>1</th>\n",
       "      <td>2</td>\n",
       "      <td>※ 민통초소에 신분증 제시하여 출입 가능 (25인 이상 출입시 일주일 전 신청서 제...</td>\n",
       "      <td>None</td>\n",
       "      <td>None</td>\n",
       "      <td>인문관광지</td>\n",
       "      <td>None</td>\n",
       "      <td>1.21 무장공비 침투로</td>\n",
       "      <td>역사관광지</td>\n",
       "      <td>화장실:있음\\n</td>\n",
       "      <td>매주 화요일</td>\n",
       "      <td>...</td>\n",
       "      <td>None</td>\n",
       "      <td>None</td>\n",
       "      <td>None</td>\n",
       "      <td>경기도 연천군 장남면 반정리 294</td>\n",
       "      <td>None</td>\n",
       "      <td>None</td>\n",
       "      <td>경기도</td>\n",
       "      <td>None</td>\n",
       "      <td>NaN</td>\n",
       "      <td>NaN</td>\n",
       "    </tr>\n",
       "    <tr>\n",
       "      <th>2</th>\n",
       "      <td>3</td>\n",
       "      <td>코리아그랜드세일은 관광과 한류가 융복합된 외국인 대상의 한국 대표 쇼핑문화관광축제로...</td>\n",
       "      <td>None</td>\n",
       "      <td>None</td>\n",
       "      <td>축제공연행사</td>\n",
       "      <td>None</td>\n",
       "      <td>2024 코리아그랜드세일</td>\n",
       "      <td>공연행사</td>\n",
       "      <td>행사소개:코리아그랜드세일은 관광과 한류가 융복합된 외국인 대상의 한국 대표 쇼핑문화...</td>\n",
       "      <td>None</td>\n",
       "      <td>...</td>\n",
       "      <td>무료</td>\n",
       "      <td>None</td>\n",
       "      <td>070-7787-4242</td>\n",
       "      <td>서울특별시 종로구 인사동5길 29 태화빌딩802호</td>\n",
       "      <td>None</td>\n",
       "      <td>None</td>\n",
       "      <td>서울</td>\n",
       "      <td>None</td>\n",
       "      <td>20240111.0</td>\n",
       "      <td>20240229.0</td>\n",
       "    </tr>\n",
       "    <tr>\n",
       "      <th>3</th>\n",
       "      <td>4</td>\n",
       "      <td>경기도 화성시 서신면에 위치해 있는 24시 마린 낚시는 주변에 전곡항, 탄도항, 제...</td>\n",
       "      <td>None</td>\n",
       "      <td>None</td>\n",
       "      <td>레포츠</td>\n",
       "      <td>None</td>\n",
       "      <td>24시 마린낚시(전곡항 24 마린낚시)</td>\n",
       "      <td>레포츠</td>\n",
       "      <td>포인트안내:\\n이용요금:선박별 상이 홈페이지 참조\\n보유장비: 22인승, 21인승,...</td>\n",
       "      <td>None</td>\n",
       "      <td>...</td>\n",
       "      <td>None</td>\n",
       "      <td>None</td>\n",
       "      <td>None</td>\n",
       "      <td>경기도 화성시 서신면 전곡항로 317</td>\n",
       "      <td>None</td>\n",
       "      <td>None</td>\n",
       "      <td>경기도</td>\n",
       "      <td>None</td>\n",
       "      <td>NaN</td>\n",
       "      <td>NaN</td>\n",
       "    </tr>\n",
       "    <tr>\n",
       "      <th>4</th>\n",
       "      <td>5</td>\n",
       "      <td>그림을 열망하던 청년은 첫 월급 3000원을 쪼개 그림 한 점을 구입했다. 당시 가...</td>\n",
       "      <td>None</td>\n",
       "      <td>None</td>\n",
       "      <td>문화시설</td>\n",
       "      <td>None</td>\n",
       "      <td>93뮤지엄</td>\n",
       "      <td>문화시설</td>\n",
       "      <td>None</td>\n",
       "      <td>매주 월요일(단,월요일이 공휴일인 경우 정상 개관,해당주 화요일 휴관)</td>\n",
       "      <td>...</td>\n",
       "      <td>기간에따라 변동</td>\n",
       "      <td>None</td>\n",
       "      <td>None</td>\n",
       "      <td>경기도 파주시 탄현면 헤이리마을길 59-58헤이리예술마을 G-31</td>\n",
       "      <td>주차가능</td>\n",
       "      <td>None</td>\n",
       "      <td>경기도</td>\n",
       "      <td>None</td>\n",
       "      <td>NaN</td>\n",
       "      <td>NaN</td>\n",
       "    </tr>\n",
       "  </tbody>\n",
       "</table>\n",
       "<p>5 rows × 25 columns</p>\n",
       "</div>"
      ],
      "text/plain": [
       "   index                                                 개요  개장기간  공연시간  \\\n",
       "0      1  교보문고 광화문점은 국민교육 진흥의 실천적 구현, 독서인구 저변 확대를 통한 국민정...  None  None   \n",
       "1      2  ※ 민통초소에 신분증 제시하여 출입 가능 (25인 이상 출입시 일주일 전 신청서 제...  None  None   \n",
       "2      3  코리아그랜드세일은 관광과 한류가 융복합된 외국인 대상의 한국 대표 쇼핑문화관광축제로...  None  None   \n",
       "3      4  경기도 화성시 서신면에 위치해 있는 24시 마린 낚시는 주변에 전곡항, 탄도항, 제...  None  None   \n",
       "4      5  그림을 열망하던 청년은 첫 월급 3000원을 쪼개 그림 한 점을 구입했다. 당시 가...  None  None   \n",
       "\n",
       "   관광지 분류 관람소요시간                     명칭     분류  \\\n",
       "0    문화시설   None                (주)교보문고   문화시설   \n",
       "1   인문관광지   None          1.21 무장공비 침투로  역사관광지   \n",
       "2  축제공연행사   None          2024 코리아그랜드세일   공연행사   \n",
       "3     레포츠   None  24시 마린낚시(전곡항 24 마린낚시)    레포츠   \n",
       "4    문화시설   None                  93뮤지엄   문화시설   \n",
       "\n",
       "                                                상세정보  \\\n",
       "0                                               None   \n",
       "1                                           화장실:있음\\n   \n",
       "2  행사소개:코리아그랜드세일은 관광과 한류가 융복합된 외국인 대상의 한국 대표 쇼핑문화...   \n",
       "3  포인트안내:\\n이용요금:선박별 상이 홈페이지 참조\\n보유장비: 22인승, 21인승,...   \n",
       "4                                               None   \n",
       "\n",
       "                                       쉬는날  ...      이용요금   입장료  \\\n",
       "0                                  설/추석 당일  ...        무료  None   \n",
       "1                                   매주 화요일  ...      None  None   \n",
       "2                                     None  ...        무료  None   \n",
       "3                                     None  ...      None  None   \n",
       "4  매주 월요일(단,월요일이 공휴일인 경우 정상 개관,해당주 화요일 휴관)  ...  기간에따라 변동  None   \n",
       "\n",
       "            전화번호                                    주소   주차시설  \\\n",
       "0           None                  서울특별시 종로구 종로 1(종로1가)  주차 가능   \n",
       "1           None                   경기도 연천군 장남면 반정리 294   None   \n",
       "2  070-7787-4242           서울특별시 종로구 인사동5길 29 태화빌딩802호   None   \n",
       "3           None                  경기도 화성시 서신면 전곡항로 317   None   \n",
       "4           None  경기도 파주시 탄현면 헤이리마을길 59-58헤이리예술마을 G-31   주차가능   \n",
       "\n",
       "                           주차요금   지역  체험안내       행사시작일       행사종료일  \n",
       "0  유료 (회원여부/구매금액에 따라 무료주차헤택 적용)   서울  None         NaN         NaN  \n",
       "1                          None  경기도  None         NaN         NaN  \n",
       "2                          None   서울  None  20240111.0  20240229.0  \n",
       "3                          None  경기도  None         NaN         NaN  \n",
       "4                          None  경기도  None         NaN         NaN  \n",
       "\n",
       "[5 rows x 25 columns]"
      ]
     },
     "execution_count": 47,
     "metadata": {},
     "output_type": "execute_result"
    }
   ],
   "source": [
    "# check_index.head()"
   ]
  },
  {
   "cell_type": "code",
   "execution_count": 48,
   "id": "b9df0f55-32f8-4bc3-be63-64a2c011b1f1",
   "metadata": {},
   "outputs": [],
   "source": [
    "# 다시 spark df 로 \n",
    "\n",
    "# # 'Attribute Error: 'iteritems'가 없다고 나올때\n",
    "# import pandas as pd\n",
    "# pd.DataFrame.iteritems = pd.DataFrame.items\n",
    "\n",
    "spark_df = spark.createDataFrame(check_index)"
   ]
  },
  {
   "cell_type": "code",
   "execution_count": 49,
   "id": "b9a46688-a2a2-48b6-9736-0a8ab7be806d",
   "metadata": {},
   "outputs": [
    {
     "data": {
      "text/plain": [
       "pyspark.sql.dataframe.DataFrame"
      ]
     },
     "execution_count": 49,
     "metadata": {},
     "output_type": "execute_result"
    }
   ],
   "source": [
    "type(spark_df)"
   ]
  },
  {
   "cell_type": "markdown",
   "id": "01737435-f2da-42fc-9ef8-d855404bef6b",
   "metadata": {},
   "source": [
    "## **파일 저장**"
   ]
  },
  {
   "cell_type": "code",
   "execution_count": 47,
   "id": "1413c270-f343-437d-a038-c9c60f1772ea",
   "metadata": {},
   "outputs": [],
   "source": [
    "# csv, xlsx 파일로 저장\n",
    "# df_with_index.to_csv('./travel_data_idx.csv')\n",
    "# df_with_index.to_excel('./travel_data_idx.xlsx')"
   ]
  },
  {
   "cell_type": "code",
   "execution_count": 50,
   "id": "2babbd8f-75c9-46b0-9c6b-a6b8d1844ea1",
   "metadata": {},
   "outputs": [],
   "source": [
    "# hdfs에 저장\n",
    "spark_df.coalesce(1).write.format('json').save('/dw_data/travel_data_preprocessed.json')"
   ]
  }
 ],
 "metadata": {
  "kernelspec": {
   "display_name": "Python 3",
   "language": "python",
   "name": "python3"
  },
  "language_info": {
   "codemirror_mode": {
    "name": "ipython",
    "version": 3
   },
   "file_extension": ".py",
   "mimetype": "text/x-python",
   "name": "python",
   "nbconvert_exporter": "python",
   "pygments_lexer": "ipython3",
   "version": "3.6.9"
  }
 },
 "nbformat": 4,
 "nbformat_minor": 5
}
